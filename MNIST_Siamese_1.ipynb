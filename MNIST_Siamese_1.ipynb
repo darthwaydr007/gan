{
  "nbformat": 4,
  "nbformat_minor": 0,
  "metadata": {
    "colab": {
      "name": "MNIST_Siamese-1.ipynb",
      "provenance": [],
      "mount_file_id": "1M2IQVFi63GJ0-bfz0a053STdUc4_G_4s",
      "authorship_tag": "ABX9TyOpuuSm8mitNjgdnOwZ9zrx",
      "include_colab_link": true
    },
    "kernelspec": {
      "name": "python3",
      "display_name": "Python 3"
    },
    "accelerator": "GPU"
  },
  "cells": [
    {
      "cell_type": "markdown",
      "metadata": {
        "id": "view-in-github",
        "colab_type": "text"
      },
      "source": [
        "<a href=\"https://colab.research.google.com/github/darthwaydr007/gan/blob/master/MNIST_Siamese_1.ipynb\" target=\"_parent\"><img src=\"https://colab.research.google.com/assets/colab-badge.svg\" alt=\"Open In Colab\"/></a>"
      ]
    },
    {
      "cell_type": "code",
      "metadata": {
        "id": "3rz865ZLmcAs",
        "colab_type": "code",
        "colab": {
          "base_uri": "https://localhost:8080/",
          "height": 52
        },
        "outputId": "d89a5355-08b1-4584-fa12-82d08fe31f51"
      },
      "source": [
        "import torch\n",
        "import torch.nn as nn\n",
        "import torch.nn.functional as F\n",
        "import torch.optim as optim\n",
        "from torchvision import datasets, transforms\n",
        "from torch.utils.data import Dataset\n",
        "from torch.autograd import Variable\n",
        "from torchvision.utils import save_image\n",
        "import matplotlib.pyplot as plt\n",
        "import numpy as np\n",
        "import torchvision\n",
        "import pandas as pd\n",
        "import random\n",
        "if torch.cuda.is_available():    \n",
        "    device = torch.device(\"cuda\")\n",
        "    print('There are %d GPU available.' % torch.cuda.device_count())\n",
        "    print('GPU:', torch.cuda.get_device_name(0))\n",
        "else:\n",
        "    print('No GPU')\n",
        "    device = torch.device(\"cpu\")\n",
        "    "
      ],
      "execution_count": null,
      "outputs": [
        {
          "output_type": "stream",
          "text": [
            "There are 1 GPU available.\n",
            "GPU: Tesla K80\n"
          ],
          "name": "stdout"
        }
      ]
    },
    {
      "cell_type": "code",
      "metadata": {
        "id": "ErOt31ijnvxT",
        "colab_type": "code",
        "colab": {
          "base_uri": "https://localhost:8080/",
          "height": 105
        },
        "outputId": "347d0d87-93a5-43be-d451-e42437e1656e"
      },
      "source": [
        "'''\n",
        "BATCH_SIZE = 64\n",
        "# MNIST Dataset\n",
        "transform = transforms.Compose([\n",
        "    transforms.ToTensor(),\n",
        "    transforms.Normalize(mean=(0.5), std=(0.5))])\n",
        "\n",
        "mnist_train = datasets.MNIST(root='/content/drive/My Drive/MNIST', train=True, download=False, transform=transform)\n",
        "mnist_test = datasets.MNIST(root='/content/drive/My Drive/MNIST', train=False, download=False, transform=transform)\n",
        "\n",
        "train_loader = torch.utils.data.DataLoader(mnist_train , batch_size = BATCH_SIZE, shuffle = True , drop_last=True)\n",
        "test_loader = torch.utils.data.DataLoader(mnist_test , batch_size = BATCH_SIZE , shuffle = False , drop_last=True)\n",
        "'''"
      ],
      "execution_count": null,
      "outputs": [
        {
          "output_type": "execute_result",
          "data": {
            "application/vnd.google.colaboratory.intrinsic": {
              "type": "string"
            },
            "text/plain": [
              "\"\\nBATCH_SIZE = 64\\n# MNIST Dataset\\ntransform = transforms.Compose([\\n    transforms.ToTensor(),\\n    transforms.Normalize(mean=(0.5), std=(0.5))])\\n\\nmnist_train = datasets.MNIST(root='/content/drive/My Drive/MNIST', train=True, download=False, transform=transform)\\nmnist_test = datasets.MNIST(root='/content/drive/My Drive/MNIST', train=False, download=False, transform=transform)\\n\\ntrain_loader = torch.utils.data.DataLoader(mnist_train , batch_size = BATCH_SIZE, shuffle = True , drop_last=True)\\ntest_loader = torch.utils.data.DataLoader(mnist_test , batch_size = BATCH_SIZE , shuffle = False , drop_last=True)\\n\""
            ]
          },
          "metadata": {
            "tags": []
          },
          "execution_count": 20
        }
      ]
    },
    {
      "cell_type": "code",
      "metadata": {
        "id": "F6ZSt6njQXwc",
        "colab_type": "code",
        "colab": {}
      },
      "source": [
        "mnist_train = pd.read_csv('/content/sample_data/mnist_train_small.csv')\n",
        "train_labels = mnist_train.iloc[:,0]\n",
        "mnist_train.drop(mnist_train.columns[0], axis=1, inplace=True)"
      ],
      "execution_count": null,
      "outputs": []
    },
    {
      "cell_type": "code",
      "metadata": {
        "id": "tq6Cl10jQnAU",
        "colab_type": "code",
        "colab": {
          "base_uri": "https://localhost:8080/",
          "height": 282
        },
        "outputId": "aeb64066-7dbd-4449-fc60-27e430f71e52"
      },
      "source": [
        "image = mnist_train.iloc[0,:]\n",
        "x= image.to_numpy()\n",
        "plt.imshow(x.reshape(28, 28), cmap=\"gray\")"
      ],
      "execution_count": null,
      "outputs": [
        {
          "output_type": "execute_result",
          "data": {
            "text/plain": [
              "<matplotlib.image.AxesImage at 0x7fe006d6bc88>"
            ]
          },
          "metadata": {
            "tags": []
          },
          "execution_count": 22
        },
        {
          "output_type": "display_data",
          "data": {
            "image/png": "[encoded data removed]",
            "text/plain": [
              "<Figure size 432x288 with 1 Axes>"
            ]
          },
          "metadata": {
            "tags": [],
            "needs_background": "light"
          }
        }
      ]
    },
    {
      "cell_type": "code",
      "metadata": {
        "id": "wyi1LbvLS_80",
        "colab_type": "code",
        "colab": {}
      },
      "source": [
        "BATCH_SIZE = 32\n",
        "EPOCHS = 50"
      ],
      "execution_count": null,
      "outputs": []
    },
    {
      "cell_type": "code",
      "metadata": {
        "id": "i1Umqa6sQ8j0",
        "colab_type": "code",
        "colab": {}
      },
      "source": [
        "def generate_dataset(mnist_train , train_labels, label_len):\n",
        "  new_dataset1 = []\n",
        "  new_dataset2 = []\n",
        "  new_labels = []\n",
        "  classes = train_labels.unique()\n",
        "  for i in classes:\n",
        "    #idx_list = [idx if i == x else -1 for idx, x in enumerate(train_labels)]\n",
        "    idx_list = train_labels.index[train_labels.iloc[:] == i]\n",
        "    not_idx_list = train_labels.index[train_labels.iloc[:] != i]\n",
        "    for temp in range(0,label_len):\n",
        "      #positive sample\n",
        "      new_dataset1.append(torch.tensor(mnist_train.iloc[random.choice(idx_list)], dtype=torch.float , requires_grad=True))\n",
        "      new_dataset2.append(torch.tensor(mnist_train.iloc[random.choice(idx_list)], dtype=torch.float , requires_grad=True))\n",
        "      new_labels.append(torch.tensor(1., dtype=torch.float , requires_grad=True))\n",
        "      #negative sample\n",
        "      new_dataset1.append(torch.tensor(mnist_train.iloc[random.choice(idx_list)], dtype=torch.float , requires_grad=True))\n",
        "      new_dataset2.append(torch.tensor(mnist_train.iloc[random.choice(not_idx_list)], dtype=torch.float , requires_grad=True))\n",
        "      new_labels.append(torch.tensor(0., dtype=torch.float , requires_grad=True))\n",
        "  return new_dataset1 , new_dataset2 , new_labels"
      ],
      "execution_count": null,
      "outputs": []
    },
    {
      "cell_type": "code",
      "metadata": {
        "id": "8NNWjoRCTd-d",
        "colab_type": "code",
        "colab": {}
      },
      "source": [
        "new_dataset1 , new_dataset2 , new_labels =generate_dataset(mnist_train , train_labels, 100)"
      ],
      "execution_count": null,
      "outputs": []
    },
    {
      "cell_type": "code",
      "metadata": {
        "id": "N3YsES-_66iT",
        "colab_type": "code",
        "colab": {
          "base_uri": "https://localhost:8080/",
          "height": 35
        },
        "outputId": "77d55b9b-29f7-4896-a02d-0e129f8bf48d"
      },
      "source": [
        "len(new_dataset2[0])"
      ],
      "execution_count": null,
      "outputs": [
        {
          "output_type": "execute_result",
          "data": {
            "text/plain": [
              "784"
            ]
          },
          "metadata": {
            "tags": []
          },
          "execution_count": 26
        }
      ]
    },
    {
      "cell_type": "code",
      "metadata": {
        "id": "SUoW4Iio6mXE",
        "colab_type": "code",
        "colab": {
          "base_uri": "https://localhost:8080/",
          "height": 282
        },
        "outputId": "b1147854-6e7e-4c6f-82ce-fecc74944c18"
      },
      "source": [
        "x = new_dataset2[3]\n",
        "x= x.detach().numpy()\n",
        "plt.imshow(x.reshape(28, 28), cmap=\"gray\")"
      ],
      "execution_count": null,
      "outputs": [
        {
          "output_type": "execute_result",
          "data": {
            "text/plain": [
              "<matplotlib.image.AxesImage at 0x7fe007f2bf60>"
            ]
          },
          "metadata": {
            "tags": []
          },
          "execution_count": 27
        },
        {
          "output_type": "display_data",
          "data": {
            "image/png": "[encoded data removed]",
            "text/plain": [
              "<Figure size 432x288 with 1 Axes>"
            ]
          },
          "metadata": {
            "tags": [],
            "needs_background": "light"
          }
        }
      ]
    },
    {
      "cell_type": "code",
      "metadata": {
        "id": "mAcBjuL1RDD-",
        "colab_type": "code",
        "colab": {}
      },
      "source": [
        "class SiameseDataset(Dataset):\n",
        "  def __init__(self , train_dataset , labels, label_len ):\n",
        "    self.train_dataset = train_dataset\n",
        "    self.labels = labels\n",
        "    self.label_len = label_len\n",
        "    self.dataset1 , self.dataset2 , self.label = generate_dataset(self.train_dataset , self.labels , self.label_len)\n",
        "    self.length = len(self.label)\n",
        "  def __len__(self):\n",
        "    return self.length\n",
        "\n",
        "  def __getitem__(self , index):\n",
        "    return {\n",
        "        'img1' : self.dataset1[index] , \n",
        "        'img2' : self.dataset2[index] , \n",
        "        'label' :self.label[index]\n",
        "    }\n"
      ],
      "execution_count": null,
      "outputs": []
    },
    {
      "cell_type": "code",
      "metadata": {
        "id": "ZVZjZ-QaRRaW",
        "colab_type": "code",
        "colab": {}
      },
      "source": [
        "mnist_training = SiameseDataset(mnist_train , train_labels, 1000 )\n",
        "train_loader = torch.utils.data.DataLoader(mnist_training , batch_size = BATCH_SIZE, shuffle = True , drop_last=True)"
      ],
      "execution_count": null,
      "outputs": []
    },
    {
      "cell_type": "code",
      "metadata": {
        "id": "-n9Gu3Jcixs4",
        "colab_type": "code",
        "colab": {}
      },
      "source": [
        "class SiameseNet(nn.Module):\n",
        "  def __init__(self):\n",
        "    super().__init__()\n",
        "    self.model = nn.Sequential(\n",
        "            nn.Linear(784, 1024),\n",
        "            nn.LeakyReLU(0.2, inplace=True),\n",
        "            nn.Dropout(0.2),\n",
        "            nn.Linear(1024, 512),\n",
        "            nn.LeakyReLU(0.2, inplace=True),\n",
        "            nn.Dropout(0.2),\n",
        "            nn.Linear(512, 256),\n",
        "            nn.LeakyReLU(0.2, inplace=True),\n",
        "            nn.Dropout(0.2),\n",
        "            nn.Linear(256, 128),\n",
        "            nn.LeakyReLU(0.2, inplace=True),\n",
        "            nn.Dropout(0.2),\n",
        "            nn.Linear(128, 64),\n",
        "            nn.LeakyReLU(0.2, inplace=True),\n",
        "            nn.Dropout(0.2),\n",
        "            nn.Linear(64, 5)\n",
        "        )\n",
        "  \n",
        "  def forward(self , image1 , image2):\n",
        "    x1 = self.model(image1.view(image1.size(0),784))\n",
        "    x2 = self.model(image2.view(image2.size(0),784))\n",
        "    return x1.cuda(), x2.cuda()"
      ],
      "execution_count": null,
      "outputs": []
    },
    {
      "cell_type": "code",
      "metadata": {
        "id": "lZr6I_1hoJWx",
        "colab_type": "code",
        "colab": {}
      },
      "source": [
        "class ContrastiveLoss(torch.nn.Module):\n",
        "    def __init__(self, margin=2.0):\n",
        "        super(ContrastiveLoss, self).__init__()\n",
        "        self.margin = margin\n",
        "    def forward(self, output1, output2, label):\n",
        "        euclidean_distance = F.pairwise_distance(output1, output2)\n",
        "        loss_contrastive = torch.mean((1-label) * torch.pow(euclidean_distance, 2) +\n",
        "                                      (label) * torch.pow(torch.clamp(self.margin - euclidean_distance, min=0.0), 2))\n",
        "        return loss_contrastive"
      ],
      "execution_count": null,
      "outputs": []
    },
    {
      "cell_type": "code",
      "metadata": {
        "id": "jpRLMZAunxw0",
        "colab_type": "code",
        "colab": {}
      },
      "source": [
        "siameseNet = SiameseNet().to(device)\n",
        "criterion = ContrastiveLoss()\n",
        "lr = 0.0002\n",
        "optimizer = optim.Adam(siameseNet.parameters() , lr = lr)"
      ],
      "execution_count": null,
      "outputs": []
    },
    {
      "cell_type": "code",
      "metadata": {
        "id": "RseK63kENOFR",
        "colab_type": "code",
        "colab": {
          "base_uri": "https://localhost:8080/",
          "height": 35
        },
        "outputId": "31fdbb1e-dafa-4b70-c041-097ffe32274c"
      },
      "source": [
        "len(train_loader)"
      ],
      "execution_count": null,
      "outputs": [
        {
          "output_type": "execute_result",
          "data": {
            "text/plain": [
              "625"
            ]
          },
          "metadata": {
            "tags": []
          },
          "execution_count": 38
        }
      ]
    },
    {
      "cell_type": "code",
      "metadata": {
        "id": "BbxZdZGZRKsI",
        "colab_type": "code",
        "colab": {}
      },
      "source": [
        "transform = transforms.Compose([\n",
        "    transforms.ToTensor(),\n",
        "    transforms.Normalize(mean=(0.5), std=(0.5))])"
      ],
      "execution_count": null,
      "outputs": []
    },
    {
      "cell_type": "code",
      "metadata": {
        "id": "gKMRTw4xQF2c",
        "colab_type": "code",
        "colab": {}
      },
      "source": [
        "def display_grid(images):\n",
        "    grid_img = torchvision.utils.make_grid(images , nrow=1)\n",
        "    npimgs = grid_img.cpu().detach().numpy()\n",
        "    plt.figure(figsize=(8,8))\n",
        "    plt.imshow(np.transpose(npimgs, (1,2,0)), cmap='gray')\n",
        "    plt.show()\n",
        "#display_grid(images)"
      ],
      "execution_count": null,
      "outputs": []
    },
    {
      "cell_type": "code",
      "metadata": {
        "id": "UWp1WMFJx2e4",
        "colab_type": "code",
        "colab": {}
      },
      "source": [
        ""
      ],
      "execution_count": null,
      "outputs": []
    },
    {
      "cell_type": "code",
      "metadata": {
        "id": "Sl2gt1s-nyga",
        "colab_type": "code",
        "colab": {
          "base_uri": "https://localhost:8080/",
          "height": 1000
        },
        "outputId": "8460d630-f39f-4878-e68f-583adcbec192"
      },
      "source": [
        "for i in range(0,EPOCHS):\n",
        "  siameseNet.train()\n",
        "  total_loss = 0\n",
        "  print('======== Epoch {:} / {:} ========'.format(i + 1, EPOCHS))\n",
        "  for batch , (data) in enumerate(train_loader):\n",
        "    \n",
        "    img1 = data['img1']\n",
        "    img1 = transform(img1.detach().numpy())\n",
        "    img1 = img1.view(BATCH_SIZE,784).cuda()\n",
        "\n",
        "    img2 = data['img2']\n",
        "    img2 = transform(img2.detach().numpy())\n",
        "    img2 = img2.view(BATCH_SIZE,784).cuda()\n",
        "\n",
        "\n",
        "    label = data['label'].cuda()\n",
        "    \n",
        "    optimizer.zero_grad()\n",
        "    x1 , x2 = siameseNet(img1 , img2)\n",
        "    loss = criterion(x1 , x2 , label)\n",
        "    loss.backward()\n",
        "    optimizer.step()\n",
        "    total_loss = total_loss + loss.mean().item()\n",
        "    if batch % 100 == 0 and not batch == 0:\n",
        "          #print(final_label)\n",
        "          #img1 = img1[0].reshape(28, 28).cpu().detach()\n",
        "          #img2 = img2[0].reshape(28, 28).cpu().detach()\n",
        "          #print(label[0])\n",
        "          #concatenated = torch.cat((img1, img2),0)\n",
        "          #display_grid(concatenated)\n",
        "          print('AvgLoss : {:} , Batch Loss : {:}'.format(total_loss/batch , loss.mean().item()))\n",
        "          \n",
        "\n"
      ],
      "execution_count": null,
      "outputs": [
        {
          "output_type": "stream",
          "text": [
            "======== Epoch 1 / 50 ========\n",
            "AvgLoss : 2.889982805252075 , Loss : 1.0953013896942139\n",
            "AvgLoss : 2.004250367283821 , Loss : 1.028244137763977\n",
            "AvgLoss : 1.7085280881325404 , Loss : 1.2399752140045166\n",
            "AvgLoss : 1.5540357099473476 , Loss : 0.951750636100769\n",
            "AvgLoss : 1.4621913238763808 , Loss : 0.9679514169692993\n",
            "AvgLoss : 1.4009782499074936 , Loss : 1.310915231704712\n",
            "======== Epoch 2 / 50 ========\n",
            "AvgLoss : 1.0927769553661346 , Loss : 1.0344451665878296\n",
            "AvgLoss : 1.0874073857069015 , Loss : 1.0834368467330933\n",
            "AvgLoss : 1.0848797070980072 , Loss : 0.8691000938415527\n",
            "AvgLoss : 1.0830627673864364 , Loss : 1.0592280626296997\n",
            "AvgLoss : 1.0845277520418166 , Loss : 1.076776385307312\n",
            "AvgLoss : 1.0827523329854012 , Loss : 0.9136899709701538\n",
            "======== Epoch 3 / 50 ========\n",
            "AvgLoss : 1.0923879641294478 , Loss : 0.9793835878372192\n",
            "AvgLoss : 1.076866545379162 , Loss : 1.1319777965545654\n",
            "AvgLoss : 1.0816400810082754 , Loss : 1.0774611234664917\n",
            "AvgLoss : 1.0751297976076604 , Loss : 1.1118276119232178\n",
            "AvgLoss : 1.072994502544403 , Loss : 1.142150640487671\n",
            "AvgLoss : 1.0739105871319772 , Loss : 1.1225186586380005\n",
            "======== Epoch 4 / 50 ========\n",
            "AvgLoss : 1.0911211419105529 , Loss : 1.1747353076934814\n",
            "AvgLoss : 1.0829473197460175 , Loss : 1.1289002895355225\n",
            "AvgLoss : 1.0759331039587656 , Loss : 0.9605578184127808\n",
            "AvgLoss : 1.0731235827505587 , Loss : 1.013580083847046\n",
            "AvgLoss : 1.0720890572071076 , Loss : 1.0970473289489746\n",
            "AvgLoss : 1.0693125079075496 , Loss : 1.0454912185668945\n",
            "======== Epoch 5 / 50 ========\n",
            "AvgLoss : 1.0762112253904343 , Loss : 1.056646704673767\n",
            "AvgLoss : 1.0746199318766594 , Loss : 1.1085247993469238\n",
            "AvgLoss : 1.0676605224609375 , Loss : 0.9323960542678833\n",
            "AvgLoss : 1.0666238084435462 , Loss : 1.0980870723724365\n",
            "AvgLoss : 1.0697911523580552 , Loss : 1.1300034523010254\n",
            "AvgLoss : 1.072237479488055 , Loss : 0.914456307888031\n",
            "======== Epoch 6 / 50 ========\n",
            "AvgLoss : 1.1016365313529968 , Loss : 1.093545913696289\n",
            "AvgLoss : 1.0858827605843544 , Loss : 1.0371969938278198\n",
            "AvgLoss : 1.0746223992109298 , Loss : 0.9957523345947266\n",
            "AvgLoss : 1.07490649163723 , Loss : 1.012357473373413\n",
            "AvgLoss : 1.0722441600561141 , Loss : 0.9095233678817749\n",
            "AvgLoss : 1.071576908826828 , Loss : 0.9567058086395264\n",
            "======== Epoch 7 / 50 ========\n",
            "AvgLoss : 1.0705503261089324 , Loss : 1.0911622047424316\n",
            "AvgLoss : 1.0617261916399001 , Loss : 1.0615863800048828\n",
            "AvgLoss : 1.0572268664836884 , Loss : 1.0943737030029297\n",
            "AvgLoss : 1.0576070417463779 , Loss : 1.0397593975067139\n",
            "AvgLoss : 1.0611355739831925 , Loss : 1.2653992176055908\n",
            "AvgLoss : 1.064600340028604 , Loss : 1.057739019393921\n",
            "======== Epoch 8 / 50 ========\n",
            "AvgLoss : 1.0715374410152436 , Loss : 1.006719946861267\n",
            "AvgLoss : 1.0645915135741233 , Loss : 1.109402060508728\n",
            "AvgLoss : 1.061971928079923 , Loss : 1.123041033744812\n",
            "AvgLoss : 1.0626119621098042 , Loss : 0.9571018815040588\n",
            "AvgLoss : 1.0633571408987046 , Loss : 0.9438201189041138\n",
            "AvgLoss : 1.0680856095751126 , Loss : 1.003536343574524\n",
            "======== Epoch 9 / 50 ========\n",
            "AvgLoss : 1.079666754603386 , Loss : 1.0193111896514893\n",
            "AvgLoss : 1.0652189293503762 , Loss : 0.9597570300102234\n",
            "AvgLoss : 1.072347384095192 , Loss : 1.1087641716003418\n",
            "AvgLoss : 1.0662294237315655 , Loss : 0.9200511574745178\n",
            "AvgLoss : 1.0730922379493713 , Loss : 1.067833662033081\n",
            "AvgLoss : 1.0727604360381762 , Loss : 1.2013664245605469\n",
            "======== Epoch 10 / 50 ========\n",
            "AvgLoss : 1.0671972388029098 , Loss : 1.0526362657546997\n",
            "AvgLoss : 1.0697289878129959 , Loss : 1.0412399768829346\n",
            "AvgLoss : 1.0627469176054 , Loss : 1.0303231477737427\n",
            "AvgLoss : 1.0650321571528911 , Loss : 0.982353687286377\n",
            "AvgLoss : 1.0658699561357499 , Loss : 0.8056433796882629\n",
            "AvgLoss : 1.0628696342309316 , Loss : 0.9606448411941528\n",
            "======== Epoch 11 / 50 ========\n",
            "AvgLoss : 1.0554591381549836 , Loss : 0.9785000085830688\n",
            "AvgLoss : 1.0597129714488984 , Loss : 1.0419704914093018\n",
            "AvgLoss : 1.0573013840119043 , Loss : 1.072365403175354\n",
            "AvgLoss : 1.0587792117893695 , Loss : 1.0116376876831055\n",
            "AvgLoss : 1.0598463014364243 , Loss : 1.1139906644821167\n",
            "AvgLoss : 1.060989663898945 , Loss : 1.2312312126159668\n",
            "======== Epoch 12 / 50 ========\n",
            "AvgLoss : 1.0544336527585982 , Loss : 1.09115469455719\n",
            "AvgLoss : 1.0524357390403747 , Loss : 1.3191262483596802\n",
            "AvgLoss : 1.0504134752353032 , Loss : 1.1730254888534546\n",
            "AvgLoss : 1.051809965223074 , Loss : 1.0942000150680542\n",
            "AvgLoss : 1.0528732976913453 , Loss : 0.962110161781311\n",
            "AvgLoss : 1.0550870368878047 , Loss : 1.1389024257659912\n",
            "======== Epoch 13 / 50 ========\n",
            "AvgLoss : 1.0668331146240235 , Loss : 1.2203447818756104\n",
            "AvgLoss : 1.063787459731102 , Loss : 0.9530730247497559\n",
            "AvgLoss : 1.0598293685913085 , Loss : 1.198206901550293\n",
            "AvgLoss : 1.06175352409482 , Loss : 1.054829716682434\n",
            "AvgLoss : 1.0629884806871415 , Loss : 1.1256396770477295\n",
            "AvgLoss : 1.062757870554924 , Loss : 1.0274481773376465\n",
            "======== Epoch 14 / 50 ========\n",
            "AvgLoss : 1.0508233308792114 , Loss : 1.050955891609192\n",
            "AvgLoss : 1.0438287147879601 , Loss : 1.1433324813842773\n",
            "AvgLoss : 1.0513909171024958 , Loss : 1.0639599561691284\n",
            "AvgLoss : 1.0495298385620118 , Loss : 1.032069206237793\n",
            "AvgLoss : 1.051799437880516 , Loss : 1.0934531688690186\n",
            "AvgLoss : 1.0515406134724616 , Loss : 1.0573668479919434\n",
            "======== Epoch 15 / 50 ========\n",
            "AvgLoss : 1.0554476791620255 , Loss : 1.0719847679138184\n",
            "AvgLoss : 1.0536233451962471 , Loss : 1.179685115814209\n",
            "AvgLoss : 1.0444062079985936 , Loss : 1.097534418106079\n",
            "AvgLoss : 1.043650269061327 , Loss : 1.0877635478973389\n",
            "AvgLoss : 1.0459097117185592 , Loss : 1.1971925497055054\n",
            "AvgLoss : 1.047241137723128 , Loss : 0.9391763806343079\n",
            "======== Epoch 16 / 50 ========\n",
            "AvgLoss : 1.046149448156357 , Loss : 0.9858431220054626\n",
            "AvgLoss : 1.0369676184654235 , Loss : 1.0548532009124756\n",
            "AvgLoss : 1.0302786874771117 , Loss : 1.026014804840088\n",
            "AvgLoss : 1.0385733942687512 , Loss : 1.1721792221069336\n",
            "AvgLoss : 1.0386785832643508 , Loss : 1.1480079889297485\n",
            "AvgLoss : 1.038803312977155 , Loss : 1.0739128589630127\n",
            "======== Epoch 17 / 50 ========\n",
            "AvgLoss : 1.056765662431717 , Loss : 1.0411070585250854\n",
            "AvgLoss : 1.0347260791063309 , Loss : 1.0630159378051758\n",
            "AvgLoss : 1.0400734200080235 , Loss : 1.0197346210479736\n",
            "AvgLoss : 1.0351434892416 , Loss : 0.980944037437439\n",
            "AvgLoss : 1.0381617794036866 , Loss : 1.0093882083892822\n",
            "AvgLoss : 1.038601485490799 , Loss : 1.2873916625976562\n",
            "======== Epoch 18 / 50 ========\n",
            "AvgLoss : 1.0320103561878204 , Loss : 0.9016939401626587\n",
            "AvgLoss : 1.0204152727127076 , Loss : 0.8776600360870361\n",
            "AvgLoss : 1.0282654917240144 , Loss : 1.000051498413086\n",
            "AvgLoss : 1.0275582036375999 , Loss : 1.012985110282898\n",
            "AvgLoss : 1.0281888172626494 , Loss : 1.0592849254608154\n",
            "AvgLoss : 1.0307269583145777 , Loss : 1.103501796722412\n",
            "======== Epoch 19 / 50 ========\n",
            "AvgLoss : 1.017327686548233 , Loss : 1.150691032409668\n",
            "AvgLoss : 1.0251463282108306 , Loss : 1.23695707321167\n",
            "AvgLoss : 1.028017597993215 , Loss : 1.1066234111785889\n",
            "AvgLoss : 1.0296554504334927 , Loss : 0.950265645980835\n",
            "AvgLoss : 1.0280168098211289 , Loss : 1.0894023180007935\n",
            "AvgLoss : 1.027837201654911 , Loss : 0.9143465757369995\n",
            "======== Epoch 20 / 50 ========\n",
            "AvgLoss : 1.043982930779457 , Loss : 0.9967615604400635\n",
            "AvgLoss : 1.024570186138153 , Loss : 0.9842848181724548\n",
            "AvgLoss : 1.0306318247318267 , Loss : 0.9861372709274292\n",
            "AvgLoss : 1.0280748423933983 , Loss : 0.9297995567321777\n",
            "AvgLoss : 1.0253367457389833 , Loss : 0.9867715239524841\n",
            "AvgLoss : 1.0252469100554784 , Loss : 1.1393065452575684\n",
            "======== Epoch 21 / 50 ========\n",
            "AvgLoss : 1.0298718476295472 , Loss : 0.853026807308197\n",
            "AvgLoss : 1.022831609249115 , Loss : 1.0058746337890625\n",
            "AvgLoss : 1.0214608736832937 , Loss : 0.9387786388397217\n",
            "AvgLoss : 1.0259615428745748 , Loss : 1.1588995456695557\n",
            "AvgLoss : 1.0289190862178803 , Loss : 0.9847307205200195\n",
            "AvgLoss : 1.0281752762198448 , Loss : 0.8616781234741211\n",
            "======== Epoch 22 / 50 ========\n",
            "AvgLoss : 1.0214150780439377 , Loss : 0.9262408018112183\n",
            "AvgLoss : 1.016299958229065 , Loss : 0.982342004776001\n",
            "AvgLoss : 1.0154039996862412 , Loss : 0.877999484539032\n",
            "AvgLoss : 1.0166023984551429 , Loss : 0.9335634708404541\n",
            "AvgLoss : 1.02822483253479 , Loss : 1.131666898727417\n",
            "AvgLoss : 1.02702877253294 , Loss : 1.0097966194152832\n",
            "======== Epoch 23 / 50 ========\n",
            "AvgLoss : 1.02024420440197 , Loss : 1.1269404888153076\n",
            "AvgLoss : 1.022724613249302 , Loss : 1.004194974899292\n",
            "AvgLoss : 1.021549504995346 , Loss : 0.9599518775939941\n",
            "AvgLoss : 1.0189493754506112 , Loss : 0.9338401556015015\n",
            "AvgLoss : 1.0177626535892486 , Loss : 1.0985651016235352\n",
            "AvgLoss : 1.0180141619841259 , Loss : 0.9628979563713074\n",
            "======== Epoch 24 / 50 ========\n",
            "AvgLoss : 0.9867336165904999 , Loss : 1.1381897926330566\n",
            "AvgLoss : 0.9961205443739891 , Loss : 1.1610310077667236\n",
            "AvgLoss : 1.002883760134379 , Loss : 1.1605064868927002\n",
            "AvgLoss : 1.0065893633663654 , Loss : 1.0289175510406494\n",
            "AvgLoss : 1.0137780694961547 , Loss : 1.103583812713623\n",
            "AvgLoss : 1.0173564725120863 , Loss : 0.9618070125579834\n",
            "======== Epoch 25 / 50 ========\n",
            "AvgLoss : 1.007752358317375 , Loss : 0.8118361830711365\n",
            "AvgLoss : 1.0190885695815086 , Loss : 1.2125669717788696\n",
            "AvgLoss : 1.0176413053274154 , Loss : 0.9886396527290344\n",
            "AvgLoss : 1.0139015693962574 , Loss : 1.117438793182373\n",
            "AvgLoss : 1.0095381156206131 , Loss : 0.9562451839447021\n",
            "AvgLoss : 1.008894933561484 , Loss : 0.9351521730422974\n",
            "======== Epoch 26 / 50 ========\n",
            "AvgLoss : 1.0019317936897278 , Loss : 0.9900939464569092\n",
            "AvgLoss : 0.9934238934516907 , Loss : 0.9084786176681519\n",
            "AvgLoss : 0.9988253835837047 , Loss : 1.1032915115356445\n",
            "AvgLoss : 1.0013378517329692 , Loss : 0.9261053204536438\n",
            "AvgLoss : 1.0023683326244355 , Loss : 0.9687089920043945\n",
            "AvgLoss : 1.0056179790695507 , Loss : 1.2458481788635254\n",
            "======== Epoch 27 / 50 ========\n",
            "AvgLoss : 0.9984914726018905 , Loss : 1.0200014114379883\n",
            "AvgLoss : 0.9972642031311989 , Loss : 1.1185016632080078\n",
            "AvgLoss : 0.996659195025762 , Loss : 1.0615108013153076\n",
            "AvgLoss : 1.0004435741901399 , Loss : 1.0824549198150635\n",
            "AvgLoss : 1.0027086540460586 , Loss : 0.9170474410057068\n",
            "AvgLoss : 1.0019331839680672 , Loss : 0.960367739200592\n",
            "======== Epoch 28 / 50 ========\n",
            "AvgLoss : 0.9760713022947312 , Loss : 0.6452929377555847\n",
            "AvgLoss : 0.9888688346743584 , Loss : 1.0501912832260132\n",
            "AvgLoss : 0.9928602266311646 , Loss : 1.0800412893295288\n",
            "AvgLoss : 0.9965124082565308 , Loss : 1.0328569412231445\n",
            "AvgLoss : 0.9991477183103561 , Loss : 0.8293828964233398\n",
            "AvgLoss : 0.9968180724978447 , Loss : 0.9864591360092163\n",
            "======== Epoch 29 / 50 ========\n",
            "AvgLoss : 0.9892457675933838 , Loss : 1.0811082124710083\n",
            "AvgLoss : 0.9907124608755111 , Loss : 0.9903954267501831\n",
            "AvgLoss : 0.9897345689932505 , Loss : 1.1916570663452148\n",
            "AvgLoss : 0.9873076049983501 , Loss : 0.931110680103302\n",
            "AvgLoss : 0.9942651697397232 , Loss : 1.0071194171905518\n",
            "AvgLoss : 0.9944315515955289 , Loss : 0.996737003326416\n",
            "======== Epoch 30 / 50 ========\n",
            "AvgLoss : 0.9720009154081345 , Loss : 1.1766716241836548\n",
            "AvgLoss : 0.9779744985699653 , Loss : 0.9017951488494873\n",
            "AvgLoss : 0.9918495512008667 , Loss : 1.0036280155181885\n",
            "AvgLoss : 0.9950482161343097 , Loss : 0.8494089841842651\n",
            "AvgLoss : 0.9989784531593323 , Loss : 0.9716165065765381\n",
            "AvgLoss : 0.9970136190454165 , Loss : 0.9571454524993896\n",
            "======== Epoch 31 / 50 ========\n",
            "AvgLoss : 0.9888433820009231 , Loss : 0.891315221786499\n",
            "AvgLoss : 0.9812275293469429 , Loss : 1.06728196144104\n",
            "AvgLoss : 0.9839523794253667 , Loss : 1.0773072242736816\n",
            "AvgLoss : 0.9865168829262256 , Loss : 0.9354480504989624\n",
            "AvgLoss : 0.9856998980045318 , Loss : 1.0501351356506348\n",
            "AvgLoss : 0.9874824923276901 , Loss : 1.0798771381378174\n",
            "======== Epoch 32 / 50 ========\n",
            "AvgLoss : 0.9794098180532456 , Loss : 0.9570276737213135\n",
            "AvgLoss : 0.9767261001467705 , Loss : 0.9322035312652588\n",
            "AvgLoss : 0.9730968858798345 , Loss : 1.0581384897232056\n",
            "AvgLoss : 0.9811186073720455 , Loss : 0.9775793552398682\n",
            "AvgLoss : 0.9805495513677597 , Loss : 0.9138951897621155\n",
            "AvgLoss : 0.9835116382439931 , Loss : 1.249668836593628\n",
            "======== Epoch 33 / 50 ========\n",
            "AvgLoss : 0.9673271882534027 , Loss : 0.9910702109336853\n",
            "AvgLoss : 0.980239796936512 , Loss : 0.9320846199989319\n",
            "AvgLoss : 0.9854444076617559 , Loss : 1.0649521350860596\n",
            "AvgLoss : 0.9917767076194286 , Loss : 1.0558967590332031\n",
            "AvgLoss : 0.9884337372779847 , Loss : 0.9503781199455261\n",
            "AvgLoss : 0.9847376056512197 , Loss : 0.7882431745529175\n",
            "======== Epoch 34 / 50 ========\n",
            "AvgLoss : 0.9873447644710541 , Loss : 0.9821779131889343\n",
            "AvgLoss : 0.9847627252340316 , Loss : 0.8888790607452393\n",
            "AvgLoss : 0.9845423996448517 , Loss : 1.0012333393096924\n",
            "AvgLoss : 0.9853119984269142 , Loss : 1.1262065172195435\n",
            "AvgLoss : 0.9824927035570145 , Loss : 0.96245276927948\n",
            "AvgLoss : 0.984383049607277 , Loss : 1.0053439140319824\n",
            "======== Epoch 35 / 50 ========\n",
            "AvgLoss : 0.9641255784034729 , Loss : 0.848646879196167\n",
            "AvgLoss : 0.9506089767813682 , Loss : 0.9882739782333374\n",
            "AvgLoss : 0.9536268695195516 , Loss : 0.9196256995201111\n",
            "AvgLoss : 0.9569703117012978 , Loss : 0.7802709937095642\n",
            "AvgLoss : 0.9597483835220337 , Loss : 0.8839359283447266\n",
            "AvgLoss : 0.9669368161757788 , Loss : 1.062972903251648\n",
            "======== Epoch 36 / 50 ========\n",
            "AvgLoss : 0.9550549846887588 , Loss : 0.917656421661377\n",
            "AvgLoss : 0.9561615997552871 , Loss : 0.9143171310424805\n",
            "AvgLoss : 0.9558650479714076 , Loss : 1.0009348392486572\n",
            "AvgLoss : 0.9590622134506702 , Loss : 1.0038483142852783\n",
            "AvgLoss : 0.9609292877912521 , Loss : 0.8001831769943237\n",
            "AvgLoss : 0.9591533879439036 , Loss : 1.0924657583236694\n",
            "======== Epoch 37 / 50 ========\n",
            "AvgLoss : 0.9683516448736191 , Loss : 0.9314084649085999\n",
            "AvgLoss : 1.0109477958083153 , Loss : 1.240354299545288\n",
            "AvgLoss : 0.9887960249185562 , Loss : 0.9965747594833374\n",
            "AvgLoss : 0.9840487183630466 , Loss : 0.8592051267623901\n",
            "AvgLoss : 0.9752037328481674 , Loss : 0.9626785516738892\n",
            "AvgLoss : 0.9745110004146894 , Loss : 0.995457649230957\n",
            "======== Epoch 38 / 50 ========\n",
            "AvgLoss : 0.9732145571708679 , Loss : 0.7535726428031921\n",
            "AvgLoss : 0.9532946473360062 , Loss : 0.955103874206543\n",
            "AvgLoss : 0.950147705078125 , Loss : 0.8333656787872314\n",
            "AvgLoss : 0.9566101965308189 , Loss : 1.1057426929473877\n",
            "AvgLoss : 0.9599027919769287 , Loss : 1.0255331993103027\n",
            "AvgLoss : 0.9573696344097455 , Loss : 0.8744583129882812\n",
            "======== Epoch 39 / 50 ========\n",
            "AvgLoss : 0.9372349160909653 , Loss : 0.86798095703125\n",
            "AvgLoss : 0.9304946801066398 , Loss : 0.975619912147522\n",
            "AvgLoss : 0.9380778926610946 , Loss : 1.012883186340332\n",
            "AvgLoss : 0.9457529674470425 , Loss : 1.0148664712905884\n",
            "AvgLoss : 0.9514589231014252 , Loss : 0.969404935836792\n",
            "AvgLoss : 0.9531395372748375 , Loss : 0.8541771173477173\n",
            "======== Epoch 40 / 50 ========\n",
            "AvgLoss : 0.9503765553236008 , Loss : 1.159469723701477\n",
            "AvgLoss : 0.9468787774443627 , Loss : 0.8691411018371582\n",
            "AvgLoss : 0.9432085686922074 , Loss : 0.8930588364601135\n",
            "AvgLoss : 0.9480226181447506 , Loss : 0.8970856666564941\n",
            "AvgLoss : 0.9512745666503907 , Loss : 0.9293084144592285\n",
            "AvgLoss : 0.9474568906426429 , Loss : 0.9433100819587708\n",
            "======== Epoch 41 / 50 ========\n",
            "AvgLoss : 0.9451270925998688 , Loss : 0.8201813101768494\n",
            "AvgLoss : 0.9595324626564979 , Loss : 0.9969323873519897\n",
            "AvgLoss : 0.9583370045820871 , Loss : 1.0085844993591309\n",
            "AvgLoss : 0.9557833009958268 , Loss : 0.9465561509132385\n",
            "AvgLoss : 0.9538485876321793 , Loss : 0.9830230474472046\n",
            "AvgLoss : 0.9516691064834595 , Loss : 0.7286474704742432\n",
            "======== Epoch 42 / 50 ========\n",
            "AvgLoss : 0.932447053194046 , Loss : 0.9465699791908264\n",
            "AvgLoss : 0.9308325287699699 , Loss : 0.9930984973907471\n",
            "AvgLoss : 0.9285702031850814 , Loss : 0.9529670476913452\n",
            "AvgLoss : 0.9292424735426903 , Loss : 0.7481449246406555\n",
            "AvgLoss : 0.9367336156368256 , Loss : 1.0079851150512695\n",
            "AvgLoss : 0.9400326264897982 , Loss : 0.9463247656822205\n",
            "======== Epoch 43 / 50 ========\n",
            "AvgLoss : 0.932320818901062 , Loss : 0.9856895208358765\n",
            "AvgLoss : 0.9170417410135269 , Loss : 1.0732264518737793\n",
            "AvgLoss : 0.9239775679508845 , Loss : 0.8333492279052734\n",
            "AvgLoss : 0.9197560469806194 , Loss : 0.9616488218307495\n",
            "AvgLoss : 0.9257160410881042 , Loss : 0.9068906307220459\n",
            "AvgLoss : 0.9329211347301801 , Loss : 0.8780899047851562\n",
            "======== Epoch 44 / 50 ========\n",
            "AvgLoss : 0.9372980874776841 , Loss : 0.8132478594779968\n",
            "AvgLoss : 0.9231951767206192 , Loss : 0.9702160358428955\n",
            "AvgLoss : 0.9276685814062754 , Loss : 0.9716014862060547\n",
            "AvgLoss : 0.9272796086966991 , Loss : 1.0296695232391357\n",
            "AvgLoss : 0.9274089695215225 , Loss : 0.8661710023880005\n",
            "AvgLoss : 0.9331118802229563 , Loss : 0.795669674873352\n",
            "======== Epoch 45 / 50 ========\n",
            "AvgLoss : 0.9144551354646683 , Loss : 1.0545560121536255\n",
            "AvgLoss : 0.917223998606205 , Loss : 0.8504476547241211\n",
            "AvgLoss : 0.9177995336055755 , Loss : 0.9879478216171265\n",
            "AvgLoss : 0.9232511655986309 , Loss : 1.0136497020721436\n",
            "AvgLoss : 0.9224204897880555 , Loss : 0.8463472127914429\n",
            "AvgLoss : 0.9239328560233117 , Loss : 0.8453758955001831\n",
            "======== Epoch 46 / 50 ========\n",
            "AvgLoss : 0.9202389907836914 , Loss : 0.9089509844779968\n",
            "AvgLoss : 0.9166385436058044 , Loss : 0.8557206392288208\n",
            "AvgLoss : 0.9159773222605387 , Loss : 0.9398338198661804\n",
            "AvgLoss : 0.9158004148304463 , Loss : 0.8021983504295349\n",
            "AvgLoss : 0.9197152931690216 , Loss : 0.8985247611999512\n",
            "AvgLoss : 0.9230986085534095 , Loss : 0.8117866516113281\n",
            "======== Epoch 47 / 50 ========\n",
            "AvgLoss : 0.9036642175912857 , Loss : 0.9260479211807251\n",
            "AvgLoss : 0.905638594031334 , Loss : 1.0155836343765259\n",
            "AvgLoss : 0.9150933706760407 , Loss : 0.8783910870552063\n",
            "AvgLoss : 0.9171573600172996 , Loss : 0.9459213018417358\n",
            "AvgLoss : 0.9219741629362106 , Loss : 1.1199530363082886\n",
            "AvgLoss : 0.9210075708230336 , Loss : 0.7495439052581787\n",
            "======== Epoch 48 / 50 ========\n",
            "AvgLoss : 0.8834758824110032 , Loss : 0.727626621723175\n",
            "AvgLoss : 0.8922313728928566 , Loss : 0.7998402118682861\n",
            "AvgLoss : 0.9034754512707392 , Loss : 1.0062494277954102\n",
            "AvgLoss : 0.9108915008604527 , Loss : 1.1303305625915527\n",
            "AvgLoss : 0.9121249455213547 , Loss : 1.0224268436431885\n",
            "AvgLoss : 0.9092095260818799 , Loss : 0.8244554400444031\n",
            "======== Epoch 49 / 50 ========\n",
            "AvgLoss : 0.8912920683622361 , Loss : 0.7644675374031067\n",
            "AvgLoss : 0.8903891357779503 , Loss : 0.958696722984314\n",
            "AvgLoss : 0.89614311059316 , Loss : 0.7355837225914001\n",
            "AvgLoss : 0.902739619910717 , Loss : 1.1118144989013672\n",
            "AvgLoss : 0.9067682126760482 , Loss : 1.1792751550674438\n",
            "AvgLoss : 0.9080890228350957 , Loss : 0.7417346835136414\n",
            "======== Epoch 50 / 50 ========\n",
            "AvgLoss : 0.9111445689201355 , Loss : 1.015901803970337\n",
            "AvgLoss : 0.9098809257149696 , Loss : 0.8412063121795654\n",
            "AvgLoss : 0.9159470593929291 , Loss : 0.931746780872345\n",
            "AvgLoss : 0.9151291666924953 , Loss : 0.8894942998886108\n",
            "AvgLoss : 0.9142258696556091 , Loss : 0.9949010610580444\n",
            "AvgLoss : 0.9145299657185872 , Loss : 0.9878840446472168\n"
          ],
          "name": "stdout"
        }
      ]
    },
    {
      "cell_type": "code",
      "metadata": {
        "id": "ZboHt9w4B9Oj",
        "colab_type": "code",
        "colab": {}
      },
      "source": [
        "mnist_test = pd.read_csv('/content/sample_data/mnist_train_small.csv')\n",
        "test_labels = mnist_test.iloc[:,0]\n",
        "mnist_test.drop(mnist_test.columns[0], axis=1, inplace=True)"
      ],
      "execution_count": null,
      "outputs": []
    },
    {
      "cell_type": "code",
      "metadata": {
        "id": "ynM19fCtM7qi",
        "colab_type": "code",
        "colab": {
          "base_uri": "https://localhost:8080/",
          "height": 282
        },
        "outputId": "522b7ca1-866b-4000-f218-536b975dbe7a"
      },
      "source": [
        "image = mnist_test.iloc[1,:]\n",
        "x= image.to_numpy()\n",
        "plt.imshow(x.reshape(28, 28), cmap=\"gray\")"
      ],
      "execution_count": null,
      "outputs": [
        {
          "output_type": "execute_result",
          "data": {
            "text/plain": [
              "<matplotlib.image.AxesImage at 0x7fe007f88208>"
            ]
          },
          "metadata": {
            "tags": []
          },
          "execution_count": 43
        },
        {
          "output_type": "display_data",
          "data": {
            "image/png": "[encoded data removed]",
            "text/plain": [
              "<Figure size 432x288 with 1 Axes>"
            ]
          },
          "metadata": {
            "tags": [],
            "needs_background": "light"
          }
        }
      ]
    },
    {
      "cell_type": "code",
      "metadata": {
        "id": "KdjsDFwqF5Xj",
        "colab_type": "code",
        "colab": {}
      },
      "source": [
        "mnist_testing = SiameseDataset(mnist_test , test_labels , 5)\n",
        "test_loader = torch.utils.data.DataLoader(mnist_testing , batch_size = 1, shuffle = False , drop_last=False)"
      ],
      "execution_count": null,
      "outputs": []
    },
    {
      "cell_type": "code",
      "metadata": {
        "id": "7-I5jwSeb_Qs",
        "colab_type": "code",
        "colab": {
          "base_uri": "https://localhost:8080/",
          "height": 1000
        },
        "outputId": "82225fe5-0118-432d-ecf1-064ac0220b31"
      },
      "source": [
        "total = 0\n",
        "correct = 0\n",
        "siameseNet.eval()\n",
        "for batch , (data) in enumerate(test_loader):\n",
        "  \n",
        "  img1 = data['img1']\n",
        "  \n",
        "  img1 = transform(img1.detach().numpy())\n",
        "  img1 = img1.view(1,784).cuda()\n",
        "\n",
        "  img2 = data['img2']\n",
        "  img2 = transform(img2.detach().numpy())\n",
        "  img2 = img2.view(1,784).cuda()\n",
        "\n",
        "\n",
        "  label = data['label'].cuda()\n",
        "  \n",
        "  x1 , x2 = siameseNet(img1 , img2)\n",
        "  dissimilarity = F.pairwise_distance(x1, x2)\n",
        "  #loss = criterion(img1 , img2 , label)\n",
        "  #total_loss = total_loss + loss.mean().item()\n",
        "  #concatenated = torch.cat((img1.cpu().detach(),img2.cpu().detach()),0)\n",
        "  #imshow(torchvision.utils.make_grid(concatenated),'Dissimilarity: {:.2f}'.format(dissimilarity.item()))\n",
        "  img1 = img1.reshape(28, 28).cpu().detach()\n",
        "  img2 = img2.reshape(28, 28).cpu().detach()\n",
        "  print(label)\n",
        "  print(dissimilarity.item())\n",
        "  concatenated = torch.cat((img1, img2),0)\n",
        "  display_grid(concatenated)"
      ],
      "execution_count": null,
      "outputs": [
        {
          "output_type": "stream",
          "text": [
            "Clipping input data to the valid range for imshow with RGB data ([0..1] for floats or [0..255] for integers).\n"
          ],
          "name": "stderr"
        },
        {
          "output_type": "stream",
          "text": [
            "tensor([1.], device='cuda:0', grad_fn=<CopyBackwards>)\n",
            "0.23646318912506104\n"
          ],
          "name": "stdout"
        },
        {
          "output_type": "display_data",
          "data": {
            "image/png": "[encoded data removed]",
            "text/plain": [
              "<Figure size 576x576 with 1 Axes>"
            ]
          },
          "metadata": {
            "tags": [],
            "needs_background": "light"
          }
        },
        {
          "output_type": "stream",
          "text": [
            "Clipping input data to the valid range for imshow with RGB data ([0..1] for floats or [0..255] for integers).\n"
          ],
          "name": "stderr"
        },
        {
          "output_type": "stream",
          "text": [
            "tensor([0.], device='cuda:0', grad_fn=<CopyBackwards>)\n",
            "0.0998540073633194\n"
          ],
          "name": "stdout"
        },
        {
          "output_type": "display_data",
          "data": {
            "image/png": "[encoded data removed]",
            "text/plain": [
              "<Figure size 576x576 with 1 Axes>"
            ]
          },
          "metadata": {
            "tags": [],
            "needs_background": "light"
          }
        },
        {
          "output_type": "stream",
          "text": [
            "tensor([1.], device='cuda:0', grad_fn=<CopyBackwards>)\n",
            "0.7301449775695801\n"
          ],
          "name": "stdout"
        },
        {
          "output_type": "stream",
          "text": [
            "Clipping input data to the valid range for imshow with RGB data ([0..1] for floats or [0..255] for integers).\n"
          ],
          "name": "stderr"
        },
        {
          "output_type": "display_data",
          "data": {
            "image/png": "[encoded data removed]",
            "text/plain": [
              "<Figure size 576x576 with 1 Axes>"
            ]
          },
          "metadata": {
            "tags": [],
            "needs_background": "light"
          }
        },
        {
          "output_type": "stream",
          "text": [
            "tensor([0.], device='cuda:0', grad_fn=<CopyBackwards>)\n",
            "0.17285645008087158\n"
          ],
          "name": "stdout"
        },
        {
          "output_type": "stream",
          "text": [
            "Clipping input data to the valid range for imshow with RGB data ([0..1] for floats or [0..255] for integers).\n"
          ],
          "name": "stderr"
        },
        {
          "output_type": "display_data",
          "data": {
            "image/png": "[encoded data removed]",
            "text/plain": [
              "<Figure size 576x576 with 1 Axes>"
            ]
          },
          "metadata": {
            "tags": [],
            "needs_background": "light"
          }
        },
        {
          "output_type": "stream",
          "text": [
            "tensor([1.], device='cuda:0', grad_fn=<CopyBackwards>)\n",
            "0.4088493287563324\n"
          ],
          "name": "stdout"
        },
        {
          "output_type": "stream",
          "text": [
            "Clipping input data to the valid range for imshow with RGB data ([0..1] for floats or [0..255] for integers).\n"
          ],
          "name": "stderr"
        },
        {
          "output_type": "display_data",
          "data": {
            "image/png": "[encoded data removed]",
            "text/plain": [
              "<Figure size 576x576 with 1 Axes>"
            ]
          },
          "metadata": {
            "tags": [],
            "needs_background": "light"
          }
        },
        {
          "output_type": "stream",
          "text": [
            "tensor([0.], device='cuda:0', grad_fn=<CopyBackwards>)\n",
            "1.6688711643218994\n"
          ],
          "name": "stdout"
        },
        {
          "output_type": "stream",
          "text": [
            "Clipping input data to the valid range for imshow with RGB data ([0..1] for floats or [0..255] for integers).\n"
          ],
          "name": "stderr"
        },
        {
          "output_type": "display_data",
          "data": {
            "image/png": "[encoded data removed]",
            "text/plain": [
              "<Figure size 576x576 with 1 Axes>"
            ]
          },
          "metadata": {
            "tags": [],
            "needs_background": "light"
          }
        },
        {
          "output_type": "stream",
          "text": [
            "Clipping input data to the valid range for imshow with RGB data ([0..1] for floats or [0..255] for integers).\n"
          ],
          "name": "stderr"
        },
        {
          "output_type": "stream",
          "text": [
            "tensor([1.], device='cuda:0', grad_fn=<CopyBackwards>)\n",
            "0.14254777133464813\n"
          ],
          "name": "stdout"
        },
        {
          "output_type": "display_data",
          "data": {
            "image/png": "[encoded data removed]",
            "text/plain": [
              "<Figure size 576x576 with 1 Axes>"
            ]
          },
          "metadata": {
            "tags": [],
            "needs_background": "light"
          }
        },
        {
          "output_type": "stream",
          "text": [
            "tensor([0.], device='cuda:0', grad_fn=<CopyBackwards>)\n",
            "0.352026104927063\n"
          ],
          "name": "stdout"
        },
        {
          "output_type": "stream",
          "text": [
            "Clipping input data to the valid range for imshow with RGB data ([0..1] for floats or [0..255] for integers).\n"
          ],
          "name": "stderr"
        },
        {
          "output_type": "display_data",
          "data": {
            "image/png": "[encoded data removed]",
            "text/plain": [
              "<Figure size 576x576 with 1 Axes>"
            ]
          },
          "metadata": {
            "tags": [],
            "needs_background": "light"
          }
        },
        {
          "output_type": "stream",
          "text": [
            "Clipping input data to the valid range for imshow with RGB data ([0..1] for floats or [0..255] for integers).\n"
          ],
          "name": "stderr"
        },
        {
          "output_type": "stream",
          "text": [
            "tensor([1.], device='cuda:0', grad_fn=<CopyBackwards>)\n",
            "1.2144616842269897\n"
          ],
          "name": "stdout"
        },
        {
          "output_type": "display_data",
          "data": {
            "image/png": "[encoded data removed]",
            "text/plain": [
              "<Figure size 576x576 with 1 Axes>"
            ]
          },
          "metadata": {
            "tags": [],
            "needs_background": "light"
          }
        },
        {
          "output_type": "stream",
          "text": [
            "tensor([0.], device='cuda:0', grad_fn=<CopyBackwards>)\n",
            "0.2752191126346588\n"
          ],
          "name": "stdout"
        },
        {
          "output_type": "stream",
          "text": [
            "Clipping input data to the valid range for imshow with RGB data ([0..1] for floats or [0..255] for integers).\n"
          ],
          "name": "stderr"
        },
        {
          "output_type": "display_data",
          "data": {
            "image/png": "[encoded data removed]",
            "text/plain": [
              "<Figure size 576x576 with 1 Axes>"
            ]
          },
          "metadata": {
            "tags": [],
            "needs_background": "light"
          }
        },
        {
          "output_type": "stream",
          "text": [
            "Clipping input data to the valid range for imshow with RGB data ([0..1] for floats or [0..255] for integers).\n"
          ],
          "name": "stderr"
        },
        {
          "output_type": "stream",
          "text": [
            "tensor([1.], device='cuda:0', grad_fn=<CopyBackwards>)\n",
            "0.519764244556427\n"
          ],
          "name": "stdout"
        },
        {
          "output_type": "display_data",
          "data": {
            "image/png": "[encoded data removed]",
            "text/plain": [
              "<Figure size 576x576 with 1 Axes>"
            ]
          },
          "metadata": {
            "tags": [],
            "needs_background": "light"
          }
        },
        {
          "output_type": "stream",
          "text": [
            "Clipping input data to the valid range for imshow with RGB data ([0..1] for floats or [0..255] for integers).\n"
          ],
          "name": "stderr"
        },
        {
          "output_type": "stream",
          "text": [
            "tensor([0.], device='cuda:0', grad_fn=<CopyBackwards>)\n",
            "0.3237738609313965\n"
          ],
          "name": "stdout"
        },
        {
          "output_type": "display_data",
          "data": {
            "image/png": "[encoded data removed]",
            "text/plain": [
              "<Figure size 576x576 with 1 Axes>"
            ]
          },
          "metadata": {
            "tags": [],
            "needs_background": "light"
          }
        },
        {
          "output_type": "stream",
          "text": [
            "Clipping input data to the valid range for imshow with RGB data ([0..1] for floats or [0..255] for integers).\n"
          ],
          "name": "stderr"
        },
        {
          "output_type": "stream",
          "text": [
            "tensor([1.], device='cuda:0', grad_fn=<CopyBackwards>)\n",
            "0.3083439767360687\n"
          ],
          "name": "stdout"
        },
        {
          "output_type": "display_data",
          "data": {
            "image/png": "[encoded data removed]",
            "text/plain": [
              "<Figure size 576x576 with 1 Axes>"
            ]
          },
          "metadata": {
            "tags": [],
            "needs_background": "light"
          }
        },
        {
          "output_type": "stream",
          "text": [
            "tensor([0.], device='cuda:0', grad_fn=<CopyBackwards>)\n",
            "0.15314771234989166\n"
          ],
          "name": "stdout"
        },
        {
          "output_type": "stream",
          "text": [
            "Clipping input data to the valid range for imshow with RGB data ([0..1] for floats or [0..255] for integers).\n"
          ],
          "name": "stderr"
        },
        {
          "output_type": "display_data",
          "data": {
            "image/png": "[encoded data removed]",
            "text/plain": [
              "<Figure size 576x576 with 1 Axes>"
            ]
          },
          "metadata": {
            "tags": [],
            "needs_background": "light"
          }
        },
        {
          "output_type": "stream",
          "text": [
            "tensor([1.], device='cuda:0', grad_fn=<CopyBackwards>)\n",
            "0.8122260570526123\n"
          ],
          "name": "stdout"
        },
        {
          "output_type": "stream",
          "text": [
            "Clipping input data to the valid range for imshow with RGB data ([0..1] for floats or [0..255] for integers).\n"
          ],
          "name": "stderr"
        },
        {
          "output_type": "display_data",
          "data": {
            "image/png": "[encoded data removed]",
            "text/plain": [
              "<Figure size 576x576 with 1 Axes>"
            ]
          },
          "metadata": {
            "tags": [],
            "needs_background": "light"
          }
        },
        {
          "output_type": "stream",
          "text": [
            "tensor([0.], device='cuda:0', grad_fn=<CopyBackwards>)\n",
            "0.16032129526138306\n"
          ],
          "name": "stdout"
        },
        {
          "output_type": "stream",
          "text": [
            "Clipping input data to the valid range for imshow with RGB data ([0..1] for floats or [0..255] for integers).\n"
          ],
          "name": "stderr"
        },
        {
          "output_type": "display_data",
          "data": {
            "image/png": "[encoded data removed]",
            "text/plain": [
              "<Figure size 576x576 with 1 Axes>"
            ]
          },
          "metadata": {
            "tags": [],
            "needs_background": "light"
          }
        },
        {
          "output_type": "stream",
          "text": [
            "tensor([1.], device='cuda:0', grad_fn=<CopyBackwards>)\n",
            "0.18085160851478577\n"
          ],
          "name": "stdout"
        },
        {
          "output_type": "stream",
          "text": [
            "Clipping input data to the valid range for imshow with RGB data ([0..1] for floats or [0..255] for integers).\n"
          ],
          "name": "stderr"
        },
        {
          "output_type": "display_data",
          "data": {
            "image/png": "[encoded data removed]",
            "text/plain": [
              "<Figure size 576x576 with 1 Axes>"
            ]
          },
          "metadata": {
            "tags": [],
            "needs_background": "light"
          }
        },
        {
          "output_type": "stream",
          "text": [
            "Clipping input data to the valid range for imshow with RGB data ([0..1] for floats or [0..255] for integers).\n"
          ],
          "name": "stderr"
        },
        {
          "output_type": "stream",
          "text": [
            "tensor([0.], device='cuda:0', grad_fn=<CopyBackwards>)\n",
            "0.3570430874824524\n"
          ],
          "name": "stdout"
        },
        {
          "output_type": "display_data",
          "data": {
            "image/png": "[encoded data removed]",
            "text/plain": [
              "<Figure size 576x576 with 1 Axes>"
            ]
          },
          "metadata": {
            "tags": [],
            "needs_background": "light"
          }
        },
        {
          "output_type": "stream",
          "text": [
            "Clipping input data to the valid range for imshow with RGB data ([0..1] for floats or [0..255] for integers).\n"
          ],
          "name": "stderr"
        },
        {
          "output_type": "stream",
          "text": [
            "tensor([1.], device='cuda:0', grad_fn=<CopyBackwards>)\n",
            "0.39235007762908936\n"
          ],
          "name": "stdout"
        },
        {
          "output_type": "display_data",
          "data": {
            "image/png": "[encoded data removed]",
            "text/plain": [
              "<Figure size 576x576 with 1 Axes>"
            ]
          },
          "metadata": {
            "tags": [],
            "needs_background": "light"
          }
        },
        {
          "output_type": "stream",
          "text": [
            "Clipping input data to the valid range for imshow with RGB data ([0..1] for floats or [0..255] for integers).\n"
          ],
          "name": "stderr"
        },
        {
          "output_type": "stream",
          "text": [
            "tensor([0.], device='cuda:0', grad_fn=<CopyBackwards>)\n",
            "0.4304858446121216\n"
          ],
          "name": "stdout"
        },
        {
          "output_type": "display_data",
          "data": {
            "image/png": "[encoded data removed]",
            "text/plain": [
              "<Figure size 576x576 with 1 Axes>"
            ]
          },
          "metadata": {
            "tags": [],
            "needs_background": "light"
          }
        },
        {
          "output_type": "stream",
          "text": [
            "tensor([1.], device='cuda:0', grad_fn=<CopyBackwards>)\n",
            "0.49672314524650574\n"
          ],
          "name": "stdout"
        },
        {
          "output_type": "stream",
          "text": [
            "Clipping input data to the valid range for imshow with RGB data ([0..1] for floats or [0..255] for integers).\n"
          ],
          "name": "stderr"
        },
        {
          "output_type": "display_data",
          "data": {
            "image/png": "[encoded data removed]",
            "text/plain": [
              "<Figure size 576x576 with 1 Axes>"
            ]
          },
          "metadata": {
            "tags": [],
            "needs_background": "light"
          }
        },
        {
          "output_type": "stream",
          "text": [
            "tensor([0.], device='cuda:0', grad_fn=<CopyBackwards>)\n",
            "0.5397748351097107\n"
          ],
          "name": "stdout"
        },
        {
          "output_type": "stream",
          "text": [
            "Clipping input data to the valid range for imshow with RGB data ([0..1] for floats or [0..255] for integers).\n"
          ],
          "name": "stderr"
        },
        {
          "output_type": "display_data",
          "data": {
            "image/png": "[encoded data removed]",
            "text/plain": [
              "<Figure size 576x576 with 1 Axes>"
            ]
          },
          "metadata": {
            "tags": [],
            "needs_background": "light"
          }
        },
        {
          "output_type": "stream",
          "text": [
            "Clipping input data to the valid range for imshow with RGB data ([0..1] for floats or [0..255] for integers).\n"
          ],
          "name": "stderr"
        },
        {
          "output_type": "stream",
          "text": [
            "tensor([1.], device='cuda:0', grad_fn=<CopyBackwards>)\n",
            "0.3871699571609497\n"
          ],
          "name": "stdout"
        },
        {
          "output_type": "display_data",
          "data": {
            "image/png": "[encoded data removed]",
            "text/plain": [
              "<Figure size 576x576 with 1 Axes>"
            ]
          },
          "metadata": {
            "tags": [],
            "needs_background": "light"
          }
        },
        {
          "output_type": "stream",
          "text": [
            "Clipping input data to the valid range for imshow with RGB data ([0..1] for floats or [0..255] for integers).\n"
          ],
          "name": "stderr"
        },
        {
          "output_type": "stream",
          "text": [
            "tensor([0.], device='cuda:0', grad_fn=<CopyBackwards>)\n",
            "0.6610285043716431\n"
          ],
          "name": "stdout"
        },
        {
          "output_type": "display_data",
          "data": {
            "image/png": "[encoded data removed]",
            "text/plain": [
              "<Figure size 576x576 with 1 Axes>"
            ]
          },
          "metadata": {
            "tags": [],
            "needs_background": "light"
          }
        },
        {
          "output_type": "stream",
          "text": [
            "Clipping input data to the valid range for imshow with RGB data ([0..1] for floats or [0..255] for integers).\n"
          ],
          "name": "stderr"
        },
        {
          "output_type": "stream",
          "text": [
            "tensor([1.], device='cuda:0', grad_fn=<CopyBackwards>)\n",
            "0.8089872598648071\n"
          ],
          "name": "stdout"
        },
        {
          "output_type": "display_data",
          "data": {
            "image/png": "[encoded data removed]",
            "text/plain": [
              "<Figure size 576x576 with 1 Axes>"
            ]
          },
          "metadata": {
            "tags": [],
            "needs_background": "light"
          }
        },
        {
          "output_type": "stream",
          "text": [
            "Clipping input data to the valid range for imshow with RGB data ([0..1] for floats or [0..255] for integers).\n"
          ],
          "name": "stderr"
        },
        {
          "output_type": "stream",
          "text": [
            "tensor([0.], device='cuda:0', grad_fn=<CopyBackwards>)\n",
            "0.8419790863990784\n"
          ],
          "name": "stdout"
        },
        {
          "output_type": "display_data",
          "data": {
            "image/png": "[encoded data removed]",
            "text/plain": [
              "<Figure size 576x576 with 1 Axes>"
            ]
          },
          "metadata": {
            "tags": [],
            "needs_background": "light"
          }
        },
        {
          "output_type": "stream",
          "text": [
            "tensor([1.], device='cuda:0', grad_fn=<CopyBackwards>)\n",
            "0.7860424518585205\n"
          ],
          "name": "stdout"
        },
        {
          "output_type": "stream",
          "text": [
            "Clipping input data to the valid range for imshow with RGB data ([0..1] for floats or [0..255] for integers).\n"
          ],
          "name": "stderr"
        },
        {
          "output_type": "display_data",
          "data": {
            "image/png": "[encoded data removed]",
            "text/plain": [
              "<Figure size 576x576 with 1 Axes>"
            ]
          },
          "metadata": {
            "tags": [],
            "needs_background": "light"
          }
        },
        {
          "output_type": "stream",
          "text": [
            "tensor([0.], device='cuda:0', grad_fn=<CopyBackwards>)\n",
            "0.4079109728336334\n"
          ],
          "name": "stdout"
        },
        {
          "output_type": "stream",
          "text": [
            "Clipping input data to the valid range for imshow with RGB data ([0..1] for floats or [0..255] for integers).\n"
          ],
          "name": "stderr"
        },
        {
          "output_type": "display_data",
          "data": {
            "image/png": "[encoded data removed]",
            "text/plain": [
              "<Figure size 576x576 with 1 Axes>"
            ]
          },
          "metadata": {
            "tags": [],
            "needs_background": "light"
          }
        },
        {
          "output_type": "stream",
          "text": [
            "tensor([1.], device='cuda:0', grad_fn=<CopyBackwards>)\n",
            "0.27223682403564453\n"
          ],
          "name": "stdout"
        },
        {
          "output_type": "stream",
          "text": [
            "Clipping input data to the valid range for imshow with RGB data ([0..1] for floats or [0..255] for integers).\n"
          ],
          "name": "stderr"
        },
        {
          "output_type": "display_data",
          "data": {
            "image/png": "[encoded data removed]",
            "text/plain": [
              "<Figure size 576x576 with 1 Axes>"
            ]
          },
          "metadata": {
            "tags": [],
            "needs_background": "light"
          }
        },
        {
          "output_type": "stream",
          "text": [
            "Clipping input data to the valid range for imshow with RGB data ([0..1] for floats or [0..255] for integers).\n"
          ],
          "name": "stderr"
        },
        {
          "output_type": "stream",
          "text": [
            "tensor([0.], device='cuda:0', grad_fn=<CopyBackwards>)\n",
            "0.715343713760376\n"
          ],
          "name": "stdout"
        },
        {
          "output_type": "display_data",
          "data": {
            "image/png": "[encoded data removed]",
            "text/plain": [
              "<Figure size 576x576 with 1 Axes>"
            ]
          },
          "metadata": {
            "tags": [],
            "needs_background": "light"
          }
        },
        {
          "output_type": "stream",
          "text": [
            "tensor([1.], device='cuda:0', grad_fn=<CopyBackwards>)\n",
            "0.412849098443985\n"
          ],
          "name": "stdout"
        },
        {
          "output_type": "stream",
          "text": [
            "Clipping input data to the valid range for imshow with RGB data ([0..1] for floats or [0..255] for integers).\n"
          ],
          "name": "stderr"
        },
        {
          "output_type": "display_data",
          "data": {
            "image/png": "[encoded data removed]",
            "text/plain": [
              "<Figure size 576x576 with 1 Axes>"
            ]
          },
          "metadata": {
            "tags": [],
            "needs_background": "light"
          }
        },
        {
          "output_type": "stream",
          "text": [
            "Clipping input data to the valid range for imshow with RGB data ([0..1] for floats or [0..255] for integers).\n"
          ],
          "name": "stderr"
        },
        {
          "output_type": "stream",
          "text": [
            "tensor([0.], device='cuda:0', grad_fn=<CopyBackwards>)\n",
            "0.8146734833717346\n"
          ],
          "name": "stdout"
        },
        {
          "output_type": "display_data",
          "data": {
            "image/png": "[encoded data removed]",
            "text/plain": [
              "<Figure size 576x576 with 1 Axes>"
            ]
          },
          "metadata": {
            "tags": [],
            "needs_background": "light"
          }
        },
        {
          "output_type": "stream",
          "text": [
            "Clipping input data to the valid range for imshow with RGB data ([0..1] for floats or [0..255] for integers).\n"
          ],
          "name": "stderr"
        },
        {
          "output_type": "stream",
          "text": [
            "tensor([1.], device='cuda:0', grad_fn=<CopyBackwards>)\n",
            "0.43387266993522644\n"
          ],
          "name": "stdout"
        },
        {
          "output_type": "display_data",
          "data": {
            "image/png": "[encoded data removed]",
            "text/plain": [
              "<Figure size 576x576 with 1 Axes>"
            ]
          },
          "metadata": {
            "tags": [],
            "needs_background": "light"
          }
        },
        {
          "output_type": "stream",
          "text": [
            "Clipping input data to the valid range for imshow with RGB data ([0..1] for floats or [0..255] for integers).\n"
          ],
          "name": "stderr"
        },
        {
          "output_type": "stream",
          "text": [
            "tensor([0.], device='cuda:0', grad_fn=<CopyBackwards>)\n",
            "0.10937416553497314\n"
          ],
          "name": "stdout"
        },
        {
          "output_type": "display_data",
          "data": {
            "image/png": "[encoded data removed]",
            "text/plain": [
              "<Figure size 576x576 with 1 Axes>"
            ]
          },
          "metadata": {
            "tags": [],
            "needs_background": "light"
          }
        },
        {
          "output_type": "stream",
          "text": [
            "tensor([1.], device='cuda:0', grad_fn=<CopyBackwards>)\n",
            "0.36785009503364563\n"
          ],
          "name": "stdout"
        },
        {
          "output_type": "stream",
          "text": [
            "Clipping input data to the valid range for imshow with RGB data ([0..1] for floats or [0..255] for integers).\n"
          ],
          "name": "stderr"
        },
        {
          "output_type": "display_data",
          "data": {
            "image/png": "[encoded data removed]",
            "text/plain": [
              "<Figure size 576x576 with 1 Axes>"
            ]
          },
          "metadata": {
            "tags": [],
            "needs_background": "light"
          }
        },
        {
          "output_type": "stream",
          "text": [
            "tensor([0.], device='cuda:0', grad_fn=<CopyBackwards>)\n",
            "0.32478857040405273\n"
          ],
          "name": "stdout"
        },
        {
          "output_type": "stream",
          "text": [
            "Clipping input data to the valid range for imshow with RGB data ([0..1] for floats or [0..255] for integers).\n"
          ],
          "name": "stderr"
        },
        {
          "output_type": "display_data",
          "data": {
            "image/png": "[encoded data removed]",
            "text/plain": [
              "<Figure size 576x576 with 1 Axes>"
            ]
          },
          "metadata": {
            "tags": [],
            "needs_background": "light"
          }
        },
        {
          "output_type": "stream",
          "text": [
            "Clipping input data to the valid range for imshow with RGB data ([0..1] for floats or [0..255] for integers).\n"
          ],
          "name": "stderr"
        },
        {
          "output_type": "stream",
          "text": [
            "tensor([1.], device='cuda:0', grad_fn=<CopyBackwards>)\n",
            "0.24246905744075775\n"
          ],
          "name": "stdout"
        },
        {
          "output_type": "display_data",
          "data": {
            "image/png": "[encoded data removed]",
            "text/plain": [
              "<Figure size 576x576 with 1 Axes>"
            ]
          },
          "metadata": {
            "tags": [],
            "needs_background": "light"
          }
        },
        {
          "output_type": "stream",
          "text": [
            "tensor([0.], device='cuda:0', grad_fn=<CopyBackwards>)\n",
            "0.39763104915618896\n"
          ],
          "name": "stdout"
        },
        {
          "output_type": "stream",
          "text": [
            "Clipping input data to the valid range for imshow with RGB data ([0..1] for floats or [0..255] for integers).\n"
          ],
          "name": "stderr"
        },
        {
          "output_type": "display_data",
          "data": {
            "image/png": "[encoded data removed]",
            "text/plain": [
              "<Figure size 576x576 with 1 Axes>"
            ]
          },
          "metadata": {
            "tags": [],
            "needs_background": "light"
          }
        },
        {
          "output_type": "stream",
          "text": [
            "Clipping input data to the valid range for imshow with RGB data ([0..1] for floats or [0..255] for integers).\n"
          ],
          "name": "stderr"
        },
        {
          "output_type": "stream",
          "text": [
            "tensor([1.], device='cuda:0', grad_fn=<CopyBackwards>)\n",
            "0.30218052864074707\n"
          ],
          "name": "stdout"
        },
        {
          "output_type": "display_data",
          "data": {
            "image/png": "[encoded data removed]",
            "text/plain": [
              "<Figure size 576x576 with 1 Axes>"
            ]
          },
          "metadata": {
            "tags": [],
            "needs_background": "light"
          }
        },
        {
          "output_type": "stream",
          "text": [
            "tensor([0.], device='cuda:0', grad_fn=<CopyBackwards>)\n",
            "0.16105860471725464\n"
          ],
          "name": "stdout"
        },
        {
          "output_type": "stream",
          "text": [
            "Clipping input data to the valid range for imshow with RGB data ([0..1] for floats or [0..255] for integers).\n"
          ],
          "name": "stderr"
        },
        {
          "output_type": "display_data",
          "data": {
            "image/png": "[encoded data removed]",
            "text/plain": [
              "<Figure size 576x576 with 1 Axes>"
            ]
          },
          "metadata": {
            "tags": [],
            "needs_background": "light"
          }
        },
        {
          "output_type": "stream",
          "text": [
            "Clipping input data to the valid range for imshow with RGB data ([0..1] for floats or [0..255] for integers).\n"
          ],
          "name": "stderr"
        },
        {
          "output_type": "stream",
          "text": [
            "tensor([1.], device='cuda:0', grad_fn=<CopyBackwards>)\n",
            "0.21625590324401855\n"
          ],
          "name": "stdout"
        },
        {
          "output_type": "display_data",
          "data": {
            "image/png": "[encoded data removed]",
            "text/plain": [
              "<Figure size 576x576 with 1 Axes>"
            ]
          },
          "metadata": {
            "tags": [],
            "needs_background": "light"
          }
        },
        {
          "output_type": "stream",
          "text": [
            "tensor([0.], device='cuda:0', grad_fn=<CopyBackwards>)\n",
            "0.3015967607498169\n"
          ],
          "name": "stdout"
        },
        {
          "output_type": "stream",
          "text": [
            "Clipping input data to the valid range for imshow with RGB data ([0..1] for floats or [0..255] for integers).\n"
          ],
          "name": "stderr"
        },
        {
          "output_type": "display_data",
          "data": {
            "image/png": "[encoded data removed]",
            "text/plain": [
              "<Figure size 576x576 with 1 Axes>"
            ]
          },
          "metadata": {
            "tags": [],
            "needs_background": "light"
          }
        },
        {
          "output_type": "stream",
          "text": [
            "tensor([1.], device='cuda:0', grad_fn=<CopyBackwards>)\n",
            "0.4114440381526947\n"
          ],
          "name": "stdout"
        },
        {
          "output_type": "stream",
          "text": [
            "Clipping input data to the valid range for imshow with RGB data ([0..1] for floats or [0..255] for integers).\n"
          ],
          "name": "stderr"
        },
        {
          "output_type": "display_data",
          "data": {
            "image/png": "[encoded data removed]",
            "text/plain": [
              "<Figure size 576x576 with 1 Axes>"
            ]
          },
          "metadata": {
            "tags": [],
            "needs_background": "light"
          }
        },
        {
          "output_type": "stream",
          "text": [
            "tensor([0.], device='cuda:0', grad_fn=<CopyBackwards>)\n",
            "0.3671271502971649\n"
          ],
          "name": "stdout"
        },
        {
          "output_type": "stream",
          "text": [
            "Clipping input data to the valid range for imshow with RGB data ([0..1] for floats or [0..255] for integers).\n"
          ],
          "name": "stderr"
        },
        {
          "output_type": "display_data",
          "data": {
            "image/png": "[encoded data removed]",
            "text/plain": [
              "<Figure size 576x576 with 1 Axes>"
            ]
          },
          "metadata": {
            "tags": [],
            "needs_background": "light"
          }
        },
        {
          "output_type": "stream",
          "text": [
            "Clipping input data to the valid range for imshow with RGB data ([0..1] for floats or [0..255] for integers).\n"
          ],
          "name": "stderr"
        },
        {
          "output_type": "stream",
          "text": [
            "tensor([1.], device='cuda:0', grad_fn=<CopyBackwards>)\n",
            "0.7314351201057434\n"
          ],
          "name": "stdout"
        },
        {
          "output_type": "display_data",
          "data": {
            "image/png": "[encoded data removed]",
            "text/plain": [
              "<Figure size 576x576 with 1 Axes>"
            ]
          },
          "metadata": {
            "tags": [],
            "needs_background": "light"
          }
        },
        {
          "output_type": "stream",
          "text": [
            "tensor([0.], device='cuda:0', grad_fn=<CopyBackwards>)\n",
            "0.21349403262138367\n"
          ],
          "name": "stdout"
        },
        {
          "output_type": "stream",
          "text": [
            "Clipping input data to the valid range for imshow with RGB data ([0..1] for floats or [0..255] for integers).\n"
          ],
          "name": "stderr"
        },
        {
          "output_type": "display_data",
          "data": {
            "image/png": "[encoded data removed]",
            "text/plain": [
              "<Figure size 576x576 with 1 Axes>"
            ]
          },
          "metadata": {
            "tags": [],
            "needs_background": "light"
          }
        },
        {
          "output_type": "stream",
          "text": [
            "tensor([1.], device='cuda:0', grad_fn=<CopyBackwards>)\n",
            "0.2521706521511078\n"
          ],
          "name": "stdout"
        },
        {
          "output_type": "stream",
          "text": [
            "Clipping input data to the valid range for imshow with RGB data ([0..1] for floats or [0..255] for integers).\n"
          ],
          "name": "stderr"
        },
        {
          "output_type": "display_data",
          "data": {
            "image/png": "[encoded data removed]",
            "text/plain": [
              "<Figure size 576x576 with 1 Axes>"
            ]
          },
          "metadata": {
            "tags": [],
            "needs_background": "light"
          }
        },
        {
          "output_type": "stream",
          "text": [
            "tensor([0.], device='cuda:0', grad_fn=<CopyBackwards>)\n",
            "0.19490927457809448\n"
          ],
          "name": "stdout"
        },
        {
          "output_type": "stream",
          "text": [
            "Clipping input data to the valid range for imshow with RGB data ([0..1] for floats or [0..255] for integers).\n"
          ],
          "name": "stderr"
        },
        {
          "output_type": "display_data",
          "data": {
            "image/png": "[encoded data removed]",
            "text/plain": [
              "<Figure size 576x576 with 1 Axes>"
            ]
          },
          "metadata": {
            "tags": [],
            "needs_background": "light"
          }
        },
        {
          "output_type": "stream",
          "text": [
            "Clipping input data to the valid range for imshow with RGB data ([0..1] for floats or [0..255] for integers).\n"
          ],
          "name": "stderr"
        },
        {
          "output_type": "stream",
          "text": [
            "tensor([1.], device='cuda:0', grad_fn=<CopyBackwards>)\n",
            "0.29947519302368164\n"
          ],
          "name": "stdout"
        },
        {
          "output_type": "display_data",
          "data": {
            "image/png": "[encoded data removed]",
            "text/plain": [
              "<Figure size 576x576 with 1 Axes>"
            ]
          },
          "metadata": {
            "tags": [],
            "needs_background": "light"
          }
        },
        {
          "output_type": "stream",
          "text": [
            "tensor([0.], device='cuda:0', grad_fn=<CopyBackwards>)\n",
            "0.6202192306518555\n"
          ],
          "name": "stdout"
        },
        {
          "output_type": "stream",
          "text": [
            "Clipping input data to the valid range for imshow with RGB data ([0..1] for floats or [0..255] for integers).\n"
          ],
          "name": "stderr"
        },
        {
          "output_type": "display_data",
          "data": {
            "image/png": "[encoded data removed]",
            "text/plain": [
              "<Figure size 576x576 with 1 Axes>"
            ]
          },
          "metadata": {
            "tags": [],
            "needs_background": "light"
          }
        },
        {
          "output_type": "stream",
          "text": [
            "Clipping input data to the valid range for imshow with RGB data ([0..1] for floats or [0..255] for integers).\n"
          ],
          "name": "stderr"
        },
        {
          "output_type": "stream",
          "text": [
            "tensor([1.], device='cuda:0', grad_fn=<CopyBackwards>)\n",
            "0.34052759408950806\n"
          ],
          "name": "stdout"
        },
        {
          "output_type": "display_data",
          "data": {
            "image/png": "[encoded data removed]",
            "text/plain": [
              "<Figure size 576x576 with 1 Axes>"
            ]
          },
          "metadata": {
            "tags": [],
            "needs_background": "light"
          }
        },
        {
          "output_type": "stream",
          "text": [
            "tensor([0.], device='cuda:0', grad_fn=<CopyBackwards>)\n",
            "0.49641773104667664\n"
          ],
          "name": "stdout"
        },
        {
          "output_type": "stream",
          "text": [
            "Clipping input data to the valid range for imshow with RGB data ([0..1] for floats or [0..255] for integers).\n"
          ],
          "name": "stderr"
        },
        {
          "output_type": "display_data",
          "data": {
            "image/png": "[encoded data removed]",
            "text/plain": [
              "<Figure size 576x576 with 1 Axes>"
            ]
          },
          "metadata": {
            "tags": [],
            "needs_background": "light"
          }
        },
        {
          "output_type": "stream",
          "text": [
            "Clipping input data to the valid range for imshow with RGB data ([0..1] for floats or [0..255] for integers).\n"
          ],
          "name": "stderr"
        },
        {
          "output_type": "stream",
          "text": [
            "tensor([1.], device='cuda:0', grad_fn=<CopyBackwards>)\n",
            "0.39096885919570923\n"
          ],
          "name": "stdout"
        },
        {
          "output_type": "display_data",
          "data": {
            "image/png": "[encoded data removed]",
            "text/plain": [
              "<Figure size 576x576 with 1 Axes>"
            ]
          },
          "metadata": {
            "tags": [],
            "needs_background": "light"
          }
        },
        {
          "output_type": "stream",
          "text": [
            "Clipping input data to the valid range for imshow with RGB data ([0..1] for floats or [0..255] for integers).\n"
          ],
          "name": "stderr"
        },
        {
          "output_type": "stream",
          "text": [
            "tensor([0.], device='cuda:0', grad_fn=<CopyBackwards>)\n",
            "0.1709694266319275\n"
          ],
          "name": "stdout"
        },
        {
          "output_type": "display_data",
          "data": {
            "image/png": "[encoded data removed]",
            "text/plain": [
              "<Figure size 576x576 with 1 Axes>"
            ]
          },
          "metadata": {
            "tags": [],
            "needs_background": "light"
          }
        },
        {
          "output_type": "stream",
          "text": [
            "Clipping input data to the valid range for imshow with RGB data ([0..1] for floats or [0..255] for integers).\n"
          ],
          "name": "stderr"
        },
        {
          "output_type": "stream",
          "text": [
            "tensor([1.], device='cuda:0', grad_fn=<CopyBackwards>)\n",
            "0.45946505665779114\n"
          ],
          "name": "stdout"
        },
        {
          "output_type": "display_data",
          "data": {
            "image/png": "[encoded data removed]",
            "text/plain": [
              "<Figure size 576x576 with 1 Axes>"
            ]
          },
          "metadata": {
            "tags": [],
            "needs_background": "light"
          }
        },
        {
          "output_type": "stream",
          "text": [
            "Clipping input data to the valid range for imshow with RGB data ([0..1] for floats or [0..255] for integers).\n"
          ],
          "name": "stderr"
        },
        {
          "output_type": "stream",
          "text": [
            "tensor([0.], device='cuda:0', grad_fn=<CopyBackwards>)\n",
            "0.4104618430137634\n"
          ],
          "name": "stdout"
        },
        {
          "output_type": "display_data",
          "data": {
            "image/png": "[encoded data removed]",
            "text/plain": [
              "<Figure size 576x576 with 1 Axes>"
            ]
          },
          "metadata": {
            "tags": [],
            "needs_background": "light"
          }
        },
        {
          "output_type": "stream",
          "text": [
            "Clipping input data to the valid range for imshow with RGB data ([0..1] for floats or [0..255] for integers).\n"
          ],
          "name": "stderr"
        },
        {
          "output_type": "stream",
          "text": [
            "tensor([1.], device='cuda:0', grad_fn=<CopyBackwards>)\n",
            "0.7150676846504211\n"
          ],
          "name": "stdout"
        },
        {
          "output_type": "display_data",
          "data": {
            "image/png": "[encoded data removed]",
            "text/plain": [
              "<Figure size 576x576 with 1 Axes>"
            ]
          },
          "metadata": {
            "tags": [],
            "needs_background": "light"
          }
        },
        {
          "output_type": "stream",
          "text": [
            "tensor([0.], device='cuda:0', grad_fn=<CopyBackwards>)\n",
            "0.16787441074848175\n"
          ],
          "name": "stdout"
        },
        {
          "output_type": "stream",
          "text": [
            "Clipping input data to the valid range for imshow with RGB data ([0..1] for floats or [0..255] for integers).\n"
          ],
          "name": "stderr"
        },
        {
          "output_type": "display_data",
          "data": {
            "image/png": "[encoded data removed]",
            "text/plain": [
              "<Figure size 576x576 with 1 Axes>"
            ]
          },
          "metadata": {
            "tags": [],
            "needs_background": "light"
          }
        },
        {
          "output_type": "stream",
          "text": [
            "Clipping input data to the valid range for imshow with RGB data ([0..1] for floats or [0..255] for integers).\n"
          ],
          "name": "stderr"
        },
        {
          "output_type": "stream",
          "text": [
            "tensor([1.], device='cuda:0', grad_fn=<CopyBackwards>)\n",
            "1.7584154605865479\n"
          ],
          "name": "stdout"
        },
        {
          "output_type": "display_data",
          "data": {
            "image/png": "[encoded data removed]",
            "text/plain": [
              "<Figure size 576x576 with 1 Axes>"
            ]
          },
          "metadata": {
            "tags": [],
            "needs_background": "light"
          }
        },
        {
          "output_type": "stream",
          "text": [
            "Clipping input data to the valid range for imshow with RGB data ([0..1] for floats or [0..255] for integers).\n"
          ],
          "name": "stderr"
        },
        {
          "output_type": "stream",
          "text": [
            "tensor([0.], device='cuda:0', grad_fn=<CopyBackwards>)\n",
            "0.8436579704284668\n"
          ],
          "name": "stdout"
        },
        {
          "output_type": "display_data",
          "data": {
            "image/png": "[encoded data removed]",
            "text/plain": [
              "<Figure size 576x576 with 1 Axes>"
            ]
          },
          "metadata": {
            "tags": [],
            "needs_background": "light"
          }
        },
        {
          "output_type": "stream",
          "text": [
            "tensor([1.], device='cuda:0', grad_fn=<CopyBackwards>)\n",
            "1.2575427293777466\n"
          ],
          "name": "stdout"
        },
        {
          "output_type": "stream",
          "text": [
            "Clipping input data to the valid range for imshow with RGB data ([0..1] for floats or [0..255] for integers).\n"
          ],
          "name": "stderr"
        },
        {
          "output_type": "display_data",
          "data": {
            "image/png": "[encoded data removed]",
            "text/plain": [
              "<Figure size 576x576 with 1 Axes>"
            ]
          },
          "metadata": {
            "tags": [],
            "needs_background": "light"
          }
        },
        {
          "output_type": "stream",
          "text": [
            "tensor([0.], device='cuda:0', grad_fn=<CopyBackwards>)\n",
            "0.32542261481285095\n"
          ],
          "name": "stdout"
        },
        {
          "output_type": "stream",
          "text": [
            "Clipping input data to the valid range for imshow with RGB data ([0..1] for floats or [0..255] for integers).\n"
          ],
          "name": "stderr"
        },
        {
          "output_type": "display_data",
          "data": {
            "image/png": "[encoded data removed]",
            "text/plain": [
              "<Figure size 576x576 with 1 Axes>"
            ]
          },
          "metadata": {
            "tags": [],
            "needs_background": "light"
          }
        },
        {
          "output_type": "stream",
          "text": [
            "tensor([1.], device='cuda:0', grad_fn=<CopyBackwards>)\n",
            "0.20401857793331146\n"
          ],
          "name": "stdout"
        },
        {
          "output_type": "stream",
          "text": [
            "Clipping input data to the valid range for imshow with RGB data ([0..1] for floats or [0..255] for integers).\n"
          ],
          "name": "stderr"
        },
        {
          "output_type": "display_data",
          "data": {
            "image/png": "[encoded data removed]",
            "text/plain": [
              "<Figure size 576x576 with 1 Axes>"
            ]
          },
          "metadata": {
            "tags": [],
            "needs_background": "light"
          }
        },
        {
          "output_type": "stream",
          "text": [
            "Clipping input data to the valid range for imshow with RGB data ([0..1] for floats or [0..255] for integers).\n"
          ],
          "name": "stderr"
        },
        {
          "output_type": "stream",
          "text": [
            "tensor([0.], device='cuda:0', grad_fn=<CopyBackwards>)\n",
            "0.19809980690479279\n"
          ],
          "name": "stdout"
        },
        {
          "output_type": "display_data",
          "data": {
            "image/png": "[encoded data removed]",
            "text/plain": [
              "<Figure size 576x576 with 1 Axes>"
            ]
          },
          "metadata": {
            "tags": [],
            "needs_background": "light"
          }
        },
        {
          "output_type": "stream",
          "text": [
            "Clipping input data to the valid range for imshow with RGB data ([0..1] for floats or [0..255] for integers).\n"
          ],
          "name": "stderr"
        },
        {
          "output_type": "stream",
          "text": [
            "tensor([1.], device='cuda:0', grad_fn=<CopyBackwards>)\n",
            "0.6170476675033569\n"
          ],
          "name": "stdout"
        },
        {
          "output_type": "display_data",
          "data": {
            "image/png": "[encoded data removed]",
            "text/plain": [
              "<Figure size 576x576 with 1 Axes>"
            ]
          },
          "metadata": {
            "tags": [],
            "needs_background": "light"
          }
        },
        {
          "output_type": "stream",
          "text": [
            "Clipping input data to the valid range for imshow with RGB data ([0..1] for floats or [0..255] for integers).\n"
          ],
          "name": "stderr"
        },
        {
          "output_type": "stream",
          "text": [
            "tensor([0.], device='cuda:0', grad_fn=<CopyBackwards>)\n",
            "1.1731568574905396\n"
          ],
          "name": "stdout"
        },
        {
          "output_type": "display_data",
          "data": {
            "image/png": "[encoded data removed]",
            "text/plain": [
              "<Figure size 576x576 with 1 Axes>"
            ]
          },
          "metadata": {
            "tags": [],
            "needs_background": "light"
          }
        },
        {
          "output_type": "stream",
          "text": [
            "tensor([1.], device='cuda:0', grad_fn=<CopyBackwards>)\n",
            "0.5277333855628967\n"
          ],
          "name": "stdout"
        },
        {
          "output_type": "stream",
          "text": [
            "Clipping input data to the valid range for imshow with RGB data ([0..1] for floats or [0..255] for integers).\n"
          ],
          "name": "stderr"
        },
        {
          "output_type": "display_data",
          "data": {
            "image/png": "[encoded data removed]",
            "text/plain": [
              "<Figure size 576x576 with 1 Axes>"
            ]
          },
          "metadata": {
            "tags": [],
            "needs_background": "light"
          }
        },
        {
          "output_type": "stream",
          "text": [
            "Clipping input data to the valid range for imshow with RGB data ([0..1] for floats or [0..255] for integers).\n"
          ],
          "name": "stderr"
        },
        {
          "output_type": "stream",
          "text": [
            "tensor([0.], device='cuda:0', grad_fn=<CopyBackwards>)\n",
            "0.4881057143211365\n"
          ],
          "name": "stdout"
        },
        {
          "output_type": "display_data",
          "data": {
            "image/png": "[encoded data removed]",
            "text/plain": [
              "<Figure size 576x576 with 1 Axes>"
            ]
          },
          "metadata": {
            "tags": [],
            "needs_background": "light"
          }
        },
        {
          "output_type": "stream",
          "text": [
            "Clipping input data to the valid range for imshow with RGB data ([0..1] for floats or [0..255] for integers).\n"
          ],
          "name": "stderr"
        },
        {
          "output_type": "stream",
          "text": [
            "tensor([1.], device='cuda:0', grad_fn=<CopyBackwards>)\n",
            "0.44797566533088684\n"
          ],
          "name": "stdout"
        },
        {
          "output_type": "display_data",
          "data": {
            "image/png": "[encoded data removed]",
            "text/plain": [
              "<Figure size 576x576 with 1 Axes>"
            ]
          },
          "metadata": {
            "tags": [],
            "needs_background": "light"
          }
        },
        {
          "output_type": "stream",
          "text": [
            "Clipping input data to the valid range for imshow with RGB data ([0..1] for floats or [0..255] for integers).\n"
          ],
          "name": "stderr"
        },
        {
          "output_type": "stream",
          "text": [
            "tensor([0.], device='cuda:0', grad_fn=<CopyBackwards>)\n",
            "0.17435885965824127\n"
          ],
          "name": "stdout"
        },
        {
          "output_type": "display_data",
          "data": {
            "image/png": "[encoded data removed]",
            "text/plain": [
              "<Figure size 576x576 with 1 Axes>"
            ]
          },
          "metadata": {
            "tags": [],
            "needs_background": "light"
          }
        },
        {
          "output_type": "stream",
          "text": [
            "Clipping input data to the valid range for imshow with RGB data ([0..1] for floats or [0..255] for integers).\n"
          ],
          "name": "stderr"
        },
        {
          "output_type": "stream",
          "text": [
            "tensor([1.], device='cuda:0', grad_fn=<CopyBackwards>)\n",
            "0.17859791219234467\n"
          ],
          "name": "stdout"
        },
        {
          "output_type": "display_data",
          "data": {
            "image/png": "[encoded data removed]",
            "text/plain": [
              "<Figure size 576x576 with 1 Axes>"
            ]
          },
          "metadata": {
            "tags": [],
            "needs_background": "light"
          }
        },
        {
          "output_type": "stream",
          "text": [
            "tensor([0.], device='cuda:0', grad_fn=<CopyBackwards>)\n",
            "0.11100534349679947\n"
          ],
          "name": "stdout"
        },
        {
          "output_type": "stream",
          "text": [
            "Clipping input data to the valid range for imshow with RGB data ([0..1] for floats or [0..255] for integers).\n"
          ],
          "name": "stderr"
        },
        {
          "output_type": "display_data",
          "data": {
            "image/png": "[encoded data removed]",
            "text/plain": [
              "<Figure size 576x576 with 1 Axes>"
            ]
          },
          "metadata": {
            "tags": [],
            "needs_background": "light"
          }
        },
        {
          "output_type": "stream",
          "text": [
            "tensor([1.], device='cuda:0', grad_fn=<CopyBackwards>)\n",
            "0.4123050272464752\n"
          ],
          "name": "stdout"
        },
        {
          "output_type": "stream",
          "text": [
            "Clipping input data to the valid range for imshow with RGB data ([0..1] for floats or [0..255] for integers).\n"
          ],
          "name": "stderr"
        },
        {
          "output_type": "display_data",
          "data": {
            "image/png": "[encoded data removed]",
            "text/plain": [
              "<Figure size 576x576 with 1 Axes>"
            ]
          },
          "metadata": {
            "tags": [],
            "needs_background": "light"
          }
        },
        {
          "output_type": "stream",
          "text": [
            "tensor([0.], device='cuda:0', grad_fn=<CopyBackwards>)\n",
            "3.121037721633911\n"
          ],
          "name": "stdout"
        },
        {
          "output_type": "stream",
          "text": [
            "Clipping input data to the valid range for imshow with RGB data ([0..1] for floats or [0..255] for integers).\n"
          ],
          "name": "stderr"
        },
        {
          "output_type": "display_data",
          "data": {
            "image/png": "[encoded data removed]",
            "text/plain": [
              "<Figure size 576x576 with 1 Axes>"
            ]
          },
          "metadata": {
            "tags": [],
            "needs_background": "light"
          }
        },
        {
          "output_type": "stream",
          "text": [
            "tensor([1.], device='cuda:0', grad_fn=<CopyBackwards>)\n",
            "0.2223035842180252\n"
          ],
          "name": "stdout"
        },
        {
          "output_type": "stream",
          "text": [
            "Clipping input data to the valid range for imshow with RGB data ([0..1] for floats or [0..255] for integers).\n"
          ],
          "name": "stderr"
        },
        {
          "output_type": "display_data",
          "data": {
            "image/png": "[encoded data removed]",
            "text/plain": [
              "<Figure size 576x576 with 1 Axes>"
            ]
          },
          "metadata": {
            "tags": [],
            "needs_background": "light"
          }
        },
        {
          "output_type": "stream",
          "text": [
            "Clipping input data to the valid range for imshow with RGB data ([0..1] for floats or [0..255] for integers).\n"
          ],
          "name": "stderr"
        },
        {
          "output_type": "stream",
          "text": [
            "tensor([0.], device='cuda:0', grad_fn=<CopyBackwards>)\n",
            "0.35232338309288025\n"
          ],
          "name": "stdout"
        },
        {
          "output_type": "display_data",
          "data": {
            "image/png": "[encoded data removed]",
            "text/plain": [
              "<Figure size 576x576 with 1 Axes>"
            ]
          },
          "metadata": {
            "tags": [],
            "needs_background": "light"
          }
        },
        {
          "output_type": "stream",
          "text": [
            "Clipping input data to the valid range for imshow with RGB data ([0..1] for floats or [0..255] for integers).\n"
          ],
          "name": "stderr"
        },
        {
          "output_type": "stream",
          "text": [
            "tensor([1.], device='cuda:0', grad_fn=<CopyBackwards>)\n",
            "0.16269896924495697\n"
          ],
          "name": "stdout"
        },
        {
          "output_type": "display_data",
          "data": {
            "image/png": "[encoded data removed]",
            "text/plain": [
              "<Figure size 576x576 with 1 Axes>"
            ]
          },
          "metadata": {
            "tags": [],
            "needs_background": "light"
          }
        },
        {
          "output_type": "stream",
          "text": [
            "Clipping input data to the valid range for imshow with RGB data ([0..1] for floats or [0..255] for integers).\n"
          ],
          "name": "stderr"
        },
        {
          "output_type": "stream",
          "text": [
            "tensor([0.], device='cuda:0', grad_fn=<CopyBackwards>)\n",
            "0.19361568987369537\n"
          ],
          "name": "stdout"
        },
        {
          "output_type": "display_data",
          "data": {
            "image/png": "[encoded data removed]",
            "text/plain": [
              "<Figure size 576x576 with 1 Axes>"
            ]
          },
          "metadata": {
            "tags": [],
            "needs_background": "light"
          }
        },
        {
          "output_type": "stream",
          "text": [
            "Clipping input data to the valid range for imshow with RGB data ([0..1] for floats or [0..255] for integers).\n"
          ],
          "name": "stderr"
        },
        {
          "output_type": "stream",
          "text": [
            "tensor([1.], device='cuda:0', grad_fn=<CopyBackwards>)\n",
            "0.22204206883907318\n"
          ],
          "name": "stdout"
        },
        {
          "output_type": "display_data",
          "data": {
            "image/png": "[encoded data removed]",
            "text/plain": [
              "<Figure size 576x576 with 1 Axes>"
            ]
          },
          "metadata": {
            "tags": [],
            "needs_background": "light"
          }
        },
        {
          "output_type": "stream",
          "text": [
            "tensor([0.], device='cuda:0', grad_fn=<CopyBackwards>)\n",
            "0.24021746218204498\n"
          ],
          "name": "stdout"
        },
        {
          "output_type": "stream",
          "text": [
            "Clipping input data to the valid range for imshow with RGB data ([0..1] for floats or [0..255] for integers).\n"
          ],
          "name": "stderr"
        },
        {
          "output_type": "display_data",
          "data": {
            "image/png": "[encoded data removed]",
            "text/plain": [
              "<Figure size 576x576 with 1 Axes>"
            ]
          },
          "metadata": {
            "tags": [],
            "needs_background": "light"
          }
        },
        {
          "output_type": "stream",
          "text": [
            "Clipping input data to the valid range for imshow with RGB data ([0..1] for floats or [0..255] for integers).\n"
          ],
          "name": "stderr"
        },
        {
          "output_type": "stream",
          "text": [
            "tensor([1.], device='cuda:0', grad_fn=<CopyBackwards>)\n",
            "0.6555781960487366\n"
          ],
          "name": "stdout"
        },
        {
          "output_type": "display_data",
          "data": {
            "image/png": "[encoded data removed]",
            "text/plain": [
              "<Figure size 576x576 with 1 Axes>"
            ]
          },
          "metadata": {
            "tags": [],
            "needs_background": "light"
          }
        },
        {
          "output_type": "stream",
          "text": [
            "Clipping input data to the valid range for imshow with RGB data ([0..1] for floats or [0..255] for integers).\n"
          ],
          "name": "stderr"
        },
        {
          "output_type": "stream",
          "text": [
            "tensor([0.], device='cuda:0', grad_fn=<CopyBackwards>)\n",
            "0.2612718641757965\n"
          ],
          "name": "stdout"
        },
        {
          "output_type": "display_data",
          "data": {
            "image/png": "[encoded data removed]",
            "text/plain": [
              "<Figure size 576x576 with 1 Axes>"
            ]
          },
          "metadata": {
            "tags": [],
            "needs_background": "light"
          }
        },
        {
          "output_type": "stream",
          "text": [
            "tensor([1.], device='cuda:0', grad_fn=<CopyBackwards>)\n",
            "0.48714184761047363\n"
          ],
          "name": "stdout"
        },
        {
          "output_type": "stream",
          "text": [
            "Clipping input data to the valid range for imshow with RGB data ([0..1] for floats or [0..255] for integers).\n"
          ],
          "name": "stderr"
        },
        {
          "output_type": "display_data",
          "data": {
            "image/png": "[encoded data removed]",
            "text/plain": [
              "<Figure size 576x576 with 1 Axes>"
            ]
          },
          "metadata": {
            "tags": [],
            "needs_background": "light"
          }
        },
        {
          "output_type": "stream",
          "text": [
            "tensor([0.], device='cuda:0', grad_fn=<CopyBackwards>)\n",
            "0.2151324599981308\n"
          ],
          "name": "stdout"
        },
        {
          "output_type": "stream",
          "text": [
            "Clipping input data to the valid range for imshow with RGB data ([0..1] for floats or [0..255] for integers).\n"
          ],
          "name": "stderr"
        },
        {
          "output_type": "display_data",
          "data": {
            "image/png": "[encoded data removed]",
            "text/plain": [
              "<Figure size 576x576 with 1 Axes>"
            ]
          },
          "metadata": {
            "tags": [],
            "needs_background": "light"
          }
        },
        {
          "output_type": "stream",
          "text": [
            "Clipping input data to the valid range for imshow with RGB data ([0..1] for floats or [0..255] for integers).\n"
          ],
          "name": "stderr"
        },
        {
          "output_type": "stream",
          "text": [
            "tensor([1.], device='cuda:0', grad_fn=<CopyBackwards>)\n",
            "0.29747939109802246\n"
          ],
          "name": "stdout"
        },
        {
          "output_type": "display_data",
          "data": {
            "image/png": "[encoded data removed]",
            "text/plain": [
              "<Figure size 576x576 with 1 Axes>"
            ]
          },
          "metadata": {
            "tags": [],
            "needs_background": "light"
          }
        },
        {
          "output_type": "stream",
          "text": [
            "Clipping input data to the valid range for imshow with RGB data ([0..1] for floats or [0..255] for integers).\n"
          ],
          "name": "stderr"
        },
        {
          "output_type": "stream",
          "text": [
            "tensor([0.], device='cuda:0', grad_fn=<CopyBackwards>)\n",
            "0.7512289881706238\n"
          ],
          "name": "stdout"
        },
        {
          "output_type": "display_data",
          "data": {
            "image/png": "[encoded data removed]",
            "text/plain": [
              "<Figure size 576x576 with 1 Axes>"
            ]
          },
          "metadata": {
            "tags": [],
            "needs_background": "light"
          }
        },
        {
          "output_type": "stream",
          "text": [
            "Clipping input data to the valid range for imshow with RGB data ([0..1] for floats or [0..255] for integers).\n"
          ],
          "name": "stderr"
        },
        {
          "output_type": "stream",
          "text": [
            "tensor([1.], device='cuda:0', grad_fn=<CopyBackwards>)\n",
            "0.4027443826198578\n"
          ],
          "name": "stdout"
        },
        {
          "output_type": "display_data",
          "data": {
            "image/png": "[encoded data removed]",
            "text/plain": [
              "<Figure size 576x576 with 1 Axes>"
            ]
          },
          "metadata": {
            "tags": [],
            "needs_background": "light"
          }
        },
        {
          "output_type": "stream",
          "text": [
            "tensor([0.], device='cuda:0', grad_fn=<CopyBackwards>)\n",
            "1.189945936203003\n"
          ],
          "name": "stdout"
        },
        {
          "output_type": "stream",
          "text": [
            "Clipping input data to the valid range for imshow with RGB data ([0..1] for floats or [0..255] for integers).\n"
          ],
          "name": "stderr"
        },
        {
          "output_type": "display_data",
          "data": {
            "image/png": "[encoded data removed]",
            "text/plain": [
              "<Figure size 576x576 with 1 Axes>"
            ]
          },
          "metadata": {
            "tags": [],
            "needs_background": "light"
          }
        },
        {
          "output_type": "stream",
          "text": [
            "Clipping input data to the valid range for imshow with RGB data ([0..1] for floats or [0..255] for integers).\n"
          ],
          "name": "stderr"
        },
        {
          "output_type": "stream",
          "text": [
            "tensor([1.], device='cuda:0', grad_fn=<CopyBackwards>)\n",
            "0.30256474018096924\n"
          ],
          "name": "stdout"
        },
        {
          "output_type": "display_data",
          "data": {
            "image/png": "[encoded data removed]",
            "text/plain": [
              "<Figure size 576x576 with 1 Axes>"
            ]
          },
          "metadata": {
            "tags": [],
            "needs_background": "light"
          }
        },
        {
          "output_type": "stream",
          "text": [
            "tensor([0.], device='cuda:0', grad_fn=<CopyBackwards>)\n",
            "0.4119301438331604\n"
          ],
          "name": "stdout"
        },
        {
          "output_type": "stream",
          "text": [
            "Clipping input data to the valid range for imshow with RGB data ([0..1] for floats or [0..255] for integers).\n"
          ],
          "name": "stderr"
        },
        {
          "output_type": "display_data",
          "data": {
            "image/png": "[encoded data removed]",
            "text/plain": [
              "<Figure size 576x576 with 1 Axes>"
            ]
          },
          "metadata": {
            "tags": [],
            "needs_background": "light"
          }
        },
        {
          "output_type": "stream",
          "text": [
            "tensor([1.], device='cuda:0', grad_fn=<CopyBackwards>)\n",
            "0.3353075385093689\n"
          ],
          "name": "stdout"
        },
        {
          "output_type": "stream",
          "text": [
            "Clipping input data to the valid range for imshow with RGB data ([0..1] for floats or [0..255] for integers).\n"
          ],
          "name": "stderr"
        },
        {
          "output_type": "display_data",
          "data": {
            "image/png": "[encoded data removed]",
            "text/plain": [
              "<Figure size 576x576 with 1 Axes>"
            ]
          },
          "metadata": {
            "tags": [],
            "needs_background": "light"
          }
        },
        {
          "output_type": "stream",
          "text": [
            "Clipping input data to the valid range for imshow with RGB data ([0..1] for floats or [0..255] for integers).\n"
          ],
          "name": "stderr"
        },
        {
          "output_type": "stream",
          "text": [
            "tensor([0.], device='cuda:0', grad_fn=<CopyBackwards>)\n",
            "0.4322427809238434\n"
          ],
          "name": "stdout"
        },
        {
          "output_type": "display_data",
          "data": {
            "image/png": "[encoded data removed]",
            "text/plain": [
              "<Figure size 576x576 with 1 Axes>"
            ]
          },
          "metadata": {
            "tags": [],
            "needs_background": "light"
          }
        },
        {
          "output_type": "stream",
          "text": [
            "Clipping input data to the valid range for imshow with RGB data ([0..1] for floats or [0..255] for integers).\n"
          ],
          "name": "stderr"
        },
        {
          "output_type": "stream",
          "text": [
            "tensor([1.], device='cuda:0', grad_fn=<CopyBackwards>)\n",
            "1.2891604900360107\n"
          ],
          "name": "stdout"
        },
        {
          "output_type": "display_data",
          "data": {
            "image/png": "[encoded data removed]",
            "text/plain": [
              "<Figure size 576x576 with 1 Axes>"
            ]
          },
          "metadata": {
            "tags": [],
            "needs_background": "light"
          }
        },
        {
          "output_type": "stream",
          "text": [
            "tensor([0.], device='cuda:0', grad_fn=<CopyBackwards>)\n",
            "0.6074843406677246\n"
          ],
          "name": "stdout"
        },
        {
          "output_type": "stream",
          "text": [
            "Clipping input data to the valid range for imshow with RGB data ([0..1] for floats or [0..255] for integers).\n"
          ],
          "name": "stderr"
        },
        {
          "output_type": "display_data",
          "data": {
            "image/png": "[encoded data removed]",
            "text/plain": [
              "<Figure size 576x576 with 1 Axes>"
            ]
          },
          "metadata": {
            "tags": [],
            "needs_background": "light"
          }
        },
        {
          "output_type": "stream",
          "text": [
            "Clipping input data to the valid range for imshow with RGB data ([0..1] for floats or [0..255] for integers).\n"
          ],
          "name": "stderr"
        },
        {
          "output_type": "stream",
          "text": [
            "tensor([1.], device='cuda:0', grad_fn=<CopyBackwards>)\n",
            "0.2173546999692917\n"
          ],
          "name": "stdout"
        },
        {
          "output_type": "display_data",
          "data": {
            "image/png": "[encoded data removed]",
            "text/plain": [
              "<Figure size 576x576 with 1 Axes>"
            ]
          },
          "metadata": {
            "tags": [],
            "needs_background": "light"
          }
        },
        {
          "output_type": "stream",
          "text": [
            "tensor([0.], device='cuda:0', grad_fn=<CopyBackwards>)\n",
            "0.25715380907058716\n"
          ],
          "name": "stdout"
        },
        {
          "output_type": "stream",
          "text": [
            "Clipping input data to the valid range for imshow with RGB data ([0..1] for floats or [0..255] for integers).\n"
          ],
          "name": "stderr"
        },
        {
          "output_type": "display_data",
          "data": {
            "image/png": "[encoded data removed]",
            "text/plain": [
              "<Figure size 576x576 with 1 Axes>"
            ]
          },
          "metadata": {
            "tags": [],
            "needs_background": "light"
          }
        },
        {
          "output_type": "stream",
          "text": [
            "tensor([1.], device='cuda:0', grad_fn=<CopyBackwards>)\n",
            "0.07876184582710266\n"
          ],
          "name": "stdout"
        },
        {
          "output_type": "stream",
          "text": [
            "Clipping input data to the valid range for imshow with RGB data ([0..1] for floats or [0..255] for integers).\n"
          ],
          "name": "stderr"
        },
        {
          "output_type": "display_data",
          "data": {
            "image/png": "[encoded data removed]",
            "text/plain": [
              "<Figure size 576x576 with 1 Axes>"
            ]
          },
          "metadata": {
            "tags": [],
            "needs_background": "light"
          }
        },
        {
          "output_type": "stream",
          "text": [
            "tensor([0.], device='cuda:0', grad_fn=<CopyBackwards>)\n",
            "0.4277524948120117\n"
          ],
          "name": "stdout"
        },
        {
          "output_type": "stream",
          "text": [
            "Clipping input data to the valid range for imshow with RGB data ([0..1] for floats or [0..255] for integers).\n"
          ],
          "name": "stderr"
        },
        {
          "output_type": "display_data",
          "data": {
            "image/png": "[encoded data removed]",
            "text/plain": [
              "<Figure size 576x576 with 1 Axes>"
            ]
          },
          "metadata": {
            "tags": [],
            "needs_background": "light"
          }
        },
        {
          "output_type": "stream",
          "text": [
            "Clipping input data to the valid range for imshow with RGB data ([0..1] for floats or [0..255] for integers).\n"
          ],
          "name": "stderr"
        },
        {
          "output_type": "stream",
          "text": [
            "tensor([1.], device='cuda:0', grad_fn=<CopyBackwards>)\n",
            "0.8073017001152039\n"
          ],
          "name": "stdout"
        },
        {
          "output_type": "display_data",
          "data": {
            "image/png": "[encoded data removed]",
            "text/plain": [
              "<Figure size 576x576 with 1 Axes>"
            ]
          },
          "metadata": {
            "tags": [],
            "needs_background": "light"
          }
        },
        {
          "output_type": "stream",
          "text": [
            "tensor([0.], device='cuda:0', grad_fn=<CopyBackwards>)\n",
            "0.13373617827892303\n"
          ],
          "name": "stdout"
        },
        {
          "output_type": "stream",
          "text": [
            "Clipping input data to the valid range for imshow with RGB data ([0..1] for floats or [0..255] for integers).\n"
          ],
          "name": "stderr"
        },
        {
          "output_type": "display_data",
          "data": {
            "image/png": "[encoded data removed]",
            "text/plain": [
              "<Figure size 576x576 with 1 Axes>"
            ]
          },
          "metadata": {
            "tags": [],
            "needs_background": "light"
          }
        }
      ]
    },
    {
      "cell_type": "code",
      "metadata": {
        "id": "qxHhHMfZIjlG",
        "colab_type": "code",
        "colab": {}
      },
      "source": [
        ""
      ],
      "execution_count": null,
      "outputs": []
    }
  ]
}