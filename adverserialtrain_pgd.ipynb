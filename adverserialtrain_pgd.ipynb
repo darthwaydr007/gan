{
  "nbformat": 4,
  "nbformat_minor": 0,
  "metadata": {
    "colab": {
      "name": "adverserialtrain_pgd.ipynb",
      "provenance": [],
      "authorship_tag": "ABX9TyPvfPHnPjE1BVXqTPdNnSIR",
      "include_colab_link": true
    },
    "kernelspec": {
      "name": "python3",
      "display_name": "Python 3"
    },
    "accelerator": "GPU"
  },
  "cells": [
    {
      "cell_type": "markdown",
      "metadata": {
        "id": "view-in-github",
        "colab_type": "text"
      },
      "source": [
        "<a href=\"https://colab.research.google.com/github/darthwaydr007/gan/blob/master/adverserialtrain_pgd.ipynb\" target=\"_parent\"><img src=\"https://colab.research.google.com/assets/colab-badge.svg\" alt=\"Open In Colab\"/></a>"
      ]
    },
    {
      "cell_type": "code",
      "metadata": {
        "id": "uELUBZz6ABg_",
        "outputId": "7334addd-5e7b-412d-db1b-4c79189d0ca3",
        "colab": {
          "base_uri": "https://localhost:8080/",
          "height": 52
        }
      },
      "source": [
        "import torch\n",
        "import torch.nn as nn\n",
        "import torch.nn.functional as F\n",
        "import torch.optim as optim\n",
        "from torchvision import datasets, transforms\n",
        "from torchvision.utils import save_image\n",
        "import matplotlib.pyplot as plt\n",
        "import numpy as np\n",
        "import torchvision\n",
        "import random\n",
        "scaler = torch.cuda.amp.GradScaler() \n",
        "if torch.cuda.is_available():    \n",
        "    device = torch.device(\"cuda\")\n",
        "    print('There are %d GPU available.' % torch.cuda.device_count())\n",
        "    print('GPU:', torch.cuda.get_device_name(0))\n",
        "else:\n",
        "    print('No GPU')\n",
        "    device = torch.device(\"cpu\")"
      ],
      "execution_count": null,
      "outputs": [
        {
          "output_type": "stream",
          "text": [
            "There are 1 GPU available.\n",
            "GPU: Tesla P100-PCIE-16GB\n"
          ],
          "name": "stdout"
        }
      ]
    },
    {
      "cell_type": "code",
      "metadata": {
        "id": "wluPDCyLgg9g",
        "outputId": "ede2b721-9ed1-4547-fa6a-641e9d2b4b60",
        "colab": {
          "base_uri": "https://localhost:8080/",
          "height": 52
        }
      },
      "source": [
        "torch.FloatTensor(16, ).uniform_(0.8, 1.2)"
      ],
      "execution_count": null,
      "outputs": [
        {
          "output_type": "execute_result",
          "data": {
            "text/plain": [
              "tensor([0.9037, 1.0566, 1.0852, 1.0205, 1.1553, 1.1790, 1.0760, 0.9508, 0.9358,\n",
              "        0.8936, 1.1166, 0.9027, 0.8832, 1.1274, 1.0713, 0.9381])"
            ]
          },
          "metadata": {
            "tags": []
          },
          "execution_count": 2
        }
      ]
    },
    {
      "cell_type": "code",
      "metadata": {
        "id": "bZcrkGCahn8U"
      },
      "source": [
        ""
      ],
      "execution_count": null,
      "outputs": []
    },
    {
      "cell_type": "code",
      "metadata": {
        "id": "qk0DqD6g_MCg",
        "outputId": "83e089ff-a195-42f3-e1e0-150127e9fbcd",
        "colab": {
          "base_uri": "https://localhost:8080/",
          "height": 35
        }
      },
      "source": [
        "manualSeed = 42\n",
        "random.seed(manualSeed)\n",
        "torch.manual_seed(manualSeed)"
      ],
      "execution_count": null,
      "outputs": [
        {
          "output_type": "execute_result",
          "data": {
            "text/plain": [
              "<torch._C.Generator at 0x7fc78b7151b0>"
            ]
          },
          "metadata": {
            "tags": []
          },
          "execution_count": 3
        }
      ]
    },
    {
      "cell_type": "code",
      "metadata": {
        "id": "zXqMBzi6AEGx"
      },
      "source": [
        "BATCH_SIZE = 128\n",
        "nc = 3\n",
        "nz = 100\n",
        "ngf = 128\n",
        "ndf = 128\n",
        "LR = 1e-3\n",
        "img_dim = 32\n",
        "CLASSES = 10\n",
        "epsilon = 0.3"
      ],
      "execution_count": null,
      "outputs": []
    },
    {
      "cell_type": "code",
      "metadata": {
        "id": "0KmjhKVW_wfD",
        "outputId": "664c5d7e-2f03-41ca-fab3-b66cc452a98c",
        "colab": {
          "base_uri": "https://localhost:8080/",
          "height": 52
        }
      },
      "source": [
        "transform=transforms.Compose([\n",
        "                               #transforms.Resize(img_dim),\n",
        "                               \n",
        "                               transforms.RandomHorizontalFlip(p=0.5),\n",
        "                               transforms.RandomCrop(32, padding=4),\n",
        "                               transforms.ToTensor(),\n",
        "                               transforms.Normalize((0.5, 0.5, 0.5), (0.5, 0.5, 0.5)),\n",
        "\n",
        "                           ])\n",
        "\n",
        "mnist_train = datasets.CIFAR10(root='/content/drive/My Drive/MNIST', train=True, download=True, transform=transform)\n",
        "mnist_test = datasets.CIFAR10(root='/content/drive/My Drive/MNIST', train=False, download=True, transform=transform)\n",
        "\n",
        "train_loader = torch.utils.data.DataLoader(mnist_train , batch_size = BATCH_SIZE, shuffle = True , drop_last=True,num_workers=10)\n",
        "test_loader = torch.utils.data.DataLoader(mnist_test , batch_size = BATCH_SIZE , shuffle = False , drop_last=True,num_workers=10)\n",
        "classes = ('plane', 'car', 'bird', 'cat',\n",
        "           'deer', 'dog', 'frog', 'horse', 'ship', 'truck')"
      ],
      "execution_count": null,
      "outputs": [
        {
          "output_type": "stream",
          "text": [
            "Files already downloaded and verified\n",
            "Files already downloaded and verified\n"
          ],
          "name": "stdout"
        }
      ]
    },
    {
      "cell_type": "code",
      "metadata": {
        "id": "LmYw3yjIS8kw"
      },
      "source": [
        "def display_grid(images):\n",
        "    grid_img = torchvision.utils.make_grid(images , nrow=16)\n",
        "    npimgs = grid_img.cpu().detach().numpy()\n",
        "    npimgs = npimgs*0.5+0.5\n",
        "    plt.figure(figsize=(16,16))\n",
        "    plt.imshow(np.transpose(npimgs, (1,2,0)), cmap='gray')\n",
        "    plt.show()"
      ],
      "execution_count": null,
      "outputs": []
    },
    {
      "cell_type": "code",
      "metadata": {
        "id": "-4kgInG7XtT1"
      },
      "source": [
        "#display_grid(images)"
      ],
      "execution_count": null,
      "outputs": []
    },
    {
      "cell_type": "code",
      "metadata": {
        "id": "XKcjSCKj4k4l"
      },
      "source": [
        "class Discriminator(nn.Module):\n",
        "    def __init__(self):\n",
        "        super(Discriminator, self).__init__()\n",
        "        self.model_head = nn.Sequential(\n",
        "            # input is (nc) x 32 x 32\n",
        "            nn.Conv2d(nc, ndf, 4, 2, 1, bias=False),\n",
        "            nn.BatchNorm2d(ndf),\n",
        "            nn.LeakyReLU(0.2, inplace=True),\n",
        "            # state size. (ndf) x 14 x 14\n",
        "            nn.Conv2d(ndf, ndf * 2, 4, 2, 1, bias=False),\n",
        "            nn.BatchNorm2d(ndf * 2),\n",
        "            nn.LeakyReLU(0.2, inplace=True),\n",
        "            # state size. (ndf*2) x 8 x 8\n",
        "            nn.Conv2d(ndf * 2, ndf * 4, 4, 2, 1, bias=False),\n",
        "            nn.BatchNorm2d(ndf * 4),\n",
        "            nn.LeakyReLU(0.2, inplace=True)\n",
        "            # state size. (ndf*4) x 4 x 4\n",
        "        )\n",
        "\n",
        "        self.classes = nn.Sequential(\n",
        "            nn.Linear(ndf*4*4*4,CLASSES),\n",
        "            nn.LogSoftmax()\n",
        "        )\n",
        "        self.disc = nn.Sequential(\n",
        "            nn.Conv2d(ndf * 4, 1, 4, 1, 0, bias=False)\n",
        "            \n",
        "        )\n",
        "\n",
        "    def forward(self, input):\n",
        "        out = self.model_head(input)\n",
        "        flatten = out.view(-1 , ndf*4*4*4)\n",
        "        disc = self.disc(out).view(BATCH_SIZE,1)\n",
        "        classes = self.classes(flatten)\n",
        "        return {\n",
        "            'disc_output' : disc.cuda(),\n",
        "            'disc_classes' : classes.cuda(),\n",
        "            'features' : flatten.cuda()\n",
        "        }"
      ],
      "execution_count": null,
      "outputs": []
    },
    {
      "cell_type": "code",
      "metadata": {
        "id": "JX9XaLhG4k4v"
      },
      "source": [
        "class Generator(nn.Module):\n",
        "    def __init__(self):\n",
        "        super().__init__()\n",
        "        #self.emb = nn.Embedding(CLASSES, nz)\n",
        "        self.model = nn.Sequential(\n",
        "            # input is Z, going into a convolution\n",
        "            nn.ConvTranspose2d(nz, ngf * 4, 4, 1, 0, bias=False),\n",
        "            nn.BatchNorm2d(ngf * 4),\n",
        "            nn.ReLU(True),\n",
        "            #nn.Dropout(0.3),\n",
        "            # state size. (ngf*4) x 4 x 4\n",
        "            nn.ConvTranspose2d(ngf * 4, ngf * 2, 4, 2, 1, bias=False),\n",
        "            nn.BatchNorm2d(ngf * 2),\n",
        "            nn.ReLU(True),\n",
        "            nn.Dropout(0.3),\n",
        "            # state size. (ngf*2) x 8 x 8\n",
        "            nn.ConvTranspose2d( ngf * 2, ngf, 4, 2, 1, bias=False),\n",
        "            nn.BatchNorm2d(ngf),\n",
        "            nn.ReLU(True),\n",
        "            #nn.Dropout(0.3),\n",
        "            # state size. (ngf) x 16 x 16\n",
        "            nn.ConvTranspose2d( ngf, nc, 4, 2, 1, bias=False),\n",
        "            nn.Tanh()\n",
        "            # state size. (nc) x 32 x 32\n",
        "        )\n",
        "\n",
        "    def forward(self, input):\n",
        "        return self.model(input).cuda()"
      ],
      "execution_count": null,
      "outputs": []
    },
    {
      "cell_type": "code",
      "metadata": {
        "id": "jPY4DZ5qFx1m"
      },
      "source": [
        "class Cifar10Classifier(nn.Module):\n",
        "    def __init__(self):\n",
        "        super().__init__()\n",
        "        self.model_head = nn.Sequential(\n",
        "            # input is (nc) x 32 x 32\n",
        "            nn.Conv2d(nc, ndf, 4, 2, 1, bias=False),\n",
        "            nn.BatchNorm2d(ndf),\n",
        "            nn.LeakyReLU(0.2, inplace=True),\n",
        "            # state size. (ndf) x 14 x 14\n",
        "            nn.Conv2d(ndf, ndf * 2, 4, 2, 1, bias=False),\n",
        "            nn.BatchNorm2d(ndf * 2),\n",
        "            nn.LeakyReLU(0.2, inplace=True),\n",
        "            # state size. (ndf*2) x 8 x 8\n",
        "            nn.Conv2d(ndf * 2, ndf * 4, 4, 2, 1, bias=False),\n",
        "            nn.BatchNorm2d(ndf * 4),\n",
        "            nn.LeakyReLU(0.2, inplace=True)\n",
        "        )\n",
        "\n",
        "        self.classes = nn.Sequential(\n",
        "            nn.Linear(ndf*4*4*4,CLASSES),\n",
        "            nn.LogSoftmax()\n",
        "        )\n",
        "    def forward(self, input):\n",
        "        out = self.model_head(input)\n",
        "        flatten = out.view(-1 , ndf*4*4*4)\n",
        "        classes = self.classes(flatten)\n",
        "        return classes.cuda()"
      ],
      "execution_count": null,
      "outputs": []
    },
    {
      "cell_type": "code",
      "metadata": {
        "id": "uYzNypasydpJ"
      },
      "source": [
        "def fgsm(img , epsilon , data_grad):\n",
        "  new_image = img.cuda() + epsilon*data_grad.cuda().sign()\n",
        "  new_image = torch.clamp(new_image, -1, 1)\n",
        "  return new_image"
      ],
      "execution_count": null,
      "outputs": []
    },
    {
      "cell_type": "code",
      "metadata": {
        "id": "tN9IgsyUyUy0"
      },
      "source": [
        "def perturb_image_QQ(img , Model , label , GAN):\n",
        "  temp_img = img.clone()\n",
        "  temp_img.requires_grad = True\n",
        "  output = Model(temp_img)\n",
        "  if GAN == True:\n",
        "    loss = criterion_aux(output['disc_classes'] , label)\n",
        "  else:\n",
        "    loss = criterion_aux(output , label)\n",
        "  loss.backward()\n",
        "  data_grad = temp_img.grad.data\n",
        "  Model.zero_grad()        \n",
        "  new_image = fgsm(temp_img , epsilon , data_grad)\n",
        "  return new_image"
      ],
      "execution_count": null,
      "outputs": []
    },
    {
      "cell_type": "code",
      "metadata": {
        "id": "8mGYNLsekZK4"
      },
      "source": [
        "def perturb_image_pgd(img , Model , label , GAN , steps = 20 , epsilon= epsilon):\n",
        "  alpha  = epsilon/50\n",
        "  temp_img = img.clone()\n",
        "  temp_img.requires_grad = True\n",
        "  delta = torch.zeros_like(img, requires_grad=True)\n",
        "  for _ in range(steps):\n",
        "    with torch.cuda.amp.autocast():\n",
        "      output = Model(temp_img+delta)\n",
        "      if GAN == True:\n",
        "        loss = criterion_aux(output['disc_classes'] , label)\n",
        "      else:\n",
        "        loss = criterion_aux(output , label)\n",
        "    scaler.scale(loss).backward()\n",
        "    delta.data = (delta + alpha*delta.grad.detach().sign()).clamp(-epsilon,epsilon)\n",
        "    Model.zero_grad()\n",
        "    delta.grad.zero_()\n",
        "  return (temp_img + delta)"
      ],
      "execution_count": null,
      "outputs": []
    },
    {
      "cell_type": "code",
      "metadata": {
        "id": "gZIwQn2E7zGB"
      },
      "source": [
        "G = Generator().to(device)\n",
        "D = Discriminator().to(device)\n",
        "criterion_disc = nn.BCEWithLogitsLoss()\n",
        "criterion_aux = nn.NLLLoss()\n",
        "D_optimizer = optim.Adam(D.parameters(), lr=LR, betas=(0.5, 0.999))\n",
        "G_optimizer = optim.Adam(G.parameters(), lr=LR, betas=(0.5, 0.999))"
      ],
      "execution_count": null,
      "outputs": []
    },
    {
      "cell_type": "code",
      "metadata": {
        "id": "CxZtbQWZXxYp"
      },
      "source": [
        "classifier = Cifar10Classifier().to(device)\n",
        "optimizer = optim.Adam(classifier.parameters(), lr = LR, betas=(0.5, 0.999))"
      ],
      "execution_count": null,
      "outputs": []
    },
    {
      "cell_type": "code",
      "metadata": {
        "id": "kAB7pIVGokyL"
      },
      "source": [
        "def D_train_adverserial(x , label , train):\n",
        "  #x_real, y_real = x.view(BATCH_SIZE, nc, img_dim, img_dim).cuda(), torch.ones(BATCH_SIZE, 1).cuda()\n",
        "  x_real, y_real = x.view(BATCH_SIZE, nc, img_dim, img_dim).cuda(),torch.FloatTensor(BATCH_SIZE,1 ).uniform_(0.8, 1.1).cuda()\n",
        "  fake_label = torch.randint(10 , (BATCH_SIZE,)).cuda()\n",
        "  onehot = torch.zeros(BATCH_SIZE, CLASSES)\n",
        "  onehot[np.arange(BATCH_SIZE), fake_label] = 1\n",
        "  noise = torch.randn(BATCH_SIZE, nz)\n",
        "  noise[np.arange(BATCH_SIZE) , :CLASSES] = onehot[np.arange(BATCH_SIZE)]\n",
        "  z = noise.view(BATCH_SIZE, nz, 1, 1).to(device) \n",
        "  if train == True:\n",
        "    G.train()\n",
        "    D.train()\n",
        "    D.zero_grad()\n",
        "\n",
        "    # train discriminator on real\n",
        "    #x_fake, y_fake = G(z), torch.zeros(BATCH_SIZE, 1).to(device)\n",
        "    x_fake, y_fake = G(z), torch.FloatTensor(BATCH_SIZE,1 ).uniform_(0, 0.3).cuda()\n",
        "    img = x_real.clone()\n",
        "    x_perturb = perturb_image_pgd(img , D , label , GAN = True)\n",
        "\n",
        "    with torch.cuda.amp.autocast():\n",
        "      data = D(x_real)\n",
        "      D_output1_disc = data['disc_output']\n",
        "      D_output1_aux = data['disc_classes']\n",
        "      D_real_disc_loss = criterion_disc(D_output1_disc, y_real)\n",
        "      D_real_aux_loss = criterion_aux(D_output1_aux , label)\n",
        "      D_real_loss = D_real_disc_loss+D_real_aux_loss\n",
        "    #D_real_loss.backward(retain_graph = True)\n",
        "    scaler.scale(D_real_loss).backward(retain_graph = True)\n",
        "\n",
        "    with torch.cuda.amp.autocast():\n",
        "      data = D(x_perturb)\n",
        "      D_output1_discP = data['disc_output']\n",
        "      D_output1_auxP = data['disc_classes']\n",
        "      D_real_disc_lossP = criterion_disc(D_output1_discP, y_real)\n",
        "      D_real_aux_lossP = criterion_aux(D_output1_auxP , label)\n",
        "      D_real_lossP = D_real_disc_lossP+D_real_aux_lossP\n",
        "      #D_real_lossP = D_real_lossP*0.5\n",
        "    #D_real_lossP.backward()\n",
        "    scaler.scale(D_real_lossP).backward()\n",
        "\n",
        "    D_real_clasf_loss = D_real_aux_lossP + D_real_aux_loss\n",
        "    # train discriminator on fake\n",
        "    with torch.cuda.amp.autocast():\n",
        "      data = D(x_fake)\n",
        "      D_output2_disc = data['disc_output']\n",
        "      D_output2_aux = data['disc_classes']\n",
        "      D_fake_disc_loss = criterion_disc(D_output2_disc, y_fake)\n",
        "      D_fake_aux_loss = criterion_aux(D_output2_aux, fake_label)\n",
        "      D_fake_loss = D_fake_disc_loss+D_fake_aux_loss\n",
        "    #D_fake_loss.backward()\n",
        "    scaler.scale(D_fake_loss).backward()\n",
        "\n",
        "    # gradient backprop & optimize ONLY D's parameters\n",
        "    D_loss = D_real_aux_lossP + D_real_aux_loss\n",
        "    #D_loss.backward()\n",
        "    #D_optimizer.step()\n",
        "    scaler.step(D_optimizer) \n",
        "    scaler.update() \n",
        "    #print(D_output1_aux.shape)\n",
        "    return {\n",
        "        'loss' : D_real_clasf_loss.data.item() ,\n",
        "        'outputP' : D_output1_auxP,\n",
        "        'output' : D_output1_aux\n",
        "    }\n",
        "  else:\n",
        "    with torch.cuda.amp.autocast():\n",
        "      D.train()\n",
        "      data = D(x_real)\n",
        "      D_output1_disc = data['disc_output']\n",
        "      D_output1_aux = data['disc_classes']\n",
        "    return {\n",
        "        'loss' : D_output1_disc ,\n",
        "        'output' : D_output1_aux\n",
        "    }\n",
        "  \n"
      ],
      "execution_count": null,
      "outputs": []
    },
    {
      "cell_type": "code",
      "metadata": {
        "id": "sAZuPpXnE9k_"
      },
      "source": [
        "def G_train(label):\n",
        "    G.train()\n",
        "    D.train()\n",
        "    G.zero_grad()\n",
        "    \n",
        "    z = torch.randn(BATCH_SIZE, nz, 1, 1).to(device)\n",
        "    fake_label = torch.randint(10 , (BATCH_SIZE,))\n",
        "    onehot = torch.zeros(BATCH_SIZE, CLASSES)\n",
        "    onehot[np.arange(BATCH_SIZE), label] = 1\n",
        "    noise = torch.randn(BATCH_SIZE, nz)\n",
        "    noise[np.arange(BATCH_SIZE) , :CLASSES] = onehot[np.arange(BATCH_SIZE)]\n",
        "    z = noise.view(BATCH_SIZE, nz, 1, 1).to(device)\n",
        "\n",
        "    y0 = torch.FloatTensor(BATCH_SIZE,1 ).uniform_(0.8, 1).cuda()\n",
        "    with torch.cuda.amp.autocast():\n",
        "      G_output = G(z)\n",
        "      data = D(G_output)\n",
        "      D_output_disc = data['disc_output']\n",
        "      D_output_aux = data['disc_classes']\n",
        "      G_disc_loss = criterion_disc(D_output_disc, y0)\n",
        "      G_aux_loss = criterion_aux(D_output_aux , label)\n",
        "      G_loss = G_disc_loss+G_aux_loss\n",
        "\n",
        "    # gradient backprop & optimize ONLY G's parameters\n",
        "    #G_loss.backward()\n",
        "    scaler.scale(G_loss).backward()\n",
        "    #G_optimizer.step()\n",
        "    scaler.step(G_optimizer) \n",
        "    G.zero_grad()\n",
        "    scaler.update() \n",
        "        \n",
        "    return G_loss.data.item() , G_output"
      ],
      "execution_count": null,
      "outputs": []
    },
    {
      "cell_type": "code",
      "metadata": {
        "id": "BItK7IDJQQFX"
      },
      "source": [
        "Accuracy_GAN_train = []\n",
        "Accuracy_GAN_test = []\n",
        "Accuracy_GAN_FGSM = []"
      ],
      "execution_count": null,
      "outputs": []
    },
    {
      "cell_type": "code",
      "metadata": {
        "id": "TOY3PuYd64HI"
      },
      "source": [
        "Accuracy_Clasf_train = []\n",
        "Accuracy_Clasf_test = []\n",
        "Accuracy_Clasf_FGSM = []"
      ],
      "execution_count": null,
      "outputs": []
    },
    {
      "cell_type": "code",
      "metadata": {
        "id": "62WIGkMZcOSf"
      },
      "source": [
        "n_epoch = 25\n",
        "\n"
      ],
      "execution_count": null,
      "outputs": []
    },
    {
      "cell_type": "code",
      "metadata": {
        "id": "WvKb0bw-FDD4",
        "outputId": "8ec78876-8cdf-412c-f990-c6392507408a",
        "colab": {
          "base_uri": "https://localhost:8080/",
          "height": 1000
        }
      },
      "source": [
        "#LR = 2e-3\n",
        "#D_optimizer = optim.Adam(D.parameters(), lr=LR, betas=(0.5, 0.999))\n",
        "#G_optimizer = optim.Adam(G.parameters(), lr=LR, betas=(0.5, 0.999))\n",
        "for epoch in range(1, n_epoch+1):\n",
        "    #if epoch % 5 == 0:\n",
        "    #  LR = LR/2\n",
        "    #  D_optimizer = optim.Adam(D.parameters(), lr=LR, betas=(0.5, 0.999))\n",
        "    #  G_optimizer = optim.Adam(G.parameters(), lr=LR, betas=(0.5, 0.999))\n",
        "    correct = 0\n",
        "    total = 0    \n",
        "    correct1 = 0\n",
        "    total1 = 0\n",
        "    Accuracy_train = []       \n",
        "    D_losses, G_losses = [], []\n",
        "        #=======================Train=======================#\n",
        "    for batch_idx, (x, label) in enumerate(train_loader):\n",
        "        #d  = D_train(x , label.cuda() , train = True)\n",
        "        d  = D_train_adverserial(x , label.cuda() , train = True)\n",
        "        d_loss = d['loss']\n",
        "        output = d['output']\n",
        "        outputP = d['outputP']\n",
        "        \n",
        "        g_loss , g_images= G_train(label.cuda())\n",
        "        D_losses.append(d_loss)\n",
        "        G_losses.append(g_loss)\n",
        "\n",
        "        for idx ,i in enumerate(output):\n",
        "          if torch.argmax(i) == label[idx]:\n",
        "            correct += 1\n",
        "          total += 1\n",
        "        \n",
        "        for idx ,i in enumerate(outputP):\n",
        "          if torch.argmax(i) == label[idx]:\n",
        "            correct1 += 1\n",
        "          total1 += 1\n",
        "        if batch_idx % 100 == 0 and not batch_idx == 0:\n",
        "          print('alomst 100')\n",
        "        #if batch_idx % 5 == 0 and not batch_idx == 0:\n",
        "          #print(label.size(0))\n",
        "          #g_images = g_images.resize(BATCH_SIZE,3,img_dim,img_dim)\n",
        "          #display_grid(g_images)\n",
        "          #break\n",
        "          #display_grid(x)\n",
        "          #print('D(X) : {:}   || D(G(Z)) : {:}'.format(d_loss , g_loss))\n",
        "    Accuracy_GAN_train.append(correct/total)\n",
        "    print('[%d/%d]: loss_d: %.3f, loss_g: %.3f' % (\n",
        "            (epoch), n_epoch, torch.mean(torch.FloatTensor(D_losses)), torch.mean(torch.FloatTensor(G_losses))))\n",
        "    print('Accuracy Training regular: ' , round(correct/total , 4))\n",
        "    print('Accuracy Training adv: ' , round(correct1/total1 , 4))\n",
        "    correct = 0\n",
        "    total = 0\n",
        "    #=======================Test=======================#\n",
        "    with torch.no_grad():\n",
        "      for batch_idx, (x, label) in enumerate(test_loader):\n",
        "          with torch.cuda.amp.autocast():\n",
        "            d  = D_train_adverserial(x , label.cuda() , train = False)\n",
        "            output = d['output']\n",
        "          for idx ,i in enumerate(output):\n",
        "            if torch.argmax(i) == label[idx]:\n",
        "              correct += 1\n",
        "            total += 1\n",
        "      Accuracy_GAN_test.append(correct/total)\n",
        "      print('Accuracy Testing : ' , round(correct/total , 4))\n",
        "    #=======================Adverserial Test=======================# \n",
        "    correct = 0\n",
        "    total = 0\n",
        "    D.train()\n",
        "    for batch_idx, (x, label) in enumerate(test_loader):\n",
        "\n",
        "      x = x.view(BATCH_SIZE, nc, img_dim, img_dim).cuda()\n",
        "      img = x.clone()\n",
        "      with torch.cuda.amp.autocast():\n",
        "        x_perturb = perturb_image_pgd(img , D , label.cuda() , GAN = True)\n",
        "      \n",
        "      with torch.no_grad():\n",
        "        with torch.cuda.amp.autocast():\n",
        "        #new_img = fgsm(x , epsilon , data_grad)\n",
        "          data = D(x_perturb)\n",
        "          new_output = data['disc_classes']\n",
        "        for idx , i in enumerate(new_output):\n",
        "          if torch.argmax(i) == label[idx]:\n",
        "            correct += 1\n",
        "          total += 1\n",
        "    Accuracy_GAN_FGSM.append(correct/total)\n",
        "    print(\"Accuracy FGSM: \" , round(correct/total , 4))\n"
      ],
      "execution_count": null,
      "outputs": [
        {
          "output_type": "stream",
          "text": [
            "/usr/local/lib/python3.6/dist-packages/torch/nn/modules/container.py:117: UserWarning: Implicit dimension choice for log_softmax has been deprecated. Change the call to include dim=X as an argument.\n",
            "  input = module(input)\n"
          ],
          "name": "stderr"
        },
        {
          "output_type": "stream",
          "text": [
            "alomst 100\n",
            "alomst 100\n",
            "alomst 100\n",
            "[1/25]: loss_d: 4.949, loss_g: 1.895\n",
            "Accuracy Training regular:  0.3037\n",
            "Accuracy Training adv:  0.0807\n",
            "Accuracy Testing :  0.3653\n",
            "Accuracy FGSM:  0.0935\n",
            "alomst 100\n",
            "alomst 100\n",
            "alomst 100\n",
            "[2/25]: loss_d: 4.533, loss_g: 1.221\n",
            "Accuracy Training regular:  0.3783\n",
            "Accuracy Training adv:  0.0929\n",
            "Accuracy Testing :  0.3745\n",
            "Accuracy FGSM:  0.1061\n",
            "alomst 100\n",
            "alomst 100\n",
            "alomst 100\n",
            "[3/25]: loss_d: 4.383, loss_g: 1.110\n",
            "Accuracy Training regular:  0.4081\n",
            "Accuracy Training adv:  0.1035\n",
            "Accuracy Testing :  0.4262\n",
            "Accuracy FGSM:  0.1007\n",
            "alomst 100\n",
            "alomst 100\n",
            "alomst 100\n",
            "[4/25]: loss_d: 4.272, loss_g: 1.065\n",
            "Accuracy Training regular:  0.4318\n",
            "Accuracy Training adv:  0.1091\n",
            "Accuracy Testing :  0.4489\n",
            "Accuracy FGSM:  0.1095\n",
            "alomst 100\n",
            "alomst 100\n",
            "alomst 100\n",
            "[5/25]: loss_d: 4.207, loss_g: 1.048\n",
            "Accuracy Training regular:  0.4503\n",
            "Accuracy Training adv:  0.1109\n",
            "Accuracy Testing :  0.4594\n",
            "Accuracy FGSM:  0.1153\n",
            "alomst 100\n",
            "alomst 100\n",
            "alomst 100\n",
            "[6/25]: loss_d: 4.152, loss_g: 1.050\n",
            "Accuracy Training regular:  0.4652\n",
            "Accuracy Training adv:  0.115\n",
            "Accuracy Testing :  0.479\n",
            "Accuracy FGSM:  0.1194\n",
            "alomst 100\n",
            "alomst 100\n",
            "alomst 100\n",
            "[7/25]: loss_d: 4.121, loss_g: 1.066\n",
            "Accuracy Training regular:  0.4765\n",
            "Accuracy Training adv:  0.1161\n",
            "Accuracy Testing :  0.4819\n",
            "Accuracy FGSM:  0.1188\n",
            "alomst 100\n",
            "alomst 100\n",
            "alomst 100\n",
            "[8/25]: loss_d: 4.078, loss_g: 1.035\n",
            "Accuracy Training regular:  0.4857\n",
            "Accuracy Training adv:  0.12\n",
            "Accuracy Testing :  0.4893\n",
            "Accuracy FGSM:  0.1213\n",
            "alomst 100\n",
            "alomst 100\n",
            "alomst 100\n",
            "[9/25]: loss_d: 4.050, loss_g: 1.017\n",
            "Accuracy Training regular:  0.495\n",
            "Accuracy Training adv:  0.1195\n",
            "Accuracy Testing :  0.5033\n",
            "Accuracy FGSM:  0.1237\n",
            "alomst 100\n",
            "alomst 100\n",
            "alomst 100\n",
            "[10/25]: loss_d: 4.020, loss_g: 1.011\n",
            "Accuracy Training regular:  0.5022\n",
            "Accuracy Training adv:  0.122\n",
            "Accuracy Testing :  0.5011\n",
            "Accuracy FGSM:  0.1279\n",
            "alomst 100\n",
            "alomst 100\n",
            "alomst 100\n",
            "[11/25]: loss_d: 3.995, loss_g: 1.003\n",
            "Accuracy Training regular:  0.509\n",
            "Accuracy Training adv:  0.1221\n",
            "Accuracy Testing :  0.5171\n",
            "Accuracy FGSM:  0.117\n",
            "alomst 100\n",
            "alomst 100\n",
            "alomst 100\n",
            "[12/25]: loss_d: 3.974, loss_g: 0.996\n",
            "Accuracy Training regular:  0.5207\n",
            "Accuracy Training adv:  0.1228\n",
            "Accuracy Testing :  0.5116\n",
            "Accuracy FGSM:  0.1248\n",
            "alomst 100\n",
            "alomst 100\n",
            "alomst 100\n",
            "[13/25]: loss_d: 3.949, loss_g: 0.992\n",
            "Accuracy Training regular:  0.5235\n",
            "Accuracy Training adv:  0.1254\n",
            "Accuracy Testing :  0.5268\n",
            "Accuracy FGSM:  0.1216\n",
            "alomst 100\n",
            "alomst 100\n",
            "alomst 100\n",
            "[14/25]: loss_d: 3.936, loss_g: 0.989\n",
            "Accuracy Training regular:  0.5289\n",
            "Accuracy Training adv:  0.1253\n",
            "Accuracy Testing :  0.5301\n",
            "Accuracy FGSM:  0.1317\n",
            "alomst 100\n",
            "alomst 100\n",
            "alomst 100\n",
            "[15/25]: loss_d: 3.925, loss_g: 0.988\n",
            "Accuracy Training regular:  0.5337\n",
            "Accuracy Training adv:  0.128\n",
            "Accuracy Testing :  0.5291\n",
            "Accuracy FGSM:  0.1308\n",
            "alomst 100\n",
            "alomst 100\n",
            "alomst 100\n",
            "[16/25]: loss_d: 3.908, loss_g: 0.984\n",
            "Accuracy Training regular:  0.535\n",
            "Accuracy Training adv:  0.1283\n",
            "Accuracy Testing :  0.5358\n",
            "Accuracy FGSM:  0.1336\n",
            "alomst 100\n",
            "alomst 100\n",
            "alomst 100\n",
            "[17/25]: loss_d: 3.895, loss_g: 0.983\n",
            "Accuracy Training regular:  0.5384\n",
            "Accuracy Training adv:  0.1298\n",
            "Accuracy Testing :  0.5299\n",
            "Accuracy FGSM:  0.126\n",
            "alomst 100\n",
            "alomst 100\n",
            "alomst 100\n",
            "[18/25]: loss_d: 3.880, loss_g: 0.981\n",
            "Accuracy Training regular:  0.5427\n",
            "Accuracy Training adv:  0.1297\n",
            "Accuracy Testing :  0.5463\n",
            "Accuracy FGSM:  0.1316\n",
            "alomst 100\n",
            "alomst 100\n",
            "alomst 100\n",
            "[19/25]: loss_d: 3.871, loss_g: 0.991\n",
            "Accuracy Training regular:  0.5455\n",
            "Accuracy Training adv:  0.131\n",
            "Accuracy Testing :  0.5527\n",
            "Accuracy FGSM:  0.1369\n",
            "alomst 100\n",
            "alomst 100\n",
            "alomst 100\n",
            "[20/25]: loss_d: 3.859, loss_g: 0.984\n",
            "Accuracy Training regular:  0.5493\n",
            "Accuracy Training adv:  0.129\n",
            "Accuracy Testing :  0.5492\n",
            "Accuracy FGSM:  0.1298\n",
            "alomst 100\n",
            "alomst 100\n",
            "alomst 100\n",
            "[21/25]: loss_d: 3.848, loss_g: 0.992\n",
            "Accuracy Training regular:  0.5557\n",
            "Accuracy Training adv:  0.131\n",
            "Accuracy Testing :  0.5472\n",
            "Accuracy FGSM:  0.1315\n",
            "alomst 100\n",
            "alomst 100\n",
            "alomst 100\n",
            "[22/25]: loss_d: 3.838, loss_g: 0.988\n",
            "Accuracy Training regular:  0.5575\n",
            "Accuracy Training adv:  0.1306\n",
            "Accuracy Testing :  0.5493\n",
            "Accuracy FGSM:  0.1428\n",
            "alomst 100\n",
            "alomst 100\n",
            "alomst 100\n",
            "[23/25]: loss_d: 3.829, loss_g: 0.999\n",
            "Accuracy Training regular:  0.5584\n",
            "Accuracy Training adv:  0.1313\n",
            "Accuracy Testing :  0.5534\n",
            "Accuracy FGSM:  0.1356\n",
            "alomst 100\n",
            "alomst 100\n",
            "alomst 100\n",
            "[24/25]: loss_d: 3.823, loss_g: 1.003\n",
            "Accuracy Training regular:  0.5596\n",
            "Accuracy Training adv:  0.1313\n",
            "Accuracy Testing :  0.5533\n",
            "Accuracy FGSM:  0.137\n",
            "alomst 100\n",
            "alomst 100\n",
            "alomst 100\n",
            "[25/25]: loss_d: 3.809, loss_g: 0.999\n",
            "Accuracy Training regular:  0.5653\n",
            "Accuracy Training adv:  0.1335\n",
            "Accuracy Testing :  0.5537\n",
            "Accuracy FGSM:  0.1445\n"
          ],
          "name": "stdout"
        }
      ]
    },
    {
      "cell_type": "code",
      "metadata": {
        "id": "mn-y203xn7QL",
        "outputId": "41581fbf-17c8-49c3-9a3a-06c65c4603ca",
        "colab": {
          "base_uri": "https://localhost:8080/",
          "height": 279
        }
      },
      "source": [
        "x1 = Accuracy_GAN_train\n",
        "x2 = Accuracy_GAN_test\n",
        "x3 = Accuracy_GAN_FGSM\n",
        "plt.plot(x1  , label = 'train')\n",
        "plt.plot(x2  ,  label = 'test')\n",
        "plt.plot(x3 ,  label = 'FGSM')\n",
        "plt.xlabel('Epochs')\n",
        "plt.ylabel('Accuracy')\n",
        "plt.legend()\n",
        "plt.show()"
      ],
      "execution_count": null,
      "outputs": [
        {
          "output_type": "display_data",
          "data": {
            "image/png": "[encoded data removed]",
            "text/plain": [
              "<Figure size 432x288 with 1 Axes>"
            ]
          },
          "metadata": {
            "tags": [],
            "needs_background": "light"
          }
        }
      ]
    },
    {
      "cell_type": "code",
      "metadata": {
        "id": "gegAZvmdaDp-",
        "outputId": "2ff28906-6a9a-49fc-97c2-6574f0ac4b2d",
        "colab": {
          "base_uri": "https://localhost:8080/",
          "height": 1000
        }
      },
      "source": [
        "#LR = 2e-3\n",
        "#optimizer = optim.Adam(classifier.parameters(), lr = LR, betas=(0.5, 0.999))\n",
        "for epoch in range(0, n_epoch): \n",
        "   # if epoch % 5 == 0:\n",
        "   #   LR = LR/2\n",
        "   #   optimizer = optim.Adam(classifier.parameters(), lr = LR, betas=(0.5, 0.999))\n",
        "    #epochs.append(epoch)\n",
        "    #=======================Train=======================#\n",
        "    classifier.train()\n",
        "    correct = 0\n",
        "    total = 0\n",
        "    correct1 = 0\n",
        "    total1 = 0\n",
        "    print('======== Epoch {:} / {:} ========'.format(epoch+1, n_epoch))          \n",
        "    #D_losses, G_losses = [], []\n",
        "    for batch_idx, (x, label) in enumerate(train_loader):\n",
        "      \n",
        "        optimizer.zero_grad()\n",
        "        x_real = x.view(BATCH_SIZE, nc, img_dim, img_dim).cuda()\n",
        "        img = x_real.clone()\n",
        "        #adverserial trainig \n",
        "        with torch.cuda.amp.autocast(): \n",
        "          x_perturb = perturb_image_pgd(img , classifier , label.cuda() , GAN = False)\n",
        "          output1 = classifier(x_perturb)\n",
        "          loss1 = criterion_aux(output1 , label.cuda())\n",
        "        #loss.backward()\n",
        "        scaler.scale(loss1).backward() \n",
        "        with torch.cuda.amp.autocast():   \n",
        "          output = classifier(x_real)\n",
        "          loss = criterion_aux(output , label.cuda())\n",
        "          #loss1.backward(retain_graph=True)\n",
        "        scaler.scale(loss).backward() \n",
        "        #optimizer.step()\n",
        "        scaler.step(optimizer) \n",
        "        scaler.update()\n",
        "         \n",
        "\n",
        "        new_loss = loss + loss1\n",
        "\n",
        "        for idx ,i in enumerate(output):\n",
        "          if torch.argmax(i) == label[idx]:\n",
        "            correct += 1\n",
        "          total += 1\n",
        "\n",
        "        for idx ,i in enumerate(output1):\n",
        "          if torch.argmax(i) == label[idx]:\n",
        "            correct1 += 1\n",
        "          total1 += 1\n",
        "\n",
        "        if batch_idx % 375 == 0 and not batch_idx == 0: \n",
        "          #g_images = new_img.resize(BATCH_SIZE,nc,img_dim,img_dim)\n",
        "          #display_grid(g_images)\n",
        "          print('|| loss : {:} '.format(new_loss.mean().item())) \n",
        "\n",
        "    Accuracy_Clasf_train.append(correct/total)\n",
        "    print('Accuracy Training regular: ' , round(correct/total , 4))\n",
        "    print('Accuracy Training adv: ' , round(correct1/total1 , 4))\n",
        "    #=======================Test=======================#    \n",
        "    correct = 0\n",
        "    total = 0\n",
        "    classifier.train()\n",
        "    with torch.cuda.amp.autocast():\n",
        "      with torch.no_grad():\n",
        "        for batch_idx, (x, label) in enumerate(test_loader):\n",
        "          x_real = x.view(BATCH_SIZE, nc, img_dim, img_dim).cuda()\n",
        "          output = classifier(x_real)\n",
        "          for idx ,i in enumerate(output):\n",
        "            if torch.argmax(i) == label[idx]:\n",
        "              correct += 1\n",
        "            total += 1\n",
        "    Accuracy_Clasf_test.append(correct/total)\n",
        "    print('Accuracy Testing : ' , round(correct/total , 4))\n",
        "    #=======================Adverserial Test=======================# \n",
        "    correct = 0\n",
        "    total = 0\n",
        "    classifier.train()\n",
        "    for batch_idx, (x, label) in enumerate(test_loader):\n",
        "      with torch.cuda.amp.autocast():\n",
        "        x = x.view(BATCH_SIZE, nc, img_dim, img_dim).cuda()\n",
        "        img = x.clone()\n",
        "        new_img = perturb_image_pgd(img , classifier , label.cuda() , GAN = False)\n",
        "        new_output = classifier(new_img)\n",
        "      \n",
        "\n",
        "      for idx , i in enumerate(new_output):\n",
        "        if torch.argmax(i) == label[idx]:\n",
        "          correct += 1\n",
        "        total += 1\n",
        "    Accuracy_Clasf_FGSM.append(correct/total)\n",
        "    print(\"Accuracy FGSM: \" , round(correct/total , 4))\n",
        "    "
      ],
      "execution_count": null,
      "outputs": [
        {
          "output_type": "stream",
          "text": [
            "======== Epoch 1 / 25 ========\n"
          ],
          "name": "stdout"
        },
        {
          "output_type": "stream",
          "text": [
            "/usr/local/lib/python3.6/dist-packages/torch/nn/modules/container.py:117: UserWarning: Implicit dimension choice for log_softmax has been deprecated. Change the call to include dim=X as an argument.\n",
            "  input = module(input)\n"
          ],
          "name": "stderr"
        },
        {
          "output_type": "stream",
          "text": [
            "|| loss : 4.2873430252075195 \n",
            "Accuracy Training regular:  0.2896\n",
            "Accuracy Training adv:  0.1047\n",
            "Accuracy Testing :  0.35\n",
            "Accuracy FGSM:  0.1203\n",
            "======== Epoch 2 / 25 ========\n",
            "|| loss : 4.150679111480713 \n",
            "Accuracy Training regular:  0.3714\n",
            "Accuracy Training adv:  0.1173\n",
            "Accuracy Testing :  0.3795\n",
            "Accuracy FGSM:  0.1284\n",
            "======== Epoch 3 / 25 ========\n",
            "|| loss : 4.16267728805542 \n",
            "Accuracy Training regular:  0.4127\n",
            "Accuracy Training adv:  0.1284\n",
            "Accuracy Testing :  0.4279\n",
            "Accuracy FGSM:  0.14\n",
            "======== Epoch 4 / 25 ========\n",
            "|| loss : 3.7239723205566406 \n",
            "Accuracy Training regular:  0.4448\n",
            "Accuracy Training adv:  0.1344\n",
            "Accuracy Testing :  0.4693\n",
            "Accuracy FGSM:  0.1307\n",
            "======== Epoch 5 / 25 ========\n",
            "|| loss : 3.692412853240967 \n",
            "Accuracy Training regular:  0.458\n",
            "Accuracy Training adv:  0.139\n",
            "Accuracy Testing :  0.4683\n",
            "Accuracy FGSM:  0.131\n",
            "======== Epoch 6 / 25 ========\n",
            "|| loss : 3.827383041381836 \n",
            "Accuracy Training regular:  0.4783\n",
            "Accuracy Training adv:  0.142\n",
            "Accuracy Testing :  0.4907\n",
            "Accuracy FGSM:  0.1275\n",
            "======== Epoch 7 / 25 ========\n",
            "|| loss : 3.6342287063598633 \n",
            "Accuracy Training regular:  0.4922\n",
            "Accuracy Training adv:  0.1453\n",
            "Accuracy Testing :  0.4967\n",
            "Accuracy FGSM:  0.1455\n",
            "======== Epoch 8 / 25 ========\n",
            "|| loss : 3.91947603225708 \n",
            "Accuracy Training regular:  0.5009\n",
            "Accuracy Training adv:  0.1469\n",
            "Accuracy Testing :  0.4868\n",
            "Accuracy FGSM:  0.1592\n",
            "======== Epoch 9 / 25 ========\n",
            "|| loss : 3.7470240592956543 \n",
            "Accuracy Training regular:  0.5162\n",
            "Accuracy Training adv:  0.1487\n",
            "Accuracy Testing :  0.5017\n",
            "Accuracy FGSM:  0.1594\n",
            "======== Epoch 10 / 25 ========\n",
            "|| loss : 3.6473896503448486 \n",
            "Accuracy Training regular:  0.5243\n",
            "Accuracy Training adv:  0.1493\n",
            "Accuracy Testing :  0.5267\n",
            "Accuracy FGSM:  0.1591\n",
            "======== Epoch 11 / 25 ========\n",
            "|| loss : 3.525369167327881 \n",
            "Accuracy Training regular:  0.5335\n",
            "Accuracy Training adv:  0.1535\n",
            "Accuracy Testing :  0.5352\n",
            "Accuracy FGSM:  0.1557\n",
            "======== Epoch 12 / 25 ========\n",
            "|| loss : 3.7438437938690186 \n",
            "Accuracy Training regular:  0.5391\n",
            "Accuracy Training adv:  0.1533\n",
            "Accuracy Testing :  0.5382\n",
            "Accuracy FGSM:  0.1546\n",
            "======== Epoch 13 / 25 ========\n",
            "|| loss : 3.750552177429199 \n",
            "Accuracy Training regular:  0.5439\n",
            "Accuracy Training adv:  0.1541\n",
            "Accuracy Testing :  0.5478\n",
            "Accuracy FGSM:  0.1504\n",
            "======== Epoch 14 / 25 ========\n",
            "|| loss : 3.767045021057129 \n",
            "Accuracy Training regular:  0.5525\n",
            "Accuracy Training adv:  0.1582\n",
            "Accuracy Testing :  0.5444\n",
            "Accuracy FGSM:  0.1583\n",
            "======== Epoch 15 / 25 ========\n",
            "|| loss : 3.6374645233154297 \n",
            "Accuracy Training regular:  0.5586\n",
            "Accuracy Training adv:  0.1562\n",
            "Accuracy Testing :  0.5543\n",
            "Accuracy FGSM:  0.1551\n",
            "======== Epoch 16 / 25 ========\n",
            "|| loss : 3.7480974197387695 \n",
            "Accuracy Training regular:  0.5624\n",
            "Accuracy Training adv:  0.162\n",
            "Accuracy Testing :  0.5524\n",
            "Accuracy FGSM:  0.1631\n",
            "======== Epoch 17 / 25 ========\n",
            "|| loss : 3.8103206157684326 \n",
            "Accuracy Training regular:  0.5663\n",
            "Accuracy Training adv:  0.16\n",
            "Accuracy Testing :  0.5612\n",
            "Accuracy FGSM:  0.1588\n",
            "======== Epoch 18 / 25 ========\n",
            "|| loss : 3.6096062660217285 \n",
            "Accuracy Training regular:  0.5696\n",
            "Accuracy Training adv:  0.1609\n",
            "Accuracy Testing :  0.5708\n",
            "Accuracy FGSM:  0.1502\n",
            "======== Epoch 19 / 25 ========\n",
            "|| loss : 3.6188886165618896 \n",
            "Accuracy Training regular:  0.5757\n",
            "Accuracy Training adv:  0.1629\n",
            "Accuracy Testing :  0.5724\n",
            "Accuracy FGSM:  0.1521\n",
            "======== Epoch 20 / 25 ========\n",
            "|| loss : 3.645691394805908 \n",
            "Accuracy Training regular:  0.5796\n",
            "Accuracy Training adv:  0.1629\n",
            "Accuracy Testing :  0.5802\n",
            "Accuracy FGSM:  0.162\n",
            "======== Epoch 21 / 25 ========\n",
            "|| loss : 3.535449743270874 \n",
            "Accuracy Training regular:  0.5821\n",
            "Accuracy Training adv:  0.1653\n",
            "Accuracy Testing :  0.5897\n",
            "Accuracy FGSM:  0.155\n",
            "======== Epoch 22 / 25 ========\n",
            "|| loss : 3.3115146160125732 \n",
            "Accuracy Training regular:  0.5865\n",
            "Accuracy Training adv:  0.1631\n",
            "Accuracy Testing :  0.5881\n",
            "Accuracy FGSM:  0.1686\n",
            "======== Epoch 23 / 25 ========\n",
            "|| loss : 3.4998462200164795 \n",
            "Accuracy Training regular:  0.5886\n",
            "Accuracy Training adv:  0.1666\n",
            "Accuracy Testing :  0.5955\n",
            "Accuracy FGSM:  0.1618\n",
            "======== Epoch 24 / 25 ========\n",
            "|| loss : 3.4012320041656494 \n",
            "Accuracy Training regular:  0.5949\n",
            "Accuracy Training adv:  0.1674\n",
            "Accuracy Testing :  0.5964\n",
            "Accuracy FGSM:  0.1643\n",
            "======== Epoch 25 / 25 ========\n",
            "|| loss : 3.1613190174102783 \n",
            "Accuracy Training regular:  0.5981\n",
            "Accuracy Training adv:  0.1682\n",
            "Accuracy Testing :  0.5899\n",
            "Accuracy FGSM:  0.1718\n"
          ],
          "name": "stdout"
        }
      ]
    },
    {
      "cell_type": "code",
      "metadata": {
        "id": "TYHvlUwrg89T",
        "outputId": "ee520c3d-625d-49c2-da46-12d14b810652",
        "colab": {
          "base_uri": "https://localhost:8080/",
          "height": 279
        }
      },
      "source": [
        "x1 = Accuracy_Clasf_train\n",
        "x2 = Accuracy_Clasf_test\n",
        "x3 = Accuracy_Clasf_FGSM\n",
        "plt.plot(x1  , label = 'train')\n",
        "plt.plot(x2  ,  label = 'test')\n",
        "plt.plot(x3  ,  label = 'FGSM')\n",
        "plt.xlabel('Epochs')\n",
        "plt.ylabel('Accuracy')\n",
        "plt.legend()\n",
        "plt.show()"
      ],
      "execution_count": null,
      "outputs": [
        {
          "output_type": "display_data",
          "data": {
            "image/png": "[encoded data removed]",
            "text/plain": [
              "<Figure size 432x288 with 1 Axes>"
            ]
          },
          "metadata": {
            "tags": [],
            "needs_background": "light"
          }
        }
      ]
    },
    {
      "cell_type": "code",
      "metadata": {
        "id": "WHb9KBJuhP-k"
      },
      "source": [
        ""
      ],
      "execution_count": null,
      "outputs": []
    }
  ]
}