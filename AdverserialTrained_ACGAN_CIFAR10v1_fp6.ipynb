{
  "nbformat": 4,
  "nbformat_minor": 0,
  "metadata": {
    "colab": {
      "name": "AdverserialTrained-ACGAN_CIFAR10v1-fp6.ipynb",
      "provenance": [],
      "collapsed_sections": [],
      "mount_file_id": "1FqbrQxO-6FKZcKveooA-SU5SQdq2rghe",
      "authorship_tag": "ABX9TyMaWXdS05uSTo4UMO/gqG3e",
      "include_colab_link": true
    },
    "kernelspec": {
      "name": "python3",
      "display_name": "Python 3"
    },
    "accelerator": "GPU"
  },
  "cells": [
    {
      "cell_type": "markdown",
      "metadata": {
        "id": "view-in-github",
        "colab_type": "text"
      },
      "source": [
        "<a href=\"https://colab.research.google.com/github/darthwaydr007/gan/blob/master/AdverserialTrained_ACGAN_CIFAR10v1_fp6.ipynb\" target=\"_parent\"><img src=\"https://colab.research.google.com/assets/colab-badge.svg\" alt=\"Open In Colab\"/></a>"
      ]
    },
    {
      "cell_type": "code",
      "metadata": {
        "id": "uELUBZz6ABg_",
        "colab_type": "code",
        "colab": {
          "base_uri": "https://localhost:8080/",
          "height": 52
        },
        "outputId": "10e88a05-3fa0-4efe-e7e3-1475e34b1ddb"
      },
      "source": [
        "import torch\n",
        "import torch.nn as nn\n",
        "import torch.nn.functional as F\n",
        "import torch.optim as optim\n",
        "from torchvision import datasets, transforms\n",
        "from torchvision.utils import save_image\n",
        "import matplotlib.pyplot as plt\n",
        "import numpy as np\n",
        "import torchvision\n",
        "import random\n",
        "scaler = torch.cuda.amp.GradScaler() \n",
        "if torch.cuda.is_available():    \n",
        "    device = torch.device(\"cuda\")\n",
        "    print('There are %d GPU available.' % torch.cuda.device_count())\n",
        "    print('GPU:', torch.cuda.get_device_name(0))\n",
        "else:\n",
        "    print('No GPU')\n",
        "    device = torch.device(\"cpu\")"
      ],
      "execution_count": null,
      "outputs": [
        {
          "output_type": "stream",
          "text": [
            "There are 1 GPU available.\n",
            "GPU: Tesla T4\n"
          ],
          "name": "stdout"
        }
      ]
    },
    {
      "cell_type": "code",
      "metadata": {
        "id": "wluPDCyLgg9g",
        "colab_type": "code",
        "colab": {
          "base_uri": "https://localhost:8080/",
          "height": 52
        },
        "outputId": "0bf81402-6eb4-4955-c720-0835a6afd1d9"
      },
      "source": [
        "torch.FloatTensor(16, ).uniform_(0.8, 1.2)"
      ],
      "execution_count": null,
      "outputs": [
        {
          "output_type": "execute_result",
          "data": {
            "text/plain": [
              "tensor([1.0389, 0.9237, 0.9176, 1.0470, 1.1907, 0.9457, 1.0444, 1.0409, 0.8907,\n",
              "        0.8185, 0.9276, 0.8608, 0.9673, 1.1333, 1.1982, 1.0535])"
            ]
          },
          "metadata": {
            "tags": []
          },
          "execution_count": 177
        }
      ]
    },
    {
      "cell_type": "code",
      "metadata": {
        "id": "bZcrkGCahn8U",
        "colab_type": "code",
        "colab": {}
      },
      "source": [
        ""
      ],
      "execution_count": null,
      "outputs": []
    },
    {
      "cell_type": "code",
      "metadata": {
        "id": "qk0DqD6g_MCg",
        "colab_type": "code",
        "colab": {
          "base_uri": "https://localhost:8080/",
          "height": 35
        },
        "outputId": "1b738f0f-2912-45f7-d259-01ceabbccae3"
      },
      "source": [
        "manualSeed = 42\n",
        "random.seed(manualSeed)\n",
        "torch.manual_seed(manualSeed)"
      ],
      "execution_count": null,
      "outputs": [
        {
          "output_type": "execute_result",
          "data": {
            "text/plain": [
              "<torch._C.Generator at 0x7f20c04050d8>"
            ]
          },
          "metadata": {
            "tags": []
          },
          "execution_count": 178
        }
      ]
    },
    {
      "cell_type": "code",
      "metadata": {
        "id": "zXqMBzi6AEGx",
        "colab_type": "code",
        "colab": {}
      },
      "source": [
        "BATCH_SIZE = 128\n",
        "nc = 3\n",
        "nz = 100\n",
        "ngf = 128\n",
        "ndf = 128\n",
        "LR = 1e-3\n",
        "img_dim = 32\n",
        "CLASSES = 10\n",
        "epsilon = 0.3"
      ],
      "execution_count": null,
      "outputs": []
    },
    {
      "cell_type": "code",
      "metadata": {
        "id": "0KmjhKVW_wfD",
        "colab_type": "code",
        "colab": {
          "base_uri": "https://localhost:8080/",
          "height": 52
        },
        "outputId": "0b6a2d01-5db9-4662-fdff-c7db066c5e09"
      },
      "source": [
        "transform=transforms.Compose([\n",
        "                               #transforms.Resize(img_dim),\n",
        "                               \n",
        "                               transforms.RandomHorizontalFlip(p=0.5),\n",
        "                               transforms.RandomCrop(32, padding=4),\n",
        "                               transforms.ToTensor(),\n",
        "                              transforms.Normalize((0.5, 0.5, 0.5), (0.5, 0.5, 0.5)),\n",
        "\n",
        "                           ])\n",
        "\n",
        "mnist_train = datasets.CIFAR10(root='/content/drive/My Drive/MNIST', train=True, download=True, transform=transform)\n",
        "mnist_test = datasets.CIFAR10(root='/content/drive/My Drive/MNIST', train=False, download=True, transform=transform)\n",
        "\n",
        "train_loader = torch.utils.data.DataLoader(mnist_train , batch_size = BATCH_SIZE, shuffle = True , drop_last=True,num_workers=10)\n",
        "test_loader = torch.utils.data.DataLoader(mnist_test , batch_size = BATCH_SIZE , shuffle = False , drop_last=True,num_workers=10)\n",
        "classes = ('plane', 'car', 'bird', 'cat',\n",
        "           'deer', 'dog', 'frog', 'horse', 'ship', 'truck')"
      ],
      "execution_count": null,
      "outputs": [
        {
          "output_type": "stream",
          "text": [
            "Files already downloaded and verified\n",
            "Files already downloaded and verified\n"
          ],
          "name": "stdout"
        }
      ]
    },
    {
      "cell_type": "code",
      "metadata": {
        "id": "LmYw3yjIS8kw",
        "colab_type": "code",
        "colab": {}
      },
      "source": [
        "def display_grid(images):\n",
        "    grid_img = torchvision.utils.make_grid(images , nrow=16)\n",
        "    npimgs = grid_img.cpu().detach().numpy()\n",
        "    npimgs = npimgs*0.5+0.5\n",
        "    plt.figure(figsize=(16,16))\n",
        "    plt.imshow(np.transpose(npimgs, (1,2,0)), cmap='gray')\n",
        "    plt.show()"
      ],
      "execution_count": null,
      "outputs": []
    },
    {
      "cell_type": "code",
      "metadata": {
        "id": "-4kgInG7XtT1",
        "colab_type": "code",
        "colab": {}
      },
      "source": [
        "#display_grid(images)"
      ],
      "execution_count": null,
      "outputs": []
    },
    {
      "cell_type": "code",
      "metadata": {
        "colab_type": "code",
        "id": "XKcjSCKj4k4l",
        "colab": {}
      },
      "source": [
        "class Discriminator(nn.Module):\n",
        "    def __init__(self):\n",
        "        super(Discriminator, self).__init__()\n",
        "        self.model_head = nn.Sequential(\n",
        "            # input is (nc) x 32 x 32\n",
        "            nn.Conv2d(nc, ndf, 4, 2, 1, bias=False),\n",
        "            nn.BatchNorm2d(ndf),\n",
        "            nn.LeakyReLU(0.2, inplace=True),\n",
        "            # state size. (ndf) x 14 x 14\n",
        "            nn.Conv2d(ndf, ndf * 2, 4, 2, 1, bias=False),\n",
        "            nn.BatchNorm2d(ndf * 2),\n",
        "            nn.LeakyReLU(0.2, inplace=True),\n",
        "            # state size. (ndf*2) x 8 x 8\n",
        "            nn.Conv2d(ndf * 2, ndf * 4, 4, 2, 1, bias=False),\n",
        "            nn.BatchNorm2d(ndf * 4),\n",
        "            nn.LeakyReLU(0.2, inplace=True)\n",
        "            # state size. (ndf*4) x 4 x 4\n",
        "        )\n",
        "\n",
        "        self.classes = nn.Sequential(\n",
        "            nn.Linear(ndf*4*4*4,CLASSES),\n",
        "            nn.LogSoftmax()\n",
        "        )\n",
        "        self.disc = nn.Sequential(\n",
        "            nn.Conv2d(ndf * 4, 1, 4, 1, 0, bias=False)\n",
        "            \n",
        "        )\n",
        "\n",
        "    def forward(self, input):\n",
        "        out = self.model_head(input)\n",
        "        flatten = out.view(-1 , ndf*4*4*4)\n",
        "        disc = self.disc(out).view(BATCH_SIZE,1)\n",
        "        classes = self.classes(flatten)\n",
        "        return {\n",
        "            'disc_output' : disc.cuda(),\n",
        "            'disc_classes' : classes.cuda(),\n",
        "            'features' : flatten.cuda()\n",
        "        }"
      ],
      "execution_count": null,
      "outputs": []
    },
    {
      "cell_type": "code",
      "metadata": {
        "colab_type": "code",
        "id": "JX9XaLhG4k4v",
        "colab": {}
      },
      "source": [
        "class Generator(nn.Module):\n",
        "    def __init__(self):\n",
        "        super().__init__()\n",
        "        #self.emb = nn.Embedding(CLASSES, nz)\n",
        "        self.model = nn.Sequential(\n",
        "            # input is Z, going into a convolution\n",
        "            nn.ConvTranspose2d(nz, ngf * 4, 4, 1, 0, bias=False),\n",
        "            nn.BatchNorm2d(ngf * 4),\n",
        "            nn.ReLU(True),\n",
        "            #nn.Dropout(0.3),\n",
        "            # state size. (ngf*4) x 4 x 4\n",
        "            nn.ConvTranspose2d(ngf * 4, ngf * 2, 4, 2, 1, bias=False),\n",
        "            nn.BatchNorm2d(ngf * 2),\n",
        "            nn.ReLU(True),\n",
        "            nn.Dropout(0.3),\n",
        "            # state size. (ngf*2) x 8 x 8\n",
        "            nn.ConvTranspose2d( ngf * 2, ngf, 4, 2, 1, bias=False),\n",
        "            nn.BatchNorm2d(ngf),\n",
        "            nn.ReLU(True),\n",
        "            #nn.Dropout(0.3),\n",
        "            # state size. (ngf) x 16 x 16\n",
        "            nn.ConvTranspose2d( ngf, nc, 4, 2, 1, bias=False),\n",
        "            nn.Tanh()\n",
        "            # state size. (nc) x 32 x 32\n",
        "        )\n",
        "\n",
        "    def forward(self, input):\n",
        "        return self.model(input).cuda()"
      ],
      "execution_count": null,
      "outputs": []
    },
    {
      "cell_type": "code",
      "metadata": {
        "id": "jPY4DZ5qFx1m",
        "colab_type": "code",
        "colab": {}
      },
      "source": [
        "class MNISTClassifier(nn.Module):\n",
        "    def __init__(self):\n",
        "        super().__init__()\n",
        "        self.model_head = nn.Sequential(\n",
        "            # input is (nc) x 32 x 32\n",
        "            nn.Conv2d(nc, ndf, 4, 2, 1, bias=False),\n",
        "            nn.BatchNorm2d(ndf),\n",
        "            nn.LeakyReLU(0.2, inplace=True),\n",
        "            # state size. (ndf) x 14 x 14\n",
        "            nn.Conv2d(ndf, ndf * 2, 4, 2, 1, bias=False),\n",
        "            nn.BatchNorm2d(ndf * 2),\n",
        "            nn.LeakyReLU(0.2, inplace=True),\n",
        "            # state size. (ndf*2) x 8 x 8\n",
        "            nn.Conv2d(ndf * 2, ndf * 4, 4, 2, 1, bias=False),\n",
        "            nn.BatchNorm2d(ndf * 4),\n",
        "            nn.LeakyReLU(0.2, inplace=True)\n",
        "        )\n",
        "\n",
        "        self.classes = nn.Sequential(\n",
        "            nn.Linear(ndf*4*4*4,CLASSES),\n",
        "            nn.LogSoftmax()\n",
        "        )\n",
        "    def forward(self, input):\n",
        "        out = self.model_head(input)\n",
        "        flatten = out.view(-1 , ndf*4*4*4)\n",
        "        classes = self.classes(flatten)\n",
        "        return classes.cuda()"
      ],
      "execution_count": null,
      "outputs": []
    },
    {
      "cell_type": "code",
      "metadata": {
        "id": "gZIwQn2E7zGB",
        "colab_type": "code",
        "colab": {}
      },
      "source": [
        "G = Generator().to(device)\n",
        "D = Discriminator().to(device)\n",
        "criterion_disc = nn.BCEWithLogitsLoss()\n",
        "criterion_aux = nn.NLLLoss()\n",
        "D_optimizer = optim.Adam(D.parameters(), lr=LR, betas=(0.5, 0.999))\n",
        "G_optimizer = optim.Adam(G.parameters(), lr=LR, betas=(0.5, 0.999))"
      ],
      "execution_count": null,
      "outputs": []
    },
    {
      "cell_type": "code",
      "metadata": {
        "id": "CxZtbQWZXxYp",
        "colab_type": "code",
        "colab": {}
      },
      "source": [
        "classifier = MNISTClassifier().to(device)\n",
        "optimizer = optim.Adam(classifier.parameters(), lr = LR, betas=(0.5, 0.999))"
      ],
      "execution_count": null,
      "outputs": []
    },
    {
      "cell_type": "code",
      "metadata": {
        "id": "uYzNypasydpJ",
        "colab_type": "code",
        "colab": {}
      },
      "source": [
        "def fgsm(img , epsilon , data_grad):\n",
        "  new_image = img.cuda() + epsilon*data_grad.cuda().sign()\n",
        "  new_image = torch.clamp(new_image, -1, 1)\n",
        "  return new_image"
      ],
      "execution_count": null,
      "outputs": []
    },
    {
      "cell_type": "code",
      "metadata": {
        "id": "tN9IgsyUyUy0",
        "colab_type": "code",
        "colab": {}
      },
      "source": [
        "def perturb_image(img , Model , label , GAN):\n",
        "  #x = img.clone()\n",
        "  img.requires_grad = True\n",
        "  output = Model(img)\n",
        "  if GAN == True:\n",
        "    loss = criterion_aux(output['disc_classes'] , label)\n",
        "  else:\n",
        "    loss = criterion_aux(output , label)\n",
        "  loss.backward()\n",
        "  data_grad = img.grad.data\n",
        "  Model.zero_grad()\n",
        "  new_image = fgsm(x , epsilon , data_grad)\n",
        "  return new_image"
      ],
      "execution_count": null,
      "outputs": []
    },
    {
      "cell_type": "code",
      "metadata": {
        "id": "kAB7pIVGokyL",
        "colab_type": "code",
        "colab": {}
      },
      "source": [
        "def D_train_adverserial(x , label , train):\n",
        "  #x_real, y_real = x.view(BATCH_SIZE, nc, img_dim, img_dim).cuda(), torch.ones(BATCH_SIZE, 1).cuda()\n",
        "  x_real, y_real = x.view(BATCH_SIZE, nc, img_dim, img_dim).cuda(),torch.FloatTensor(BATCH_SIZE,1 ).uniform_(0.8, 1.1).cuda()\n",
        "  fake_label = torch.randint(10 , (BATCH_SIZE,)).cuda()\n",
        "  onehot = torch.zeros(BATCH_SIZE, CLASSES)\n",
        "  onehot[np.arange(BATCH_SIZE), fake_label] = 1\n",
        "  noise = torch.randn(BATCH_SIZE, nz)\n",
        "  noise[np.arange(BATCH_SIZE) , :CLASSES] = onehot[np.arange(BATCH_SIZE)]\n",
        "  z = noise.view(BATCH_SIZE, nz, 1, 1).to(device) \n",
        "  if train == True:\n",
        "    G.train()\n",
        "    D.train()\n",
        "    D.zero_grad()\n",
        "\n",
        "    # train discriminator on real\n",
        "    #x_fake, y_fake = G(z), torch.zeros(BATCH_SIZE, 1).to(device)\n",
        "    x_fake, y_fake = G(z), torch.FloatTensor(BATCH_SIZE,1 ).uniform_(0, 0.3).cuda()\n",
        "    img = x_real.clone()\n",
        "    x_perturb = perturb_image(img , D , label , GAN = True)\n",
        "\n",
        "    with torch.cuda.amp.autocast():\n",
        "      data = D(x_real)\n",
        "      D_output1_disc = data['disc_output']\n",
        "      D_output1_aux = data['disc_classes']\n",
        "      D_real_disc_loss = criterion_disc(D_output1_disc, y_real)\n",
        "      D_real_aux_loss = criterion_aux(D_output1_aux , label)\n",
        "      D_real_loss = D_real_disc_loss+D_real_aux_loss\n",
        "    #D_real_loss.backward(retain_graph = True)\n",
        "    scaler.scale(D_real_loss).backward(retain_graph = True)\n",
        "\n",
        "    with torch.cuda.amp.autocast():\n",
        "      data = D(x_perturb)\n",
        "      D_output1_discP = data['disc_output']\n",
        "      D_output1_auxP = data['disc_classes']\n",
        "      D_real_disc_lossP = criterion_disc(D_output1_discP, y_real)\n",
        "      D_real_aux_lossP = criterion_aux(D_output1_auxP , label)\n",
        "      D_real_lossP = D_real_disc_lossP+D_real_aux_lossP\n",
        "      #D_real_lossP = D_real_lossP*0.5\n",
        "    #D_real_lossP.backward()\n",
        "    scaler.scale(D_real_lossP).backward()\n",
        "\n",
        "    D_real_clasf_loss = D_real_aux_lossP + D_real_aux_loss\n",
        "    # train discriminator on fake\n",
        "    with torch.cuda.amp.autocast():\n",
        "      data = D(x_fake)\n",
        "      D_output2_disc = data['disc_output']\n",
        "      D_output2_aux = data['disc_classes']\n",
        "      D_fake_disc_loss = criterion_disc(D_output2_disc, y_fake)\n",
        "      D_fake_aux_loss = criterion_aux(D_output2_aux, fake_label)\n",
        "      D_fake_loss = D_fake_disc_loss+D_fake_aux_loss\n",
        "    #D_fake_loss.backward()\n",
        "    scaler.scale(D_fake_loss).backward()\n",
        "\n",
        "    # gradient backprop & optimize ONLY D's parameters\n",
        "    D_loss = D_real_aux_lossP + D_real_aux_loss\n",
        "    #D_loss.backward()\n",
        "    #D_optimizer.step()\n",
        "    scaler.step(D_optimizer) \n",
        "    scaler.update() \n",
        "    #print(D_output1_aux.shape)\n",
        "    return {\n",
        "        'loss' : D_real_clasf_loss.data.item() ,\n",
        "        'outputP' : D_output1_auxP,\n",
        "        'output' : D_output1_aux\n",
        "    }\n",
        "  else:\n",
        "    with torch.cuda.amp.autocast():\n",
        "      D.train()\n",
        "      data = D(x_real)\n",
        "      D_output1_disc = data['disc_output']\n",
        "      D_output1_aux = data['disc_classes']\n",
        "    return {\n",
        "        'loss' : D_output1_disc ,\n",
        "        'output' : D_output1_aux\n",
        "    }\n",
        "  \n"
      ],
      "execution_count": null,
      "outputs": []
    },
    {
      "cell_type": "code",
      "metadata": {
        "id": "sAZuPpXnE9k_",
        "colab_type": "code",
        "colab": {}
      },
      "source": [
        "def G_train(label):\n",
        "    G.train()\n",
        "    D.train()\n",
        "    G.zero_grad()\n",
        "    \n",
        "    z = torch.randn(BATCH_SIZE, nz, 1, 1).to(device)\n",
        "    fake_label = torch.randint(10 , (BATCH_SIZE,))\n",
        "    onehot = torch.zeros(BATCH_SIZE, CLASSES)\n",
        "    onehot[np.arange(BATCH_SIZE), label] = 1\n",
        "    noise = torch.randn(BATCH_SIZE, nz)\n",
        "    noise[np.arange(BATCH_SIZE) , :CLASSES] = onehot[np.arange(BATCH_SIZE)]\n",
        "    z = noise.view(BATCH_SIZE, nz, 1, 1).to(device)\n",
        "\n",
        "    y0 = torch.FloatTensor(BATCH_SIZE,1 ).uniform_(0.8, 1).cuda()\n",
        "    with torch.cuda.amp.autocast():\n",
        "      G_output = G(z)\n",
        "      data = D(G_output)\n",
        "      D_output_disc = data['disc_output']\n",
        "      D_output_aux = data['disc_classes']\n",
        "      G_disc_loss = criterion_disc(D_output_disc, y0)\n",
        "      G_aux_loss = criterion_aux(D_output_aux , label)\n",
        "      G_loss = G_disc_loss+G_aux_loss\n",
        "\n",
        "    # gradient backprop & optimize ONLY G's parameters\n",
        "    #G_loss.backward()\n",
        "    scaler.scale(G_loss).backward()\n",
        "    #G_optimizer.step()\n",
        "    scaler.step(G_optimizer) \n",
        "    G.zero_grad()\n",
        "    scaler.update() \n",
        "        \n",
        "    return G_loss.data.item() , G_output"
      ],
      "execution_count": null,
      "outputs": []
    },
    {
      "cell_type": "code",
      "metadata": {
        "id": "BItK7IDJQQFX",
        "colab_type": "code",
        "colab": {}
      },
      "source": [
        "Accuracy_GAN_train = []\n",
        "Accuracy_GAN_test = []\n",
        "Accuracy_GAN_FGSM = []"
      ],
      "execution_count": null,
      "outputs": []
    },
    {
      "cell_type": "code",
      "metadata": {
        "id": "TOY3PuYd64HI",
        "colab_type": "code",
        "colab": {}
      },
      "source": [
        "Accuracy_Clasf_train = []\n",
        "Accuracy_Clasf_test = []\n",
        "Accuracy_Clasf_FGSM = []"
      ],
      "execution_count": null,
      "outputs": []
    },
    {
      "cell_type": "code",
      "metadata": {
        "id": "62WIGkMZcOSf",
        "colab_type": "code",
        "colab": {}
      },
      "source": [
        "n_epoch = 15\n",
        "\n"
      ],
      "execution_count": null,
      "outputs": []
    },
    {
      "cell_type": "code",
      "metadata": {
        "id": "WvKb0bw-FDD4",
        "colab_type": "code",
        "colab": {
          "base_uri": "https://localhost:8080/",
          "height": 1000
        },
        "outputId": "bafb83bc-9a5e-41a2-e845-e11a5db65c3b"
      },
      "source": [
        "#LR = 2e-3\n",
        "#D_optimizer = optim.Adam(D.parameters(), lr=LR, betas=(0.5, 0.999))\n",
        "#G_optimizer = optim.Adam(G.parameters(), lr=LR, betas=(0.5, 0.999))\n",
        "for epoch in range(1, n_epoch+1):\n",
        "    #if epoch % 5 == 0:\n",
        "    #  LR = LR/2\n",
        "    #  D_optimizer = optim.Adam(D.parameters(), lr=LR, betas=(0.5, 0.999))\n",
        "    #  G_optimizer = optim.Adam(G.parameters(), lr=LR, betas=(0.5, 0.999))\n",
        "    correct = 0\n",
        "    total = 0    \n",
        "    correct1 = 0\n",
        "    total1 = 0\n",
        "    Accuracy_train = []       \n",
        "    D_losses, G_losses = [], []\n",
        "        #=======================Train=======================#\n",
        "    for batch_idx, (x, label) in enumerate(train_loader):\n",
        "        #d  = D_train(x , label.cuda() , train = True)\n",
        "        d  = D_train_adverserial(x , label.cuda() , train = True)\n",
        "        d_loss = d['loss']\n",
        "        output = d['output']\n",
        "        outputP = d['outputP']\n",
        "        \n",
        "        g_loss , g_images= G_train(label.cuda())\n",
        "        D_losses.append(d_loss)\n",
        "        G_losses.append(g_loss)\n",
        "\n",
        "        for idx ,i in enumerate(output):\n",
        "          if torch.argmax(i) == label[idx]:\n",
        "            correct += 1\n",
        "          total += 1\n",
        "        \n",
        "        for idx ,i in enumerate(outputP):\n",
        "          if torch.argmax(i) == label[idx]:\n",
        "            correct1 += 1\n",
        "          total1 += 1\n",
        "        if batch_idx % 100 == 0 and not batch_idx == 0:\n",
        "          print('alomst 100')\n",
        "        #if batch_idx % 5 == 0 and not batch_idx == 0:\n",
        "          #print(label.size(0))\n",
        "          #g_images = g_images.resize(BATCH_SIZE,3,img_dim,img_dim)\n",
        "          #display_grid(g_images)\n",
        "          #break\n",
        "          #display_grid(x)\n",
        "          #print('D(X) : {:}   || D(G(Z)) : {:}'.format(d_loss , g_loss))\n",
        "    Accuracy_GAN_train.append(correct/total)\n",
        "    print('[%d/%d]: loss_d: %.3f, loss_g: %.3f' % (\n",
        "            (epoch), n_epoch, torch.mean(torch.FloatTensor(D_losses)), torch.mean(torch.FloatTensor(G_losses))))\n",
        "    print('Accuracy Training regular: ' , round(correct/total , 4))\n",
        "    print('Accuracy Training adv: ' , round(correct1/total1 , 4))\n",
        "    correct = 0\n",
        "    total = 0\n",
        "    #=======================Test=======================#\n",
        "    with torch.no_grad():\n",
        "      for batch_idx, (x, label) in enumerate(test_loader):\n",
        "          with torch.cuda.amp.autocast():\n",
        "            d  = D_train_adverserial(x , label.cuda() , train = False)\n",
        "            output = d['output']\n",
        "          for idx ,i in enumerate(output):\n",
        "            if torch.argmax(i) == label[idx]:\n",
        "              correct += 1\n",
        "            total += 1\n",
        "      Accuracy_GAN_test.append(correct/total)\n",
        "      print('Accuracy Testing : ' , round(correct/total , 4))\n",
        "    #=======================Adverserial Test=======================# \n",
        "    correct = 0\n",
        "    total = 0\n",
        "    D.train()\n",
        "    for batch_idx, (x, label) in enumerate(test_loader):\n",
        "\n",
        "      x = x.view(BATCH_SIZE, nc, img_dim, img_dim).cuda()\n",
        "      img = x.clone()\n",
        "      with torch.cuda.amp.autocast():\n",
        "        x_perturb = perturb_image(img , D , label.cuda() , GAN = True)\n",
        "      \n",
        "      with torch.no_grad():\n",
        "        with torch.cuda.amp.autocast():\n",
        "        #new_img = fgsm(x , epsilon , data_grad)\n",
        "          data = D(x_perturb)\n",
        "          new_output = data['disc_classes']\n",
        "        for idx , i in enumerate(new_output):\n",
        "          if torch.argmax(i) == label[idx]:\n",
        "            correct += 1\n",
        "          total += 1\n",
        "    Accuracy_GAN_FGSM.append(correct/total)\n",
        "    print(\"Accuracy FGSM: \" , round(correct/total , 4))\n"
      ],
      "execution_count": null,
      "outputs": [
        {
          "output_type": "stream",
          "text": [
            "/usr/local/lib/python3.6/dist-packages/torch/nn/modules/container.py:117: UserWarning: Implicit dimension choice for log_softmax has been deprecated. Change the call to include dim=X as an argument.\n",
            "  input = module(input)\n"
          ],
          "name": "stderr"
        },
        {
          "output_type": "stream",
          "text": [
            "alomst 100\n",
            "alomst 100\n",
            "alomst 100\n",
            "[1/15]: loss_d: 1.298, loss_g: 1.994\n",
            "Accuracy Training regular:  0.691\n",
            "Accuracy Training adv:  0.9053\n",
            "Accuracy Testing :  0.7042\n",
            "Accuracy FGSM:  0.9374\n",
            "alomst 100\n",
            "alomst 100\n",
            "alomst 100\n",
            "[2/15]: loss_d: 1.164, loss_g: 1.998\n",
            "Accuracy Training regular:  0.7053\n",
            "Accuracy Training adv:  0.9196\n",
            "Accuracy Testing :  0.7188\n",
            "Accuracy FGSM:  0.9558\n",
            "alomst 100\n",
            "alomst 100\n",
            "alomst 100\n",
            "[3/15]: loss_d: 1.101, loss_g: 1.977\n",
            "Accuracy Training regular:  0.7111\n",
            "Accuracy Training adv:  0.9221\n",
            "Accuracy Testing :  0.7219\n",
            "Accuracy FGSM:  0.94\n",
            "alomst 100\n",
            "alomst 100\n",
            "alomst 100\n",
            "[4/15]: loss_d: 1.052, loss_g: 1.996\n",
            "Accuracy Training regular:  0.7189\n",
            "Accuracy Training adv:  0.9279\n",
            "Accuracy Testing :  0.6832\n",
            "Accuracy FGSM:  0.841\n",
            "alomst 100\n",
            "alomst 100\n",
            "alomst 100\n",
            "[5/15]: loss_d: 0.992, loss_g: 2.012\n",
            "Accuracy Training regular:  0.7244\n",
            "Accuracy Training adv:  0.9334\n",
            "Accuracy Testing :  0.7164\n",
            "Accuracy FGSM:  0.9415\n",
            "alomst 100\n",
            "alomst 100\n",
            "alomst 100\n",
            "[6/15]: loss_d: 1.136, loss_g: 1.979\n",
            "Accuracy Training regular:  0.7249\n",
            "Accuracy Training adv:  0.9159\n",
            "Accuracy Testing :  0.7308\n",
            "Accuracy FGSM:  0.9548\n",
            "alomst 100\n",
            "alomst 100\n",
            "alomst 100\n",
            "[7/15]: loss_d: 0.992, loss_g: 2.037\n",
            "Accuracy Training regular:  0.7369\n",
            "Accuracy Training adv:  0.9326\n",
            "Accuracy Testing :  0.7196\n",
            "Accuracy FGSM:  0.9413\n",
            "alomst 100\n",
            "alomst 100\n",
            "alomst 100\n",
            "[8/15]: loss_d: 0.956, loss_g: 2.114\n",
            "Accuracy Training regular:  0.7377\n",
            "Accuracy Training adv:  0.9335\n",
            "Accuracy Testing :  0.724\n",
            "Accuracy FGSM:  0.9312\n",
            "alomst 100\n",
            "alomst 100\n",
            "alomst 100\n",
            "[9/15]: loss_d: 1.100, loss_g: 2.106\n",
            "Accuracy Training regular:  0.7381\n",
            "Accuracy Training adv:  0.9131\n",
            "Accuracy Testing :  0.7326\n",
            "Accuracy FGSM:  0.9317\n",
            "alomst 100\n",
            "alomst 100\n",
            "alomst 100\n",
            "[10/15]: loss_d: 1.099, loss_g: 2.106\n",
            "Accuracy Training regular:  0.7358\n",
            "Accuracy Training adv:  0.9106\n",
            "Accuracy Testing :  0.7333\n",
            "Accuracy FGSM:  0.9469\n",
            "alomst 100\n",
            "alomst 100\n",
            "alomst 100\n",
            "[11/15]: loss_d: 0.917, loss_g: 2.093\n",
            "Accuracy Training regular:  0.7531\n",
            "Accuracy Training adv:  0.932\n",
            "Accuracy Testing :  0.7289\n",
            "Accuracy FGSM:  0.9395\n",
            "alomst 100\n",
            "alomst 100\n",
            "alomst 100\n",
            "[12/15]: loss_d: 0.914, loss_g: 2.099\n",
            "Accuracy Training regular:  0.7552\n",
            "Accuracy Training adv:  0.9311\n",
            "Accuracy Testing :  0.7439\n",
            "Accuracy FGSM:  0.9386\n",
            "alomst 100\n",
            "alomst 100\n",
            "alomst 100\n",
            "[13/15]: loss_d: 1.288, loss_g: 2.066\n",
            "Accuracy Training regular:  0.7324\n",
            "Accuracy Training adv:  0.8687\n",
            "Accuracy Testing :  0.7473\n",
            "Accuracy FGSM:  0.9514\n",
            "alomst 100\n",
            "alomst 100\n",
            "alomst 100\n",
            "[14/15]: loss_d: 0.870, loss_g: 2.052\n",
            "Accuracy Training regular:  0.7634\n",
            "Accuracy Training adv:  0.9384\n",
            "Accuracy Testing :  0.754\n",
            "Accuracy FGSM:  0.9373\n",
            "alomst 100\n",
            "alomst 100\n",
            "alomst 100\n",
            "[15/15]: loss_d: 1.114, loss_g: 2.125\n",
            "Accuracy Training regular:  0.7528\n",
            "Accuracy Training adv:  0.892\n",
            "Accuracy Testing :  0.7625\n",
            "Accuracy FGSM:  0.9466\n"
          ],
          "name": "stdout"
        }
      ]
    },
    {
      "cell_type": "code",
      "metadata": {
        "id": "mn-y203xn7QL",
        "colab_type": "code",
        "colab": {
          "base_uri": "https://localhost:8080/",
          "height": 281
        },
        "outputId": "656393c6-9dbf-4815-85d3-4bcd55215fd0"
      },
      "source": [
        "x1 = Accuracy_GAN_train\n",
        "x2 = Accuracy_GAN_test\n",
        "x3 = Accuracy_GAN_FGSM\n",
        "plt.plot(x1  , label = 'train')\n",
        "plt.plot(x2  ,  label = 'test')\n",
        "plt.plot(x3 ,  label = 'FGSM')\n",
        "plt.xlabel('Epochs')\n",
        "plt.ylabel('Accuracy')\n",
        "plt.legend()\n",
        "plt.show()"
      ],
      "execution_count": null,
      "outputs": [
        {
          "output_type": "display_data",
          "data": {
            "image/png": "[encoded data removed]",
            "text/plain": [
              "<Figure size 432x288 with 1 Axes>"
            ]
          },
          "metadata": {
            "tags": [],
            "needs_background": "light"
          }
        }
      ]
    },
    {
      "cell_type": "code",
      "metadata": {
        "id": "gegAZvmdaDp-",
        "colab_type": "code",
        "colab": {
          "base_uri": "https://localhost:8080/",
          "height": 1000
        },
        "outputId": "237ecc75-0723-49ad-b827-9d8545330e5f"
      },
      "source": [
        "#LR = 2e-3\n",
        "#optimizer = optim.Adam(classifier.parameters(), lr = LR, betas=(0.5, 0.999))\n",
        "for epoch in range(0, n_epoch): \n",
        "   # if epoch % 5 == 0:\n",
        "   #   LR = LR/2\n",
        "   #   optimizer = optim.Adam(classifier.parameters(), lr = LR, betas=(0.5, 0.999))\n",
        "    epochs.append(epoch)\n",
        "    #=======================Train=======================#\n",
        "    classifier.train()\n",
        "    correct = 0\n",
        "    total = 0\n",
        "    correct1 = 0\n",
        "    total1 = 0\n",
        "    print('======== Epoch {:} / {:} ========'.format(epoch+1, n_epoch))          \n",
        "    #D_losses, G_losses = [], []\n",
        "    for batch_idx, (x, label) in enumerate(train_loader):\n",
        "      \n",
        "        optimizer.zero_grad()\n",
        "        x_real = x.view(BATCH_SIZE, nc, img_dim, img_dim).cuda()\n",
        "        img = x_real.clone()\n",
        "        #adverserial trainig \n",
        "        with torch.cuda.amp.autocast(): \n",
        "          x_perturb = perturb_image(img , classifier , label.cuda() , GAN = False)\n",
        "          output1 = classifier(x_perturb)\n",
        "          loss1 = criterion_aux(output1 , label.cuda())\n",
        "        #loss.backward()\n",
        "        scaler.scale(loss1).backward() \n",
        "        with torch.cuda.amp.autocast():   \n",
        "          output = classifier(x_real)\n",
        "          loss = criterion_aux(output , label.cuda())\n",
        "          #loss1.backward(retain_graph=True)\n",
        "        scaler.scale(loss).backward() \n",
        "        #optimizer.step()\n",
        "        scaler.step(optimizer) \n",
        "        scaler.update()\n",
        "         \n",
        "\n",
        "        new_loss = loss + loss1\n",
        "\n",
        "        for idx ,i in enumerate(output):\n",
        "          if torch.argmax(i) == label[idx]:\n",
        "            correct += 1\n",
        "          total += 1\n",
        "\n",
        "        for idx ,i in enumerate(output1):\n",
        "          if torch.argmax(i) == label[idx]:\n",
        "            correct1 += 1\n",
        "          total1 += 1\n",
        "\n",
        "        if batch_idx % 375 == 0 and not batch_idx == 0: \n",
        "          #g_images = new_img.resize(BATCH_SIZE,nc,img_dim,img_dim)\n",
        "          #display_grid(g_images)\n",
        "          print('|| loss : {:} '.format(new_loss.mean().item())) \n",
        "\n",
        "    Accuracy_Clasf_train.append(correct/total)\n",
        "    print('Accuracy Training regular: ' , round(correct/total , 4))\n",
        "    print('Accuracy Training adv: ' , round(correct1/total1 , 4))\n",
        "    #=======================Test=======================#    \n",
        "    correct = 0\n",
        "    total = 0\n",
        "    classifier.train()\n",
        "    with torch.cuda.amp.autocast():\n",
        "      with torch.no_grad():\n",
        "        for batch_idx, (x, label) in enumerate(test_loader):\n",
        "          x_real = x.view(BATCH_SIZE, nc, img_dim, img_dim).cuda()\n",
        "          output = classifier(x_real)\n",
        "          for idx ,i in enumerate(output):\n",
        "            if torch.argmax(i) == label[idx]:\n",
        "              correct += 1\n",
        "            total += 1\n",
        "    Accuracy_Clasf_test.append(correct/total)\n",
        "    print('Accuracy Testing : ' , round(correct/total , 4))\n",
        "    #=======================Adverserial Test=======================# \n",
        "    correct = 0\n",
        "    total = 0\n",
        "    classifier.train()\n",
        "    for batch_idx, (x, label) in enumerate(test_loader):\n",
        "      with torch.cuda.amp.autocast():\n",
        "        x = x.view(BATCH_SIZE, nc, img_dim, img_dim).cuda()\n",
        "        img = x.clone()\n",
        "        new_img = perturb_image(img , classifier , label.cuda() , GAN = False)\n",
        "        new_output = classifier(new_img)\n",
        "      \n",
        "\n",
        "      for idx , i in enumerate(new_output):\n",
        "        if torch.argmax(i) == label[idx]:\n",
        "          correct += 1\n",
        "        total += 1\n",
        "    Accuracy_Clasf_FGSM.append(correct/total)\n",
        "    print(\"Accuracy FGSM: \" , round(correct/total , 4))\n",
        "    "
      ],
      "execution_count": null,
      "outputs": [
        {
          "output_type": "stream",
          "text": [
            "======== Epoch 1 / 15 ========\n"
          ],
          "name": "stdout"
        },
        {
          "output_type": "stream",
          "text": [
            "/usr/local/lib/python3.6/dist-packages/torch/nn/modules/container.py:117: UserWarning: Implicit dimension choice for log_softmax has been deprecated. Change the call to include dim=X as an argument.\n",
            "  input = module(input)\n"
          ],
          "name": "stderr"
        },
        {
          "output_type": "stream",
          "text": [
            "|| loss : 0.8397766351699829 \n",
            "Accuracy Training regular:  0.7312\n",
            "Accuracy Training adv:  0.9179\n",
            "Accuracy Testing :  0.7217\n",
            "Accuracy FGSM:  0.9191\n",
            "======== Epoch 2 / 15 ========\n",
            "|| loss : 1.2609044313430786 \n",
            "Accuracy Training regular:  0.7371\n",
            "Accuracy Training adv:  0.9179\n",
            "Accuracy Testing :  0.7228\n",
            "Accuracy FGSM:  0.9246\n",
            "======== Epoch 3 / 15 ========\n",
            "|| loss : 0.9510232210159302 \n",
            "Accuracy Training regular:  0.7456\n",
            "Accuracy Training adv:  0.9171\n",
            "Accuracy Testing :  0.73\n",
            "Accuracy FGSM:  0.9233\n",
            "======== Epoch 4 / 15 ========\n",
            "|| loss : 1.2687129974365234 \n",
            "Accuracy Training regular:  0.7515\n",
            "Accuracy Training adv:  0.9174\n",
            "Accuracy Testing :  0.7368\n",
            "Accuracy FGSM:  0.9253\n",
            "======== Epoch 5 / 15 ========\n",
            "|| loss : 0.9644755125045776 \n",
            "Accuracy Training regular:  0.7551\n",
            "Accuracy Training adv:  0.9191\n",
            "Accuracy Testing :  0.7296\n",
            "Accuracy FGSM:  0.9232\n",
            "======== Epoch 6 / 15 ========\n",
            "|| loss : 0.649945080280304 \n",
            "Accuracy Training regular:  0.7571\n",
            "Accuracy Training adv:  0.9203\n",
            "Accuracy Testing :  0.7422\n",
            "Accuracy FGSM:  0.9272\n",
            "======== Epoch 7 / 15 ========\n",
            "|| loss : 1.1255742311477661 \n",
            "Accuracy Training regular:  0.7644\n",
            "Accuracy Training adv:  0.9212\n",
            "Accuracy Testing :  0.739\n",
            "Accuracy FGSM:  0.9132\n",
            "======== Epoch 8 / 15 ========\n",
            "|| loss : 0.8689098358154297 \n",
            "Accuracy Training regular:  0.764\n",
            "Accuracy Training adv:  0.9176\n",
            "Accuracy Testing :  0.7545\n",
            "Accuracy FGSM:  0.9194\n",
            "======== Epoch 9 / 15 ========\n",
            "|| loss : 0.9841778874397278 \n",
            "Accuracy Training regular:  0.7656\n",
            "Accuracy Training adv:  0.9225\n",
            "Accuracy Testing :  0.7501\n",
            "Accuracy FGSM:  0.9124\n",
            "======== Epoch 10 / 15 ========\n",
            "|| loss : 0.7206190824508667 \n",
            "Accuracy Training regular:  0.7721\n",
            "Accuracy Training adv:  0.9194\n",
            "Accuracy Testing :  0.7546\n",
            "Accuracy FGSM:  0.9137\n",
            "======== Epoch 11 / 15 ========\n",
            "|| loss : 0.9193618893623352 \n",
            "Accuracy Training regular:  0.7766\n",
            "Accuracy Training adv:  0.9205\n",
            "Accuracy Testing :  0.7555\n",
            "Accuracy FGSM:  0.8909\n",
            "======== Epoch 12 / 15 ========\n",
            "|| loss : 0.7157968282699585 \n",
            "Accuracy Training regular:  0.7784\n",
            "Accuracy Training adv:  0.9199\n",
            "Accuracy Testing :  0.7644\n",
            "Accuracy FGSM:  0.9277\n",
            "======== Epoch 13 / 15 ========\n",
            "|| loss : 0.6755280494689941 \n",
            "Accuracy Training regular:  0.7811\n",
            "Accuracy Training adv:  0.9186\n",
            "Accuracy Testing :  0.7589\n",
            "Accuracy FGSM:  0.9343\n",
            "======== Epoch 14 / 15 ========\n",
            "|| loss : 0.9333677291870117 \n",
            "Accuracy Training regular:  0.7836\n",
            "Accuracy Training adv:  0.9246\n",
            "Accuracy Testing :  0.7586\n",
            "Accuracy FGSM:  0.9362\n",
            "======== Epoch 15 / 15 ========\n",
            "|| loss : 1.1941591501235962 \n",
            "Accuracy Training regular:  0.785\n",
            "Accuracy Training adv:  0.9157\n",
            "Accuracy Testing :  0.7669\n",
            "Accuracy FGSM:  0.9195\n"
          ],
          "name": "stdout"
        }
      ]
    },
    {
      "cell_type": "code",
      "metadata": {
        "id": "TYHvlUwrg89T",
        "colab_type": "code",
        "colab": {
          "base_uri": "https://localhost:8080/",
          "height": 279
        },
        "outputId": "7940e37d-42c4-439d-8093-19689875428c"
      },
      "source": [
        "x1 = Accuracy_Clasf_train\n",
        "x2 = Accuracy_Clasf_test\n",
        "x3 = Accuracy_Clasf_FGSM\n",
        "plt.plot(x1  , label = 'train')\n",
        "plt.plot(x2  ,  label = 'test')\n",
        "plt.plot(x3  ,  label = 'FGSM')\n",
        "plt.xlabel('Epochs')\n",
        "plt.ylabel('Accuracy')\n",
        "plt.legend()\n",
        "plt.show()"
      ],
      "execution_count": null,
      "outputs": [
        {
          "output_type": "display_data",
          "data": {
            "image/png": "[encoded data removed]",
            "text/plain": [
              "<Figure size 432x288 with 1 Axes>"
            ]
          },
          "metadata": {
            "tags": [],
            "needs_background": "light"
          }
        }
      ]
    },
    {
      "cell_type": "code",
      "metadata": {
        "id": "WHb9KBJuhP-k",
        "colab_type": "code",
        "colab": {}
      },
      "source": [
        ""
      ],
      "execution_count": null,
      "outputs": []
    }
  ]
}